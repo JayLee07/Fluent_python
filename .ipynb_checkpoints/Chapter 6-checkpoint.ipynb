{
 "cells": [
  {
   "cell_type": "markdown",
   "metadata": {},
   "source": [
    "## 6.1 Refactoring Strategy"
   ]
  },
  {
   "cell_type": "markdown",
   "metadata": {},
   "source": [
    "### 6.1.1Classic Starategy"
   ]
  },
  {
   "cell_type": "code",
   "execution_count": 2,
   "metadata": {
    "collapsed": true
   },
   "outputs": [],
   "source": [
    "from collections import namedtuple\n",
    "from abc import ABC, abstractmethod"
   ]
  },
  {
   "cell_type": "code",
   "execution_count": 22,
   "metadata": {},
   "outputs": [],
   "source": [
    "class LineItem:\n",
    "    def __init__(self, product, quantity, price):\n",
    "        self.product = product\n",
    "        self.quantity = quantity\n",
    "        self.price = price\n",
    "    def total(self):\n",
    "        return self.price * self.quantity\n",
    "\n",
    "class Order:\n",
    "    def __init__(self, customer, cart, promotion=None):\n",
    "        self.customer = customer\n",
    "        self.cart = list(cart)\n",
    "        self.promotion = promotion\n",
    "    def total(self):\n",
    "        self.__total = sum(item.total() for item in self.cart)\n",
    "        return self.__total\n",
    "    def due(self):\n",
    "        if self.promotion is None:\n",
    "            disc = 0\n",
    "        else:\n",
    "            disc = self.promotion.discount(self)\n",
    "        return self.total() - disc\n",
    "    def __repr__(self):\n",
    "        fmt = '<Order Total: {:.2f}, due: {:.2f}>'\n",
    "        return fmt.format(self.total(), self.due())\n",
    "    \n",
    "class Promotion(ABC): #Strategy: Abstract Base Class\n",
    "    @abstractmethod\n",
    "    def discount(self, order):\n",
    "        \"\"\"Return disc_amt\"\"\"\n",
    "\n",
    "class FidelityPromotion(Promotion):\n",
    "    def discount(self, order):\n",
    "        return order.total() * 0.05 if order.customer.fidelity >= 1000 else 0\n",
    "class BulkItemPromotion(Promotion):\n",
    "    def discount(self, order):\n",
    "        disc_amt = 0\n",
    "        for item in order.cart:\n",
    "            if item.quantity >= 20:\n",
    "                disc_amt += item.total() * 0.1\n",
    "        return disc_amt\n",
    "class LargeOrderPromotion(Promotion):\n",
    "    def discount(self, order):\n",
    "        distinct_items = [item.product for item in order.cart]\n",
    "        if len(distinct_items) >= 10:\n",
    "            return order.total() * 0.07\n",
    "        return 0 \n",
    "    \n",
    "Customer = namedtuple('Customer', 'name fidelity')\n",
    "john = Customer('John Doe', 0)\n",
    "ann = Customer('Ann Smith', 1100)\n",
    "cart = [LineItem('apple', 5, 2.0), LineItem('berry', 30, 0.5), LineItem('Chocolate', 30, 0.2)]\n",
    "longcart = [LineItem(str(item_code), 1, 1.0) for item_code in range(20)]\n",
    "# print(Order(ann, cart, FidelityPromotion()))\n",
    "# print(Order(john, cart, BulkItemPromotion()))\n",
    "# print(Order(john, cart, LargeOrderPromotion()))\n",
    "# print(Order(ann, longcart, FidelityPromotion()))\n",
    "# print(Order(john, longcart, BulkItemPromotion()))\n",
    "# print(Order(john, longcart, LargeOrderPromotion()))"
   ]
  },
  {
   "cell_type": "markdown",
   "metadata": {},
   "source": [
    "### 6.1.2 Function-oriented Strategy"
   ]
  },
  {
   "cell_type": "code",
   "execution_count": 29,
   "metadata": {},
   "outputs": [
    {
     "name": "stdout",
     "output_type": "stream",
     "text": [
      "<Order total: 31.00 due: 29.45>\n",
      "<Order total: 31.00 due: 28.90>\n",
      "<Order total: 31.00 due: 31.00>\n",
      "<Order total: 20.00 due: 19.00>\n",
      "<Order total: 20.00 due: 20.00>\n",
      "<Order total: 20.00 due: 18.60>\n"
     ]
    }
   ],
   "source": [
    "class LineItem:\n",
    "    def __init__(self, product, quantity, price):\n",
    "        self.product = product\n",
    "        self.quantity = quantity\n",
    "        self.price = price\n",
    "    def total(self):\n",
    "        return self.quantity * self.price\n",
    "    \n",
    "class Order: # Context\n",
    "    def __init__(self, customer, cart, promotion=None):\n",
    "        self.customer = customer\n",
    "        self.cart = list(cart)\n",
    "        self.promotion = promotion\n",
    "    def total(self):\n",
    "        self.__total = sum(lineitem.total() for lineitem in self.cart)\n",
    "        return self.__total\n",
    "    def due(self):\n",
    "        if self.promotion is None:\n",
    "            disc = 0\n",
    "        else:\n",
    "            disc = self.promotion(self)\n",
    "        return self.total() - disc\n",
    "    def __repr__(self):\n",
    "        fmt = '<Order total: {:.2f} due: {:.2f}>'\n",
    "        return fmt.format(self.total(), self.due())\n",
    "    \n",
    "def fidelity_promotion(order):\n",
    "    return order.total() * 0.05 if order.customer.fidelity>=1000 else 0\n",
    "def bulkitem_promotion(order):\n",
    "    disc_amt = 0\n",
    "    for lineitem in order.cart:\n",
    "        if lineitem.quantity >= 20:\n",
    "            disc_amt += lineitem.total() * 0.1\n",
    "    return disc_amt\n",
    "def largeorder_promotion(order):\n",
    "    distinct_items = [lineitem.product for lineitem in order.cart]\n",
    "    if len(distinct_items) >= 10:\n",
    "        return order.total() * 0.07\n",
    "    else:\n",
    "        return 0\n",
    "\n",
    "Customer = namedtuple('Customer', 'name fidelity')\n",
    "john = Customer('John Doe', 0)\n",
    "ann = Customer('Ann Smith', 1100)\n",
    "cart = [LineItem('apple', 5, 2.0), LineItem('berry', 30, 0.5), LineItem('Chocolate', 30, 0.2)]\n",
    "longcart = [LineItem(str(item_code), 1, 1.0) for item_code in range(20)]\n",
    "# print(Order(ann, cart, fidelity_promotion))\n",
    "# print(Order(john, cart, bulkitem_promotion))\n",
    "# print(Order(john, cart, largeorder_promotion))\n",
    "# print(Order(ann, longcart, fidelity_promotion))\n",
    "# print(Order(john, longcart, bulkitem_promotion))\n",
    "# print(Order(john, longcart, largeorder_promotion))"
   ]
  },
  {
   "cell_type": "code",
   "execution_count": null,
   "metadata": {
    "collapsed": true
   },
   "outputs": [],
   "source": []
  }
 ],
 "metadata": {
  "kernelspec": {
   "display_name": "Python 3",
   "language": "python",
   "name": "python3"
  },
  "language_info": {
   "codemirror_mode": {
    "name": "ipython",
    "version": 3
   },
   "file_extension": ".py",
   "mimetype": "text/x-python",
   "name": "python",
   "nbconvert_exporter": "python",
   "pygments_lexer": "ipython3",
   "version": "3.5.4"
  }
 },
 "nbformat": 4,
 "nbformat_minor": 2
}
