{
 "cells": [
  {
   "cell_type": "markdown",
   "metadata": {},
   "source": [
    "# Chapter10. Sequence hacking, hash, slice\n",
    "- 다음과 같은 기능을 지원하는 Vector class를 구현\n",
    "    - Sequence Protocol: len과 getitem method\n",
    "    - 여러 항목을 가진 객체를 안전하게 표현\n",
    "    - slicing을 지원해서 새로운 vector object 생성\n",
    "    - 포함된 component 값을 모두 고려한 set hashing\n",
    "    - customize한 format언어 확장\n",
    "    - read-only property였던 것을 교체하기 위해 \\__getattr__() method로 동적 속성 접근을 구현\n",
    "- protocol과 duck-typing\n"
   ]
  },
  {
   "cell_type": "markdown",
   "metadata": {},
   "source": [
    "## 10.2 Vector_v1: Vector2d의 호환\n",
    "- seq constructor(생성자)는 내장 seq처럼 반복형을 param으로 받게 하는 것이 좋음"
   ]
  },
  {
   "cell_type": "code",
   "execution_count": 1,
   "metadata": {
    "collapsed": true
   },
   "outputs": [],
   "source": [
    "from array import array\n",
    "import reprlib\n",
    "import math\n",
    "import collection"
   ]
  },
  {
   "cell_type": "code",
   "execution_count": 2,
   "metadata": {
    "collapsed": true
   },
   "outputs": [],
   "source": [
    "class Vector_v0:\n",
    "    typecode='d'\n",
    "\n",
    "    def __init__(self, components):\n",
    "        self._components = array(self.typecode, components)\n",
    "        \n",
    "    def __iter__(self):\n",
    "        return iter(self._components)\n",
    "    \n",
    "    def __repr__(self):\n",
    "        components = reprlib.repr(self._components) # array('d', [0, 1, 2, ...])처럼 표현하기 위한 reprlib.repr\n",
    "        components = components[components.find('['):-1] # 'array(' 와 'd'를 제거하여 표현하기 위함\n",
    "        return 'Vector({})'.format(components)\n",
    "    \n",
    "    def __str__(self):\n",
    "        return str(tuple(self))\n",
    "    \n",
    "    def __bytes__(self):\n",
    "        return (bytes([ord(self.typecode)]) + bytes(self._components))\n",
    "    \n",
    "    def __eq__(self, other):\n",
    "        return tuple(self) == tuple(other)\n",
    "    \n",
    "    def __abs__(self):\n",
    "        return math.sqrt(sum(x**2 for x in self))\n",
    "    \n",
    "    def __bool__(self):\n",
    "        return bool(abs(self))\n",
    "    \n",
    "    @classmethod\n",
    "    def frombytes(cls, octets):\n",
    "        typecode = chr(octets[0])\n",
    "        memv = memoryview(octets[1:]).cast(typecode)\n",
    "        return cls(memv)"
   ]
  },
  {
   "cell_type": "code",
   "execution_count": 5,
   "metadata": {},
   "outputs": [
    {
     "name": "stdout",
     "output_type": "stream",
     "text": [
      "Vector([3.1, 4.2])\n",
      "Vector([3.0, 4.0, 5.0])\n",
      "Vector([0.0, 1.0, 2.0, 3.0, 4.0, ...])\n"
     ]
    }
   ],
   "source": [
    "print(repr(Vector_v0([3.1, 4.2])))\n",
    "print(repr(Vector_v0((3,4,5))))\n",
    "print(repr(Vector_v0(range(10))))"
   ]
  },
  {
   "cell_type": "markdown",
   "metadata": {},
   "source": [
    "## 10.3 Protocol and duck-typing\n",
    "- OOP에서 protocol은 문서에만 정의되어 있고, 실제 code에서는 정의되지 않는 비공식 interface\n",
    "    - 예를 들어, python의 sequence protocol은 len()과 getitem() method를 동반할 뿐\n",
    "    - 해당 클래스의 superclass가 무엇인지는 중요하지 않음. 중요한 method만 제공하면 됨"
   ]
  },
  {
   "cell_type": "code",
   "execution_count": 7,
   "metadata": {
    "collapsed": true
   },
   "outputs": [],
   "source": [
    "import collections\n",
    "Card = collections.namedtuple('Card', ['rank', 'suit'])\n",
    "\n",
    "## __len__과 __getitem__method가 구현 --> sequence protocol\n",
    "class FrenchDeck:\n",
    "    rank = [str(n) for n in range(2,11)] + list('JQKA')\n",
    "    suits = 'spades diamonds clubs hearts'.split()\n",
    "    \n",
    "    def __init__(self):\n",
    "        self._cards = [Card(rank, suit) for suit in self.suits for rank in self.ranks]\n",
    "    \n",
    "    def __len__(self):\n",
    "        return len(self._cards)\n",
    "    \n",
    "    def __getitem__(self, position):\n",
    "        return self._cards[position]"
   ]
  },
  {
   "cell_type": "code",
   "execution_count": null,
   "metadata": {
    "collapsed": true
   },
   "outputs": [],
   "source": []
  }
 ],
 "metadata": {
  "kernelspec": {
   "display_name": "Python 3",
   "language": "python",
   "name": "python3"
  },
  "language_info": {
   "codemirror_mode": {
    "name": "ipython",
    "version": 3
   },
   "file_extension": ".py",
   "mimetype": "text/x-python",
   "name": "python",
   "nbconvert_exporter": "python",
   "pygments_lexer": "ipython3",
   "version": "3.5.4"
  }
 },
 "nbformat": 4,
 "nbformat_minor": 2
}
