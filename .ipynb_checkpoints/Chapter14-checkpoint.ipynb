{
 "cells": [
  {
   "cell_type": "markdown",
   "metadata": {},
   "source": [
    "# 14. 반복형(Iterables), 반복자(Iterators), Generator\n",
    "\n",
    "- Python의 collection은 모두 반복형. 다음 연산들을 지원하기 위해 내부적으로 반복자를 사용\n",
    "    - for loop\n",
    "    - collection형 생성과 확장\n",
    "    - text file을 1줄씩 반복\n",
    "    - list comprehension / dict comprehension / set comprehension\n",
    "    - tuple unpacking\n",
    "    - 함수를 호출할 때, 실제 parameter들을 unpacking (*args)\n",
    "- 다음과 같은 내용들을 다룬다.\n",
    "    - 반복형 object를 처리하기 위해, 내부적으로 iter() 내장 함수를 사용하는 방법\n",
    "    - Python에서 고전적인 반복자 패턴을 구현하는 방법\n",
    "    - Generator가 작동하는 방법\n",
    "    - 고전적인 반복자를 generator 함수나 generator 표현으로 바꾸는 방법\n",
    "    - 표준 library에서 범용 generator 함수의 활용\n",
    "    - generator를 결합하기 위해 새로 추가된 yield from 을 사용하는 방법\n",
    "    - Generator vs coroutine: 다른점 그리고 혼용하면 안되는 이유\n",
    "    - 사례연구"
   ]
  },
  {
   "cell_type": "markdown",
   "metadata": {},
   "source": [
    "## 14.1 Sentence ver.1: word sequence"
   ]
  },
  {
   "cell_type": "code",
   "execution_count": 3,
   "metadata": {
    "collapsed": true
   },
   "outputs": [],
   "source": [
    "# Example 14.1: 단어 sequence으로서의 Sentence Class\n",
    "import re\n",
    "import reprlib\n",
    "\n",
    "RE_WORD = re.compile('\\w+')\n",
    "\n",
    "class Sentence:\n",
    "    def __init__(self, text):\n",
    "        self.text = text\n",
    "        self.words = RE_WORD.findall(text)\n",
    "        \n",
    "    def __getitem__(self, index): # index를 받아서 단어를 반환\n",
    "        return self.words[index]\n",
    "    \n",
    "    def __len__(self):\n",
    "        return len(self.words)\n",
    "    \n",
    "    def __repr__(self):\n",
    "        return 'Sentence(%s)' %reprlib.repr(self.text) # reprlib.repr()은 생성할 문자열을 30자로 제한"
   ]
  },
  {
   "cell_type": "code",
   "execution_count": 10,
   "metadata": {},
   "outputs": [
    {
     "name": "stdout",
     "output_type": "stream",
     "text": [
      "Sentence('\"The time ha... Walrus said,')\n",
      "The\n",
      "time\n",
      "has\n",
      "come\n",
      "the\n",
      "Walrus\n",
      "said\n",
      "['The', 'time', 'has', 'come', 'the', 'Walrus', 'said']\n",
      "s[0]: The, s[5]: Walrus, s[-1]: said\n"
     ]
    }
   ],
   "source": [
    "s = Sentence('\"The time has come, \" the Walrus said,')\n",
    "print(s)\n",
    "for word in s:\n",
    "    print(word)\n",
    "print(list(s))\n",
    "print(\"s[0]: {}, s[5]: {}, s[-1]: {}\".format(s[0], s[5], s[-1]))"
   ]
  },
  {
   "cell_type": "markdown",
   "metadata": {},
   "source": [
    "### 14.1.1 Sequence가 반복 가능한 이유: iter()함수\n",
    "- Python Interpreter가 x 객체를 반복해야 할 떄는 언제나 iter(x)를 자동으로 호출\n",
    "- iter() 내장 함수가 수행하는 과정\n",
    "    - 객체가 __iter__() method가 구현되었는지 확인, 이 method를 호출해서 반복자를 가져옴\n",
    "    - __iter__() method가 실제로 구현되어 있지 않아도, __getitem__()이 구현되어 있다면, \n",
    "       python은 index=0 에서 시작해서 항목을 순서대로 가져오는 반복자 생성\n",
    "    - 위의 과정들이 모두 실패하면 TypeError발생.\n",
    "- 거의 모든 python sequence는 특히 __getitem__()이 있기 때문에, 대부분의 python sequence는 반복할 수 있음.\n",
    "    - (사실은, 모든 표준 sequence는 __iter__() method도 구현하고 있으므로, 직접 정의한 sequence도 이 method를 구현해야 함)\n",
    "- 여기서, __iter__()뿐만 아니라 __getitem__() method를 구현하는 object를 반복형으로 간주하는 것은 duck typing의 극단적인 형태\n",
    "- goose typing(???)을 사용하면 반복형에 대한 정의가 단순해지지만, 융통성이 떨어짐 --> __Iter__() method를 구현하는 object만 반복형으로 간주\n"
   ]
  },
  {
   "cell_type": "code",
   "execution_count": 15,
   "metadata": {},
   "outputs": [
    {
     "name": "stdout",
     "output_type": "stream",
     "text": [
      "class Foo is a subclass of abc.Iterable = 'True'\n",
      "object f is a subclass of abc.Iterable = 'True'\n",
      "class Sentence is a subclass of abc.Iterable = 'False'\n",
      "obtect s is a subclass of abc.Iterable = 'False'\n"
     ]
    }
   ],
   "source": [
    "from collections import abc\n",
    "class Foo:\n",
    "    def __iter__(self):\n",
    "        pass\n",
    "f = Foo()\n",
    "    \n",
    "print(\"class Foo is a subclass of abc.Iterable = '{}'\".format(issubclass(Foo, abc.Iterable)))\n",
    "print(\"object f is a subclass of abc.Iterable = '{}'\".format(isinstance(f, abc.Iterable)))\n",
    "print(\"class Sentence is a subclass of abc.Iterable = '{}'\".format(issubclass(Sentence, abc.Iterable))) # Sentence는 __iter__() method가 없어 반복형으로 인지 x\n",
    "print(\"obtect s is a subclass of abc.Iterable = '{}'\".format(isinstance(s, abc.Iterable)))"
   ]
  },
  {
   "cell_type": "markdown",
   "metadata": {},
   "source": [
    "## 14.2 반복형과 반복자 (Iterables and Iterators)\n",
    "- 반복형(Iterables)의 정의\n",
    "    - iter() 내장 함수가 반복자를 가져올수 잇는 모든 object\n",
    "    - 반복자를 반환하는 __iter__() method를 구현하는 개체는 반복형\n",
    "    - 0에서 시작하는 index를 받는 __getitem__() method를 구현하는 객체인 seq도 마찬가지\n",
    "- 반복자(Iterators)의 정의\n",
    "    - 다음 항목을 반환하거나, 다음 항목이 없을 때, StopIteration 예외를 발생시키는, 인수를 받지 않는 __next__() method를 구현하는 객체\n",
    "    - Python Iterator는 __iter__() method도 구현하므로, Iterable이기도 함\n",
    "\n",
    "- 반복형 vs 반복자??\n"
   ]
  },
  {
   "cell_type": "code",
   "execution_count": 16,
   "metadata": {},
   "outputs": [
    {
     "name": "stdout",
     "output_type": "stream",
     "text": [
      "A\n",
      "B\n",
      "C\n"
     ]
    }
   ],
   "source": [
    "s = 'ABC' # 'ABC\"문자열은 반복형\n",
    "for ch in s:\n",
    "    print(ch)"
   ]
  },
  {
   "cell_type": "code",
   "execution_count": 19,
   "metadata": {},
   "outputs": [
    {
     "name": "stdout",
     "output_type": "stream",
     "text": [
      "A\n",
      "B\n",
      "C\n"
     ]
    }
   ],
   "source": [
    "# 위와 동일한 코드를 while문을 사용하여 작성\n",
    "s = 'ABC'\n",
    "it = iter(s) # 반복형에서 반복자 it을 생성\n",
    "while True:\n",
    "    try:\n",
    "        print(next(it)) # 반복자에서 next를 계속 호출해서 다음 항목을 가져옴\n",
    "    except StopIteration: # 더 이상 항목이 없으면 반복자 it이 StopIteration 예외를 발생\n",
    "        del it # it에 대한 참조를 해제 --> 반복자 객체를 제거\n",
    "        break # loop을 빠져나옴"
   ]
  },
  {
   "cell_type": "markdown",
   "metadata": {},
   "source": [
    "- Iterators에 대한 표준 interface는 다음 2개의 method를 정의\n",
    "    - __next__(): 다음에 사용할 항목을 반환. 더 이상 항목이 남은게 없다면, StopIteration발생\n",
    "    - __iter__(): self를 반환. for loop등 iterables이 필요한 곳에 iterator를 사용할 수 있게 해줌\n",
    "- Iterators에서 주의해야 할 점\n",
    "    - Iterator가 필수로 구현되어 있어야 하는 method는 __next__()와 __iter__()뿐임. --> next()를 호출하고 Stop Iteration 예외를 잡는 방법 외에는 항목 소진이 되었는지 확인 불가\n",
    "    - Iterator는 '재설정'아 불가능 --> 다시 반복해야 하면 처음 반복자를 생성했떤 반복형에 iter()를 호출해야 함. Iterators 자체에 iter()를 거는 것은 소용 없음\n",
    "        - Why? Iterators.__iter__()는 단지 self를 반환하도록 구현되었을 뿐. 소진된 반복자를 재설정할 수 없음\n",
    "- Lib/types.py 모듈 소스코드의 주석 내용\n",
    "    - Python의 iterators는 자료형이 아닌 프로토콜\n",
    "    - 상당히 많은 유동적인 수의 내장 자료형이 반복자의 \"\"일부\"\"를 구현함\n",
    "    - 자료형을 검사하지 말고, hasattr()를 사용하여 __iter__와 __next__ 속성이 있는지 검사"
   ]
  },
  {
   "cell_type": "code",
   "execution_count": 28,
   "metadata": {
    "scrolled": true
   },
   "outputs": [
    {
     "name": "stdout",
     "output_type": "stream",
     "text": [
      "<str_iterator object at 0x7f2f73741518>\n",
      "<str_iterator object at 0x7f2f737a4780>\n"
     ]
    }
   ],
   "source": [
    "print(s.__iter__())\n",
    "print(it.__iter__())"
   ]
  },
  {
   "cell_type": "code",
   "execution_count": 32,
   "metadata": {},
   "outputs": [
    {
     "name": "stdout",
     "output_type": "stream",
     "text": [
      "Sentence('Pig and Pepper')\n",
      "<iterator object at 0x7f2f73752198>\n",
      "Pig\n",
      "and\n",
      "Pepper\n",
      "['Pig', 'and', 'Pepper']\n",
      "[]\n",
      "['Pig', 'and', 'Pepper']\n"
     ]
    }
   ],
   "source": [
    "seq = 'Pig and Pepper'\n",
    "s = Sentence(seq)\n",
    "it = iter(s)\n",
    "print(s)\n",
    "print(it)\n",
    "print(next(it))\n",
    "print(it.__next__())\n",
    "print(next(it))\n",
    "# print(next(it)) # Stop Iteration Error\n",
    "\n",
    "print(list(iter(s)))\n",
    "print(list(it)) # it은 iter(s)인데  윗줄은 되고, 얘는 왜 안될까?? 이미 다 소진이 되었기 때문. 만약 아래와 같이, 다시 선언하면 됨\n",
    "it=iter(s)\n",
    "print(list(it))"
   ]
  },
  {
   "cell_type": "markdown",
   "metadata": {},
   "source": [
    "## 14.3 Sentence ver.2: 고전적인 Iterator"
   ]
  },
  {
   "cell_type": "markdown",
   "metadata": {},
   "source": [
    "### 14.3.1 Sentence class를 Iterator로 만들기 --> Terrible Idea!!!!!!\n",
    "- 흔히 발생하는 오류 : Iterable과 Iterator를 혼동하기 때문에 발생\n",
    "    - Iterable: 호출될 떄마다 Iterator를 새로 생성하는 __iter__() method를 가짐\n",
    "    - Iterator: 개별 항목 반환하는 __next__(), self를 반환하는 __iter__() method를 가짐\n",
    "    - 즉, Iterator는 Iterable이지만, Iterable은 Iterator가 아님\n",
    "- Sentence에 __iter__()뿐만 아니라, __next__()도 구현해서 Sentence의 object를 iterable하면서 iterator로 만들고 싶지???\n",
    "    - Absoultely Wrong!!!!\n",
    "- Iterator는 다음과 같은 용도에 사용\n",
    "    - 집합 object의 내부 표현을 노출시키지 않고 내용에 접근하는 경우\n",
    "    - 집합 object의 다중 반복을 지원하는 경우\n",
    "        - 다중 반복을 지원하려면 동일한 iteratable object로부터 여러 독립적인 iterator를 가질 수 있어야 함. 각 iterator는 고유한 내부 상태를 유지해야 함\n",
    "        - 위 패턴을 구현하기 위해서, iter(my_iterable)을 호출할 때마다 독립적인 iterator가 새로 만들어저야 함\n",
    "        - 이 예제에 SentenceIterator가 따로 필요한 이유!!!\n",
    "    - 다양한 집합 구조체를 반복하기 위한 통일된 interface를 제공하는 경우\n",
    "- Iterable는 자기 자신을 반복하는 iterator가 되면 안됨! 즉, __iter__()를 구현하되, __next()__는 구현하면 안됨\n",
    "- 반면, Iterator는 편의를 위해 iterator가 되어야 함. 이 떄, Iterator의 __iter__()는 self를 반환해야 함"
   ]
  },
  {
   "cell_type": "code",
   "execution_count": 33,
   "metadata": {
    "collapsed": true
   },
   "outputs": [],
   "source": [
    "import re\n",
    "import reprlib\n",
    "\n",
    "RE_WORD = re.compile('\\w+')\n",
    "\n",
    "class Sentence: # Iterable\n",
    "    def __init__(self, text):\n",
    "        self.text = text\n",
    "        self.words = RE_WORD.findall(text)\n",
    "    def __repr__(self):\n",
    "        return 'Sentence(%s)' % reprlib.repr(self.text)\n",
    "    def __iter__(self): # __iter__() method가 구현되어 있음 --> Sentence는 Iterable\n",
    "        return SentenceIterator(self.words) # Iterators object를 생성하여 반환 --> 반복형 protocol을 완벽히 구현\n",
    "    \n",
    "class SentenceIterator: # Iterator\n",
    "    def __init__(self, words):\n",
    "        self.words = words # 단어 list에 대한 참조를 갖는다\n",
    "        self.idx = 0 # 다음에 들어올 단어를 결정하기 위해 self.idx 사용\n",
    "    def __next__(self):\n",
    "        try:\n",
    "            word = self.words[self.idx] # self.words의 self.idx에 있는 단어를 가져옴\n",
    "        except IndexError:\n",
    "            raise StopIteration() # self.idx에 단어가 없으면 StopIteration 예외발생\n",
    "        self.idx += 1 # self.idx를 1 증가시킴\n",
    "        return word # 단어를 반환\n",
    "    def __iter__(self):\n",
    "        return self"
   ]
  },
  {
   "cell_type": "markdown",
   "metadata": {},
   "source": [
    "## 14.4 Sentence ver.3: Generator Function"
   ]
  },
  {
   "cell_type": "markdown",
   "metadata": {},
   "source": [
    "### 14.4.1 Generator함수의 작동 방식\n",
    "- 본체 안에 yield 키워드를 가진 함수는 모두 generator 함수\n",
    "- Generator 함수는 호출되면 generator object를 반환함. 즉, generator 함수는 generator factory라고 할 수 있음\n",
    "- Generator 함수는 함수 본체를 포함하는 generator object를 생성.\n",
    "    - next()를 generator object에 호출하면 함수 본체에 있는 다음 yield로 진행. next()는 함수 본체가 중단된 곳에서 생성된 값을 평가\n",
    "    - Iterator 프로토콜에 따라 StopIteration 예외를 발생시키기도 함\n",
    "- Tip - Generator에서 가져온 결과\n",
    "    - Generator는 값을 'generate'한다고 일컫는다! 'return'한다고 일컫지 않는다.\n",
    "    - Function, Generator Function and Generator\n",
    "        - Function은 값을 return한다.\n",
    "        - Generator Function은 generator object를 return한다.\n",
    "        - Generator object는 값을 generate한다. 즉, 일반적인 방식으로 값을 'return'하지 않는다.\n",
    "        - Generator Function안의 return문은 generator object가 StopIteation 예외를 발생하도록 함"
   ]
  },
  {
   "cell_type": "code",
   "execution_count": 36,
   "metadata": {
    "collapsed": true
   },
   "outputs": [
    {
     "name": "stdout",
     "output_type": "stream",
     "text": [
      "<function gen_123 at 0x7f2f73736c80>\n",
      "<generator object gen_123 at 0x7f2f73715f68>\n",
      "1\n",
      "2\n",
      "3\n",
      "1\n",
      "2\n",
      "3\n"
     ]
    },
    {
     "ename": "StopIteration",
     "evalue": "",
     "output_type": "error",
     "traceback": [
      "\u001b[0;31m---------------------------------------------------------------------------\u001b[0m",
      "\u001b[0;31mStopIteration\u001b[0m                             Traceback (most recent call last)",
      "\u001b[0;32m<ipython-input-36-52c6e292b997>\u001b[0m in \u001b[0;36m<module>\u001b[0;34m()\u001b[0m\n\u001b[1;32m     11\u001b[0m \u001b[0mprint\u001b[0m\u001b[0;34m(\u001b[0m\u001b[0mnext\u001b[0m\u001b[0;34m(\u001b[0m\u001b[0mg\u001b[0m\u001b[0;34m)\u001b[0m\u001b[0;34m)\u001b[0m\u001b[0;34m\u001b[0m\u001b[0m\n\u001b[1;32m     12\u001b[0m \u001b[0mprint\u001b[0m\u001b[0;34m(\u001b[0m\u001b[0mnext\u001b[0m\u001b[0;34m(\u001b[0m\u001b[0mg\u001b[0m\u001b[0;34m)\u001b[0m\u001b[0;34m)\u001b[0m\u001b[0;34m\u001b[0m\u001b[0m\n\u001b[0;32m---> 13\u001b[0;31m \u001b[0mprint\u001b[0m\u001b[0;34m(\u001b[0m\u001b[0mnext\u001b[0m\u001b[0;34m(\u001b[0m\u001b[0mg\u001b[0m\u001b[0;34m)\u001b[0m\u001b[0;34m)\u001b[0m\u001b[0;34m\u001b[0m\u001b[0m\n\u001b[0m",
      "\u001b[0;31mStopIteration\u001b[0m: "
     ]
    }
   ],
   "source": [
    "def gen_123(): # yield 키워드를 갖고 있는 함수는 모두 generator\n",
    "    yield 1\n",
    "    yield 2\n",
    "    yield 3\n",
    "print(gen_123) # gen_123()자체는 함수 객체\n",
    "print(gen_123()) # 그러나 호출하면 generator 객체를 반환\n",
    "for i in gen_123(): # Generator는 yield에 전달된 표현식의 값을 생성하는 반복자\n",
    "    print(i)\n",
    "g = gen_123() # Generator 객체인 gen_123()을 g에 할당함\n",
    "print(next(g)) # g는 iterator이기도 함. next(g)로 호출하면 yield가 생성한 다음 항목을 가져옴\n",
    "print(next(g))\n",
    "print(next(g))\n",
    "print(next(g)) # 함수 실행이 완료되면 generator 객체는 StopIteration 발생시킴!"
   ]
  },
  {
   "cell_type": "code",
   "execution_count": 38,
   "metadata": {},
   "outputs": [
    {
     "name": "stdout",
     "output_type": "stream",
     "text": [
      "Start!\n",
      "0 --> A\n",
      "Continue\n",
      "1 --> B\n",
      "End\n"
     ]
    }
   ],
   "source": [
    "def gen_AB():\n",
    "    print('Start!')\n",
    "    yield 'A'\n",
    "    print('Continue')\n",
    "    yield 'B'\n",
    "    print('End')\n",
    "for i, c in enumerate(gen_AB()): # 이 for loop에서 gen_AB.next()를 암묵적으로 호출하는 역할. 마지막에는 'End'를 출력하고, StopIteration 예외를 발생시킴\n",
    "    print('{} --> {}'.format(i,c))"
   ]
  },
  {
   "cell_type": "markdown",
   "metadata": {},
   "source": [
    "## 14.5. Sentence ver.4: Lazy Expression\n",
    "- Iterator 인터페이스는 느긋하게 처리하도록 설계되어 있음. next(my_iterator)는 한번에 한 항목만 생성\n",
    "- 지금까지는 느긋한 버전이 아니었음. \n",
    "    - __init__()에서 text안에 있는 단어들의 list를 '조급하게' 생성하여, self.words에 바인딩하기 때문\n",
    "    - 위의 list는 거의 text와 맞먹는 양의 메모리를 소비. 사용자가 처음 몇 단어만 반복하면, 이 연산은 대부분 불필요\n",
    "    - re.finditer()는 re.findall()의 느긋한 version. \n",
    "        - re.MatchObject object를 생성하는 generator를 반환함.\n",
    "        - Matching되는 항목이 많을 경우, 필요할 때만 다음 단어를 생성하기 때문에, re.finditer()가 메모리를 많이 절약해줌"
   ]
  },
  {
   "cell_type": "code",
   "execution_count": 39,
   "metadata": {
    "collapsed": true
   },
   "outputs": [],
   "source": [
    "import re\n",
    "import reprlib\n",
    "RE_WORD = re.compile('w+')\n",
    "\n",
    "class Sentence:\n",
    "    def __init__(self, text):\n",
    "        self.text = text\n",
    "    def __repr__(self):\n",
    "        return 'Sentence(%s)' % reprlib.repr(self.text)\n",
    "    def __iter__(self):\n",
    "        for match in RE_WORD.finditer(self.text):\n",
    "            yield match.group() # match.group() method는 MatchObject 객체에서 matching 되는 text를 추출함"
   ]
  },
  {
   "cell_type": "markdown",
   "metadata": {},
   "source": [
    "## 14.6 & 14.7 Sentence ver.5 : Generator Expression and When to use it?\n",
    "- Generator expression은 List comprehension의 lazy version이다.\n",
    "    - Eagerly list를 생성하는 대신, 필요에 따라 항목을 lazy하게 생성하는 generator를 반환하기 때문\n",
    "    - 즉, List comprehension이 list factory라면, Generator expression은 Generator factory와 같음\n",
    "- Generator Expression vs Generator function\n",
    "    - Generator Expression: 함수를 정의하고 호출할 필요 없이 generator를 생성하는 편리 구문\n",
    "    - Generator function: 융통성이 훨씬 더 높음. 여러 문장으로 구성된 복잡한 논리를 구현할 수 있음\n",
    "    - When to use?\n",
    "        - Generator expression이 여러줄에 걸쳐 있을 경우 --> 가독성을 위해 generator function을 사용\n",
    "- Tip\n",
    "    - Generator expression을 함수나 생성자에 단일 인수로 전달시, 함수로 호출하는 괄호 안에서 generator expression을 괄호로 에워쌀 필요가 없음\n",
    "    - 그러나, generator expression 다음에 parameter가 더 있따면, generator expression을 괄호로 에워싸야 한다.\n",
    "    - example)\n",
    "            a = Vector(n*scalar for n in self)            -> (o)\n",
    "            a = Vector((n*scalar for n in self), cc, dd)  -> (o)\n",
    "\n",
    "            "
   ]
  },
  {
   "cell_type": "code",
   "execution_count": 68,
   "metadata": {},
   "outputs": [
    {
     "name": "stdout",
     "output_type": "stream",
     "text": [
      ">>>gen_AB() with list comprehension\n",
      "Start!\n",
      "Continue\n",
      "End\n",
      "\n",
      ">>>print out the list which is generated by list comprehension\n",
      "['AAA', 'BBB']\n",
      "\n",
      ">>>print out every component of list which is generated by list comprehension\n",
      "AAA\n",
      "BBB\n",
      "\n",
      ">>>Generator Expression and its type\n",
      "<generator object <genexpr> at 0x7f2f73715f10>\n",
      "<class 'generator'>\n",
      "\n",
      ">>>print out every value which is generated by generator expression of gen_AB()\n",
      "Start!\n",
      ">>> AAA\n",
      "--------------\n",
      "Continue\n",
      ">>> BBB\n",
      "--------------\n",
      "End\n"
     ]
    }
   ],
   "source": [
    "def gen_AB():\n",
    "    print('Start!')\n",
    "    yield 'A'\n",
    "    print('Continue')\n",
    "    yield 'B'\n",
    "    print('End')\n",
    "\n",
    "# List Comprehension: gen_AB()를 바로 eagerly 호출하여 생성된 generator object가 생성한 A, B를 조급하게 반복함. 그 증거로, start, continue, end가 출력\n",
    "print('>>>gen_AB() with list comprehension')\n",
    "res1 = [x*3 for x in gen_AB()] \n",
    "\n",
    "# List comprehension이 생성한 list인 res1을 출력\n",
    "print()\n",
    "print('>>>print out the list which is generated by list comprehension')\n",
    "print(res1)\n",
    "\n",
    "# for loop으로 list comprehension이 생성한 list인 res1의 원소를 출력\n",
    "print()\n",
    "print('>>>print out every component of list which is generated by list comprehension')\n",
    "for i in res1:\n",
    "    print('{}'.format(i))\n",
    "\n",
    "# Generator Expression: res2를 반환. gen_AB()를 호출은 하지만, gen_AB()가 반환한 generator를 소비하지 않음\n",
    "print()\n",
    "print('>>>Generator Expression and its type')\n",
    "res2 = (x*3 for x in gen_AB())\n",
    "print(res2)\n",
    "print(type(res2))\n",
    "\n",
    "# for loop이 res2를 반복해야 gen_AB()의 본체가 비로소 실행됨.\n",
    "# for loop이 반복될 때마다 암묵적으로 next(res2)를 호출해서 gen_AB()안에서 다음 yield로 진행하게 만듦\n",
    "print()\n",
    "print('>>>print out every value which is generated by generator expression of gen_AB()')\n",
    "for i in res2: \n",
    "    print('>>> {}'.format(i))\n",
    "    print('--------------')"
   ]
  },
  {
   "cell_type": "code",
   "execution_count": 71,
   "metadata": {
    "collapsed": true
   },
   "outputs": [],
   "source": [
    "import re\n",
    "import reprlib\n",
    "\n",
    "RE_WORD = re.compile('\\w+')\n",
    "\n",
    "class Sentence:\n",
    "    def __init__(self, text):\n",
    "        self.text = text\n",
    "    def __repr__(self):\n",
    "        return 'Sentence(%s) ' % reprlib.repr(self.text)\n",
    "    def __iter__(self):\n",
    "        return (match.group() for match in RE_WORD.finditer(self.text))"
   ]
  },
  {
   "cell_type": "markdown",
   "metadata": {},
   "source": [
    "## 14.8 Another Example: Arithmetic Progression generator(등차수열)\n",
    "- 전통적이 반복자 패턴은 모두 data 구조체를 탐색하여 항목들을 나열하기 위한 것\n",
    "- 수열에서 다음 항목을 가져오는 method에 기반한 표준 인터페이스는 collection에서 항목을 가져오는 대신 실행 도중, 항목을 생성하는데도 유용하게 사용 가능\n",
    "    - range(): 유한 등차수열 생성, itertools.count() 무한 등차수열 생성"
   ]
  },
  {
   "cell_type": "code",
   "execution_count": 72,
   "metadata": {
    "collapsed": true
   },
   "outputs": [],
   "source": [
    "class ArithmeticProgression:\n",
    "    def __init__(self, begin, step, end=None):\n",
    "        self.begin = begin\n",
    "        self.step = step\n",
    "        self.end = end\n",
    "    def __iter__(self):\n",
    "        result = type(self.begin + self.step)(self.begin) # self.begin 과 동일하지만, 자료형을 강제로 변환\n",
    "        forever = self.end is None\n",
    "        idx = 0\n",
    "        while forever or result < self.end:\n",
    "            yield result\n",
    "            idx += 1\n",
    "            result = self.begin + self.step * idx"
   ]
  },
  {
   "cell_type": "code",
   "execution_count": 80,
   "metadata": {},
   "outputs": [
    {
     "name": "stdout",
     "output_type": "stream",
     "text": [
      "[3.0, 3.5, 4.0, 4.5, 5.0, 5.5, 6.0, 6.5, 7.0, 7.5, 8.0, 8.5, 9.0, 9.5]\n",
      "[1.0, 1.3333333333333333, 1.6666666666666665, 2.0, 2.333333333333333, 2.6666666666666665, 3.0, 3.333333333333333, 3.6666666666666665, 4.0, 4.333333333333333, 4.666666666666666]\n",
      "[Fraction(0, 1), Fraction(1, 3), Fraction(2, 3), Fraction(1, 1), Fraction(4, 3), Fraction(5, 3)]\n",
      "[Decimal('0'), Decimal('0.1'), Decimal('0.2')]\n"
     ]
    }
   ],
   "source": [
    "from fractions import Fraction\n",
    "from decimal import Decimal\n",
    "aa = ArithmeticProgression(3, 0.5, 10)\n",
    "print(list(aa))\n",
    "aa = ArithmeticProgression(1, 1/3, 5)\n",
    "print(list(aa))\n",
    "aa = ArithmeticProgression(0, Fraction(1,3), 2)\n",
    "print(list(aa))\n",
    "aa = ArithmeticProgression(0, Decimal('.1'), .3)\n",
    "print(list(aa))"
   ]
  },
  {
   "cell_type": "markdown",
   "metadata": {},
   "source": [
    "- ArithmeticProgression class의 목적이 __iter__()를 구현함으로써, generator를 생성하는것\n",
    "    - 클래스를 단지 하나의 generator function으로 만들 수도 있었을 것.\n",
    "    - Generator function도 일종의 generator factory이기 때문"
   ]
  },
  {
   "cell_type": "code",
   "execution_count": 85,
   "metadata": {},
   "outputs": [
    {
     "name": "stdout",
     "output_type": "stream",
     "text": [
      "1\n",
      "4\n",
      "7\n",
      "10\n"
     ]
    }
   ],
   "source": [
    "# ArithmeticProgression과 동일한 역할을 하는 함수\n",
    "def aritprog_gen(begin, step, end=None):\n",
    "    result = type(begin + step)(begin)\n",
    "    forever = end is None\n",
    "    idx = 0\n",
    "    while forever or result < end:\n",
    "        yield result\n",
    "        idx += 1\n",
    "        result = begin + step * idx\n",
    "for i in aritprog_gen(1, 3, 11):\n",
    "    print(i)"
   ]
  },
  {
   "cell_type": "markdown",
   "metadata": {},
   "source": [
    "### 14.8.1 Arithmetic Progression with itertools module\n",
    "- itertools.count()    : 숫자를 생성하는 generator를 반환. 그러나 endless -> list(count())를 실행하면, Python Interpreter는 메모리보다 큰 list를 만드려고 하다가 실패함\n",
    "- itertools.takewhile(): 다른 generator를 소비하면서 주어진 조건식이 False가 되면 중단되는 generator를 생성."
   ]
  },
  {
   "cell_type": "code",
   "execution_count": 89,
   "metadata": {},
   "outputs": [
    {
     "name": "stdout",
     "output_type": "stream",
     "text": [
      "1\n",
      "1.5\n",
      "2.0\n"
     ]
    },
    {
     "data": {
      "text/plain": [
       "[1, 1.5, 2.0, 2.5]"
      ]
     },
     "execution_count": 89,
     "metadata": {},
     "output_type": "execute_result"
    }
   ],
   "source": [
    "import itertools\n",
    "gen = itertools.count(1, 0.5)\n",
    "print(next(gen))\n",
    "print(next(gen))\n",
    "print(next(gen))\n",
    "gen = itertools.takewhile(lambda n: n<3, itertools.count(1,0.5))\n",
    "list(gen)"
   ]
  },
  {
   "cell_type": "markdown",
   "metadata": {},
   "source": [
    "- 아래 예제는, takewhile()과 count()를 활용하여 aritprog_gen2를 구현\n",
    "- 본체 내에 yield문이 없음 --> generator function이 아님. 그러나, generator를 반환하므로, 일종의 generator factory처럼 작동"
   ]
  },
  {
   "cell_type": "code",
   "execution_count": 94,
   "metadata": {},
   "outputs": [
    {
     "data": {
      "text/plain": [
       "[3.0, 3.5, 4.0, 4.5, 5.0, 5.5, 6.0, 6.5, 7.0, 7.5, 8.0, 8.5, 9.0, 9.5]"
      ]
     },
     "execution_count": 94,
     "metadata": {},
     "output_type": "execute_result"
    }
   ],
   "source": [
    "def aritprog_gen2(begin, step, end=None):\n",
    "    first = type(begin + step)(begin)\n",
    "    ap_gen = itertools.count(first, step)\n",
    "    if end is not None:\n",
    "        ap_gen = itertools.takewhile(lambda n: n<end, ap_gen)\n",
    "    return ap_gen\n",
    "\n",
    "gen = aritprog_gen2(3, 0.5, 10)\n",
    "list(gen)"
   ]
  },
  {
   "cell_type": "markdown",
   "metadata": {},
   "source": [
    "## 14.9 Generator functions in standard library"
   ]
  },
  {
   "cell_type": "markdown",
   "metadata": {},
   "source": [
    "- Filtering Generator functions: 입력된 반복형을 그대로 사용해서 생성된 항목들의 일부를 생성\n",
    "    - itertools.compress(), itertools.dropwhile(), filter(), itertools.filterfalse(), itertools.islice(), itertools.takewhile()\n",
    "- Mapping Generator functions: 입력된 반복형에 들어있는 각 항목에 연산을 수행한 결과를 생성\n",
    "    - itertools.accumulate(), enumerate(), map(), starmap()\n",
    "    - map(), starmap()의 경우, 하나 이상의 반복형\n",
    "    - 입력된 반복형 안의 항목 하나마다 값 하나를 생성\n",
    "    - 두 개 이상의 반복형을 입력받는 경우, 반복형 중 하나라도 소진되면 바로 출력을 중단\n",
    "- 병합 Generator functions: 여러 반복형을 입력받아서 항목을 생성\n",
    "    - itertools.chain(), itertools.chain.from_iterable(), itertools.product(), zip(), itertools.zip_longest()\n",
    "    - 입력받은 반복형을 순차적으로 소비하는 경우: chain(), chain.from_iterable()\n",
    "    - 입력받은 반복형을 병렬로 소비하는 경우: product(), zip(), zip_longest()\n",
    "- 입력된 항목 하나마다 하나 이상의 값을 생성하는 generator functions\n",
    "    - itertools.combinations(), itertools.combiinations_with_replacement(), itertools.count(), itertools.cycle(), itertools.permutations(), itertools.repeat()\n",
    "    - 이중, combinations(), combinations_with_replacement(), permutations() generator함수는 product()와 함께 combinatoric(순열조합) generator라고 불림\n",
    "- 재배치 Generator Functions: 입력받은 반복형 안의 항목의 순서를 변경해서 모든 항목을 생성\n",
    "    - itertools.groupby(), reversed(), itertools.tee()"
   ]
  },
  {
   "cell_type": "markdown",
   "metadata": {},
   "source": [
    "#### Filtering Generator"
   ]
  },
  {
   "cell_type": "code",
   "execution_count": 103,
   "metadata": {},
   "outputs": [
    {
     "name": "stdout",
     "output_type": "stream",
     "text": [
      "['A', 'a', 'a']\n",
      "['r', 'd', 'v', 'r', 'k']\n",
      "['r', 'd', 'v', 'a', 'r', 'k']\n",
      "['A', 'a']\n",
      "['A', 'r', 'd', 'a']\n",
      "['A', 'a', 'r', 'd']\n",
      "['v', 'a', 'r']\n",
      "['a', 'd', 'a']\n"
     ]
    }
   ],
   "source": [
    "import itertools\n",
    "def vowel(c):\n",
    "    return c.lower() in 'aeiou'\n",
    "print(list(filter(vowel, 'Aardvark')))\n",
    "print(list(itertools.filterfalse(vowel, 'Aardvark')))\n",
    "print(list(itertools.dropwhile(vowel, 'Aardvark')))\n",
    "print(list(itertools.takewhile(vowel, 'Aardvark')))\n",
    "print(list(itertools.compress('Aardvark', (1,0,1,1,0,1))))\n",
    "print(list(itertools.islice('Aardvark', 4)))\n",
    "print(list(itertools.islice('Aardvark', 4, 7)))\n",
    "print(list(itertools.islice('Aardvark', 1, 7, 2)))"
   ]
  },
  {
   "cell_type": "markdown",
   "metadata": {},
   "source": [
    "#### itertools.accumulate() example"
   ]
  },
  {
   "cell_type": "code",
   "execution_count": 105,
   "metadata": {},
   "outputs": [
    {
     "name": "stdout",
     "output_type": "stream",
     "text": [
      "[1, 3, 6, 10, 15, 21, 28, 37, 45, 45]\n",
      "[1, 1, 1, 1, 1, 1, 1, 1, 1, 0]\n",
      "[1, 2, 3, 4, 5, 6, 7, 9, 9, 9]\n",
      "[1, 2, 6, 24, 120, 720, 5040, 45360, 362880, 0]\n",
      "[1, 2, 6, 24, 120, 720, 5040, 40320, 362880, 3628800]\n"
     ]
    }
   ],
   "source": [
    "import itertools\n",
    "import operator\n",
    "sample = [1,2,3,4,5,6,7,9,8,0]\n",
    "print(list(itertools.accumulate(sample)))\n",
    "print(list(itertools.accumulate(sample, min)))\n",
    "print(list(itertools.accumulate(sample, max)))\n",
    "print(list(itertools.accumulate(sample, operator.mul)))\n",
    "print(list(itertools.accumulate(range(1, 11), operator.mul)))"
   ]
  },
  {
   "cell_type": "code",
   "execution_count": 107,
   "metadata": {},
   "outputs": [
    {
     "name": "stdout",
     "output_type": "stream",
     "text": [
      "[(1, 'a'), (2, 'l'), (3, 'b'), (4, 'a'), (5, 't'), (6, 'r'), (7, 'o'), (8, 'z')]\n",
      "[0, 1, 4, 9, 16, 25, 36, 49, 64, 81, 100]\n",
      "[0, 4, 16]\n",
      "[(0, 2), (1, 4), (2, 8)]\n",
      "['a', 'll', 'bbb', 'aaaa', 'ttttt', 'rrrrrr', 'ooooooo', 'zzzzzzzz']\n",
      "[1.0, 1.5, 2.0, 2.5, 3.0, 3.5, 4.0, 4.625, 5.0, 4.5]\n"
     ]
    }
   ],
   "source": [
    "import itertools\n",
    "import operator\n",
    "print(list(enumerate('albatroz', 1)))\n",
    "print(list(map(operator.mul, range(11), range(11))))\n",
    "print(list(map(operator.mul, range(11), [2,4,8])))\n",
    "print(list(map(lambda a,b : (a,b), range(11), [2,4,8])))\n",
    "print(list(itertools.starmap(operator.mul, enumerate('albatroz', 1))))\n",
    "sample = [1,2,3,4,5,6,7,9,8,0]\n",
    "print(list(itertools.starmap(lambda a,b: b/a, enumerate(itertools.accumulate(sample), 1))))"
   ]
  },
  {
   "cell_type": "code",
   "execution_count": 108,
   "metadata": {},
   "outputs": [
    {
     "name": "stdout",
     "output_type": "stream",
     "text": [
      "['A', 'B', 'C', 0, 1]\n",
      "[(0, 'A'), (1, 'B'), (2, 'C')]\n",
      "[0, 'A', 1, 'B', 2, 'C']\n",
      "[('A', 0), ('B', 1), ('C', 2)]\n",
      "[('A', 0, 10), ('B', 1, 20), ('C', 2, 30)]\n",
      "[('A', 0), ('B', 1), ('C', 2), (None, 3), (None, 4)]\n",
      "[('A', 0), ('B', 1), ('C', 2), ('?', 3), ('?', 4)]\n"
     ]
    }
   ],
   "source": [
    "import itertools\n",
    "print(list(itertools.chain('ABC', range(2))))\n",
    "print(list(itertools.chain(enumerate('ABC'))))\n",
    "print(list(itertools.chain.from_iterable(enumerate('ABC'))))\n",
    "print(list(zip('ABC', range(5))))\n",
    "print(list(zip('ABC', range(5), [10,20,30,40])))\n",
    "print(list(itertools.zip_longest('ABC', range(5))))\n",
    "print(list(itertools.zip_longest('ABC', range(5), fillvalue='?')))"
   ]
  },
  {
   "cell_type": "code",
   "execution_count": 109,
   "metadata": {},
   "outputs": [
    {
     "name": "stdout",
     "output_type": "stream",
     "text": [
      "[('A', 0), ('A', 1), ('B', 0), ('B', 1), ('C', 0), ('C', 1)]\n",
      "[('A', 'spades'), ('A', 'hearts'), ('A', 'diamonds'), ('A', 'clubs'), ('K', 'spades'), ('K', 'hearts'), ('K', 'diamonds'), ('K', 'clubs')]\n",
      "[('A',), ('B',), ('C',)]\n",
      "[('A', 'A'), ('A', 'B'), ('A', 'C'), ('B', 'A'), ('B', 'B'), ('B', 'C'), ('C', 'A'), ('C', 'B'), ('C', 'C')]\n",
      "[(0, 0, 0), (0, 0, 1), (0, 1, 0), (0, 1, 1), (1, 0, 0), (1, 0, 1), (1, 1, 0), (1, 1, 1)]\n",
      "('A', 0, 'A', 0)\n",
      "('A', 0, 'A', 1)\n",
      "('A', 0, 'B', 0)\n",
      "('A', 0, 'B', 1)\n",
      "('A', 1, 'A', 0)\n",
      "('A', 1, 'A', 1)\n",
      "('A', 1, 'B', 0)\n",
      "('A', 1, 'B', 1)\n",
      "('B', 0, 'A', 0)\n",
      "('B', 0, 'A', 1)\n",
      "('B', 0, 'B', 0)\n",
      "('B', 0, 'B', 1)\n",
      "('B', 1, 'A', 0)\n",
      "('B', 1, 'A', 1)\n",
      "('B', 1, 'B', 0)\n",
      "('B', 1, 'B', 1)\n"
     ]
    }
   ],
   "source": [
    "print(list(itertools.product('ABC', range(2))))\n",
    "suits = 'spades hearts diamonds clubs'.split()\n",
    "print(list(itertools.product('AK', suits)))\n",
    "print(list(itertools.product('ABC')))\n",
    "print(list(itertools.product('ABC', repeat=2)))\n",
    "print(list(itertools.product(range(2), repeat=3)))\n",
    "rows = itertools.product('AB', range(2), repeat=2)\n",
    "for row in rows:\n",
    "    print(row)"
   ]
  },
  {
   "cell_type": "code",
   "execution_count": 110,
   "metadata": {},
   "outputs": [
    {
     "name": "stdout",
     "output_type": "stream",
     "text": [
      "0\n",
      "1 2 3\n",
      "[1, 1.3, 1.6]\n",
      "A\n",
      "['B', 'C', 'A', 'B', 'C', 'A', 'B']\n",
      "7 7\n",
      "[8, 8, 8, 8]\n",
      "[0, 5, 10, 15, 20, 25, 30, 35, 40, 45, 50]\n"
     ]
    }
   ],
   "source": [
    "ct = itertools.count()\n",
    "print(next(ct))\n",
    "print(next(ct), next(ct), next(ct))\n",
    "print(list(itertools.islice(itertools.count(1, 0.3), 3)))\n",
    "cy = itertools.cycle('ABC')\n",
    "print(next(cy))\n",
    "print(list(itertools.islice(cy, 7)))\n",
    "rp = itertools.repeat(7)\n",
    "print(next(rp), next(rp))\n",
    "print(list(itertools.repeat(8,4)))\n",
    "print(list(map(operator.mul, range(11), itertools.repeat(5))))"
   ]
  },
  {
   "cell_type": "code",
   "execution_count": 111,
   "metadata": {},
   "outputs": [
    {
     "name": "stdout",
     "output_type": "stream",
     "text": [
      "[('A', 'B'), ('A', 'C'), ('B', 'C')]\n",
      "[('A', 'A'), ('A', 'B'), ('A', 'C'), ('B', 'B'), ('B', 'C'), ('C', 'C')]\n",
      "[('A', 'B'), ('A', 'C'), ('B', 'A'), ('B', 'C'), ('C', 'A'), ('C', 'B')]\n",
      "[('A', 'A'), ('A', 'B'), ('A', 'C'), ('B', 'A'), ('B', 'B'), ('B', 'C'), ('C', 'A'), ('C', 'B'), ('C', 'C')]\n"
     ]
    }
   ],
   "source": [
    "print(list(itertools.combinations('ABC', 2)))\n",
    "print(list(itertools.combinations_with_replacement('ABC', 2)))\n",
    "print(list(itertools.permutations('ABC',2)))\n",
    "print(list(itertools.product('ABC', repeat=2)))"
   ]
  },
  {
   "cell_type": "code",
   "execution_count": 115,
   "metadata": {},
   "outputs": [
    {
     "name": "stdout",
     "output_type": "stream",
     "text": [
      "[('L', <itertools._grouper object at 0x7f2f736c9198>), ('A', <itertools._grouper object at 0x7f2f736c9e10>), ('G', <itertools._grouper object at 0x7f2f736c9710>)]\n",
      "L -> ['L', 'L', 'L', 'L']\n",
      "A -> ['A', 'A']\n",
      "G -> ['G', 'G', 'G']\n",
      "------------------------------------\n",
      "['bb', 'ccc', 'fff', 'aaaa', 'dddd', 'eeeeeee']\n",
      "------------------------------------\n",
      "2 -> ['bb']\n",
      "3 -> ['ccc', 'fff']\n",
      "4 -> ['aaaa', 'dddd']\n",
      "7 -> ['eeeeeee']\n",
      "------------------------------------\n",
      "7 -> ['eeeeeee']\n",
      "4 -> ['dddd', 'aaaa']\n",
      "3 -> ['fff', 'ccc']\n",
      "2 -> ['bb']\n"
     ]
    }
   ],
   "source": [
    "print(list(itertools.groupby('LLLLAAGGG')))\n",
    "for ch, group in itertools.groupby('LLLLAAGGG'):\n",
    "    print('{} -> {}'.format(ch, list(group)))\n",
    "print('------------------------------------')    \n",
    "animals = ['aaaa', 'bb', 'ccc', 'dddd', 'eeeeeee', 'fff']\n",
    "animals.sort(key=len)\n",
    "print(animals)\n",
    "print('------------------------------------')\n",
    "for length, group in itertools.groupby(animals, len):\n",
    "    print('{} -> {}'.format(length, list(group)))\n",
    "print('------------------------------------')\n",
    "for length, group in itertools.groupby(reversed(animals), len):\n",
    "    print('{} -> {}'.format(length, list(group)))"
   ]
  },
  {
   "cell_type": "code",
   "execution_count": 117,
   "metadata": {},
   "outputs": [
    {
     "name": "stdout",
     "output_type": "stream",
     "text": [
      "[<itertools._tee object at 0x7f2f880e1508>, <itertools._tee object at 0x7f2f880e1748>]\n",
      "A\n",
      "A\n",
      "B\n",
      "C\n",
      "['B', 'C']\n",
      "[]\n",
      "[('A', 'A'), ('B', 'B'), ('C', 'C')]\n"
     ]
    }
   ],
   "source": [
    "print(list(itertools.tee('ABC')))\n",
    "g1, g2 = itertools.tee('ABC')\n",
    "print(next(g1))\n",
    "print(next(g2))\n",
    "print(next(g2))\n",
    "print(next(g2))\n",
    "print(list(g1))\n",
    "print(list(g2))\n",
    "print(list(zip(*itertools.tee('ABC'))))"
   ]
  },
  {
   "cell_type": "code",
   "execution_count": null,
   "metadata": {
    "collapsed": true
   },
   "outputs": [],
   "source": []
  },
  {
   "cell_type": "markdown",
   "metadata": {},
   "source": [
    "## 14.10 yield from\n",
    "- 보통, 다른 generator에서 생성된 값을 상위 generator function이 생성해야 할 때는 중첩된 for loop을 사용함\n",
    "- 이를 yield from 으로 대체!!\n",
    "    - 가독성도 좋지만, 단순한 편리 구문처럼 보임\n",
    "    - for loop을 대체할 뿐만 아니라, 외부 generator의 호출자와 내부 generator를 연결하는 통로를 만ㄷ름\n",
    "        - Generatorfmf coroutine으로 사용하여, 호출자 코드에 값을 생성해줄 뿐만 아니라, 호출자 코드에서 가져온 값을 소비하는 경우, 이게 더욱 중요해짐\n",
    "        - Chapter16의 coroutine에서 더 자세히 다룸"
   ]
  },
  {
   "cell_type": "code",
   "execution_count": 95,
   "metadata": {},
   "outputs": [
    {
     "name": "stdout",
     "output_type": "stream",
     "text": [
      "['A', 'B', 'C', 0, 1, 2]\n",
      "['A', 'B', 'C', 0, 1, 2]\n"
     ]
    }
   ],
   "source": [
    "def chain(*iterables):\n",
    "    for it in iterables:\n",
    "        for i in it:\n",
    "            yield i\n",
    "            \n",
    "def chain2(*iterables):\n",
    "    for i in iterables:\n",
    "        yield from i\n",
    "        \n",
    "s = 'ABC'\n",
    "t = tuple(range(3))\n",
    "print(list(chain(s,t)))\n",
    "print(list(chain2(s,t)))"
   ]
  },
  {
   "cell_type": "markdown",
   "metadata": {},
   "source": [
    "## 14.11 Iterables를 reduce하는 functions\n",
    "- 반복형을 입력받아 하나의 값을 반환하는 함수\n",
    "- 'reduce', 'folding', 'accumulate' function으로 불림\n",
    "- all(), any(), max(), min(), functools.reduce(), sum()"
   ]
  },
  {
   "cell_type": "code",
   "execution_count": 96,
   "metadata": {},
   "outputs": [
    {
     "name": "stdout",
     "output_type": "stream",
     "text": [
      "True\n",
      "False\n",
      "True\n",
      "True\n",
      "False\n",
      "False\n",
      "True\n",
      "True\n",
      "8\n"
     ]
    }
   ],
   "source": [
    "print(all([1,2,3]))\n",
    "print(all([1,0,3]))\n",
    "print(all([]))\n",
    "print(any([1,2,3]))\n",
    "print(all([1,0,3]))\n",
    "print(all([0, 0.0]))\n",
    "print(all([]))\n",
    "g = (n for n in [0, 0.0, 7, 8])\n",
    "print(any(g))\n",
    "print(next(g))"
   ]
  },
  {
   "cell_type": "markdown",
   "metadata": {},
   "source": [
    "## 14.12 iter() functions\n",
    "- Python은 어떤 object x를 반복해야 할 때, iter(x)를 호출함\n",
    "- 그러나 이 함수는 일반 함수나 callable object로부터 iterator를 생성하기 위해 두 개의 parameters를 전달해서 호출할 수도 있음\n",
    "    - 이를 위해서는, 첫번째 parameter는 값을 생성하기 위해 parameter없이 반복적으로 호출되는 callable이어야 함\n",
    "    - 두 번째 인수는 구분표시(sentinel)로서 callable에서 이 값이 반환되면 iterator가 StopIteration 예외를 발생시키도록 만듦\n",
    "    - 아래 예제는 1이 나올때 까지 육며체 구사위를 굴리기 위해 iter()함수를 사용하는 방법을 나타냄"
   ]
  },
  {
   "cell_type": "code",
   "execution_count": 101,
   "metadata": {},
   "outputs": [
    {
     "name": "stdout",
     "output_type": "stream",
     "text": [
      "<callable_iterator object at 0x7f2f737b83c8>\n",
      "0-th roll: 2\n",
      "1-th roll: 4\n"
     ]
    }
   ],
   "source": [
    "import random\n",
    "def d6():\n",
    "    return random.randint(1,6)\n",
    "\n",
    "d6_iter = iter(d6, 1)\n",
    "print(d6_iter)\n",
    "for i, roll in enumerate(d6_iter):\n",
    "    print(\"{}-th roll: {}\".format(i, roll))"
   ]
  },
  {
   "cell_type": "code",
   "execution_count": null,
   "metadata": {
    "collapsed": true
   },
   "outputs": [],
   "source": []
  }
 ],
 "metadata": {
  "kernelspec": {
   "display_name": "Python 3",
   "language": "python",
   "name": "python3"
  },
  "language_info": {
   "codemirror_mode": {
    "name": "ipython",
    "version": 3
   },
   "file_extension": ".py",
   "mimetype": "text/x-python",
   "name": "python",
   "nbconvert_exporter": "python",
   "pygments_lexer": "ipython3",
   "version": "3.5.4"
  }
 },
 "nbformat": 4,
 "nbformat_minor": 2
}
