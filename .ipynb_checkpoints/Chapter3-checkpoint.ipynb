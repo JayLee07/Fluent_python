{
 "cells": [
  {
   "cell_type": "code",
   "execution_count": 2,
   "metadata": {
    "collapsed": true
   },
   "outputs": [],
   "source": [
    "import collections\n",
    "import os, re, sys, time"
   ]
  },
  {
   "cell_type": "code",
   "execution_count": 3,
   "metadata": {},
   "outputs": [
    {
     "data": {
      "text/plain": [
       "True"
      ]
     },
     "execution_count": 3,
     "metadata": {},
     "output_type": "execute_result"
    }
   ],
   "source": [
    "my_dict = {}\n",
    "isinstance(my_dict, collections.abc.Mapping)"
   ]
  },
  {
   "cell_type": "markdown",
   "metadata": {},
   "source": [
    "### Hashing"
   ]
  },
  {
   "cell_type": "code",
   "execution_count": 4,
   "metadata": {
    "collapsed": true
   },
   "outputs": [],
   "source": [
    "tt = (1, 2, (30, 40))\n",
    "tl = (1, 2,frozenset([30, 40])) # Tuple 자체로는 hashable이지만, tuple안에 unhashable값이 들어가 있을 경우, non-hashable\n",
    "a = hash(tt)\n",
    "b = hash(tl)"
   ]
  },
  {
   "cell_type": "markdown",
   "metadata": {},
   "source": [
    "# Dictionary"
   ]
  },
  {
   "cell_type": "markdown",
   "metadata": {},
   "source": [
    "### Dict()"
   ]
  },
  {
   "cell_type": "code",
   "execution_count": 5,
   "metadata": {},
   "outputs": [
    {
     "data": {
      "text/plain": [
       "True"
      ]
     },
     "execution_count": 5,
     "metadata": {},
     "output_type": "execute_result"
    }
   ],
   "source": [
    "a = dict(one=1, two=2, three=3)\n",
    "b = {'one':1, 'two':2, 'three':3}\n",
    "c = dict(zip(['one','two','three'], [1,2,3]))\n",
    "d = dict([('two',2), ('one',1), ('three',3)])\n",
    "e = dict({'one': 1, 'three': 3, 'two': 2})\n",
    "a ==b==c==d==e"
   ]
  },
  {
   "cell_type": "markdown",
   "metadata": {},
   "source": [
    "### Dict comprehensions"
   ]
  },
  {
   "cell_type": "code",
   "execution_count": 6,
   "metadata": {
    "collapsed": true
   },
   "outputs": [],
   "source": [
    "CODES = [\n",
    "    (1,'US'),\n",
    "    (7,'Russia'),\n",
    "    (82,'Korea'),\n",
    "    (81, 'Japan')\n",
    "]\n",
    "country_codes1 = {key.upper(): value for value, key in CODES}\n",
    "country_codes2 = {key.upper(): value for key, value in country_codes1.items() if value>80}"
   ]
  },
  {
   "cell_type": "markdown",
   "metadata": {},
   "source": [
    "### Handling missing keys with set default"
   ]
  },
  {
   "cell_type": "code",
   "execution_count": 7,
   "metadata": {},
   "outputs": [],
   "source": [
    "WORD_RE = re.compile('\\w+') # Compiles a regex into a regex object\n",
    "index = {}\n",
    "with open('/home/jehyuk/Documents/Fluent_Python_appendix/data/zen.txt', encoding = 'utf-8') as fp:\n",
    "    for line_no, content in enumerate(fp, 1):\n",
    "        for match in WORD_RE.finditer(content):\n",
    "            word = match.group()\n",
    "            col_no = match.start() + 1\n",
    "            location = (line_no, col_no)\n",
    "            # print(word, location)\n",
    "            occurrences = index.get(word, []) # 없는 경우 예외 처리([])\n",
    "            # print(\"{}: {}\".format(word, occurrences))\n",
    "            occurrences.append(location)\n",
    "            index[word] = occurrences\n",
    "# for word in sorted(index, key = str.upper):\n",
    "#     print(word, index[word])"
   ]
  },
  {
   "cell_type": "code",
   "execution_count": 8,
   "metadata": {
    "collapsed": true
   },
   "outputs": [],
   "source": [
    "WORD_RE = re.compile('\\w+')\n",
    "index = {}\n",
    "with open('/home/jehyuk/Documents/Fluent_Python_appendix/data/zen.txt', encoding = 'utf-8') as fp:\n",
    "    for line_no, content in enumerate(fp, 1):\n",
    "        for match in WORD_RE.finditer(content):\n",
    "            word = match.group()\n",
    "            col_no = match.start() + 1\n",
    "            location = (line_no, col_no)\n",
    "            index.setdefault(word, []).append(location)\n",
    "# for word in sorted(index, key=str.upper):\n",
    "#     print(word, index[word])"
   ]
  },
  {
   "cell_type": "markdown",
   "metadata": {},
   "source": [
    "### Handling missing keys with defaultdict"
   ]
  },
  {
   "cell_type": "code",
   "execution_count": 9,
   "metadata": {
    "collapsed": true
   },
   "outputs": [],
   "source": [
    "### Defaultdict: Another take on missing keys\n",
    "WORD_RE = re.compile('\\w+')\n",
    "index = collections.defaultdict(list)\n",
    "with open('/home/jehyuk/Documents/Fluent_Python_appendix/data/zen.txt', encoding = 'utf-8') as fp:\n",
    "    for line_no, content in enumerate(fp):\n",
    "        for match in WORD_RE.finditer(content):\n",
    "            word = match.group()\n",
    "            col_no = match.start() + 1\n",
    "            location = (line_no, col_no)\n",
    "            index[word].append(location)\n",
    "# for word in sorted(index, key = str.upper):\n",
    "#     print(word, index[word])"
   ]
  },
  {
   "cell_type": "markdown",
   "metadata": {
    "collapsed": true
   },
   "source": [
    "### Handling missing keys with __missing__ method"
   ]
  },
  {
   "cell_type": "code",
   "execution_count": 10,
   "metadata": {
    "collapsed": true
   },
   "outputs": [],
   "source": [
    "class StrKeyDict0(dict): # dict를 상속\n",
    "    def __missing__(self, key):\n",
    "        if isinstance(key, str):\n",
    "            raise KeyError(key) # 이미 key값이 string임에도 불구하고, missing된 상태라면, Keyerror발생\n",
    "        return self[str(key)] # key값이 string이 아닐 경우, str으로 반환하고, 이를 dict에서 찾음\n",
    "    \n",
    "    def get(self, key, default=None):\n",
    "        try:\n",
    "            return self[key]\n",
    "        except KeyError:\n",
    "            return default\n",
    "        \n",
    "    def __contains__(self, key):\n",
    "        return key in self.keys() or str(key) in self.keys()\n",
    "d = StrKeyDict0([('0', 'zero'), ('4','four')])\n",
    "# print(d['0'])\n",
    "# print(d[4])\n",
    "# print(d.data) # 일반 dict에선 data라는게 정의가 안되있음\n",
    "# print(d[1])"
   ]
  },
  {
   "cell_type": "markdown",
   "metadata": {},
   "source": [
    "### Variations of dict(Counter)"
   ]
  },
  {
   "cell_type": "code",
   "execution_count": 11,
   "metadata": {},
   "outputs": [
    {
     "name": "stdout",
     "output_type": "stream",
     "text": [
      "Counter({'1': 5, '3': 5, '2': 5, '5': 2, '4': 2, '6': 1})\n"
     ]
    }
   ],
   "source": [
    "ct = collections.Counter('12312312312312345456')\n",
    "print(ct)\n",
    "ct.update('676767')\n",
    "# print(ct)\n",
    "# print(ct.most_common(3))"
   ]
  },
  {
   "cell_type": "markdown",
   "metadata": {},
   "source": [
    "### Subclassing UserDict"
   ]
  },
  {
   "cell_type": "code",
   "execution_count": 16,
   "metadata": {},
   "outputs": [],
   "source": [
    "class StrKeyDict1(collections.UserDict):\n",
    "    def __missing__(self, key):\n",
    "        if isinstance(key, str):\n",
    "            raise KeyError(key)\n",
    "        return self[str(key)]\n",
    "    def __contains__(self, key):\n",
    "        return str(key) in self.data\n",
    "    def __setitem__(self, key, item):\n",
    "        self.data[str(key)] = item\n",
    "\n",
    "d = StrKeyDict1([('0', 'zero'), ('4','four')])\n",
    "# print(d['0'])\n",
    "# print(d[4])\n",
    "# print(d.data) # Userdict를 상속받았고, Userdict에는 data라는 변수가 정의가 되어 있는 것으로 보임\n",
    "# print(d[1])    "
   ]
  },
  {
   "cell_type": "markdown",
   "metadata": {},
   "source": [
    "### Immutable Mappings"
   ]
  },
  {
   "cell_type": "code",
   "execution_count": 13,
   "metadata": {
    "collapsed": true
   },
   "outputs": [],
   "source": [
    "from types import MappingProxyType"
   ]
  },
  {
   "cell_type": "code",
   "execution_count": 14,
   "metadata": {},
   "outputs": [],
   "source": [
    "d = {1:'A'}\n",
    "d_proxy = MappingProxyType(d)\n",
    "# print(d_proxy)\n",
    "# print(d_proxy[1])\n",
    "# d_proxy[2] = 'x' # 이 연산은 불가능. --> MappingProxy는 read-only\n",
    "d[2]= 'B'\n",
    "d_proxy = MappingProxyType(d)\n",
    "# print(d_proxy) # dict자체를 바꿔줘야 위에서 목표했던 바를 할 수 있음"
   ]
  },
  {
   "cell_type": "markdown",
   "metadata": {},
   "source": [
    "# Set"
   ]
  },
  {
   "cell_type": "markdown",
   "metadata": {},
   "source": [
    "#### Set: A collection of unique objects"
   ]
  },
  {
   "cell_type": "code",
   "execution_count": 17,
   "metadata": {},
   "outputs": [
    {
     "name": "stdout",
     "output_type": "stream",
     "text": [
      "['a', 'b', 'c', 'a']\n",
      "{'c', 'a', 'b'}\n"
     ]
    }
   ],
   "source": [
    "a = ['a','b','c','a']\n",
    "set_a = set(a)\n",
    "print(a)\n",
    "print(set_a)"
   ]
  },
  {
   "cell_type": "code",
   "execution_count": 18,
   "metadata": {
    "collapsed": true
   },
   "outputs": [],
   "source": [
    "from dis import dis"
   ]
  },
  {
   "cell_type": "code",
   "execution_count": 20,
   "metadata": {},
   "outputs": [
    {
     "name": "stdout",
     "output_type": "stream",
     "text": [
      "CPU times: user 0 ns, sys: 0 ns, total: 0 ns\n",
      "Wall time: 10.3 µs\n",
      "CPU times: user 0 ns, sys: 0 ns, total: 0 ns\n",
      "Wall time: 13.6 µs\n"
     ]
    },
    {
     "data": {
      "text/plain": [
       "{1, 2, 3}"
      ]
     },
     "execution_count": 20,
     "metadata": {},
     "output_type": "execute_result"
    }
   ],
   "source": [
    "%time {1,2,3,1,2,3,1,2,3,1,2,3,1,2,3}\n",
    "%time set([1,2,3,1,2,3,1,2,3,1,2,3,1,2,3])\n",
    "# dis('{1,2,3,1,2,3,1,2,3,1,2,3,1,2,3}')\n",
    "# dis('set([1,2,3,1,2,3,1,2,3,1,2,3,1,2,3])')"
   ]
  },
  {
   "cell_type": "code",
   "execution_count": 21,
   "metadata": {},
   "outputs": [
    {
     "name": "stdout",
     "output_type": "stream",
     "text": [
      "{(172, '¬'), (167, '§'), (176, '°'), (174, '®'), (247, '÷'), (182, '¶'), (164, '¤'), (165, '¥'), (169, '©'), (163, '£'), (215, '×'), (181, 'µ'), (162, '¢'), (177, '±')}\n"
     ]
    }
   ],
   "source": [
    "### Set Comprehension\n",
    "from unicodedata import name\n",
    "a = {(i,chr(i)) for i in range(64, 256) if 'SIGN' in name(chr(i), '')}\n",
    "print(a)"
   ]
  },
  {
   "cell_type": "code",
   "execution_count": 22,
   "metadata": {},
   "outputs": [
    {
     "data": {
      "text/plain": [
       "{1, 2, 3, 4, 5, 6}"
      ]
     },
     "execution_count": 22,
     "metadata": {},
     "output_type": "execute_result"
    }
   ],
   "source": [
    "a = {1,2,3}\n",
    "b,c,d = [1,2],[3,4],[5,6]\n",
    "a.union(b,c,d) # Inplace 연산은 아님"
   ]
  },
  {
   "cell_type": "markdown",
   "metadata": {
    "collapsed": true
   },
   "source": [
    "### Key search in dictionary (Time comparison)"
   ]
  },
  {
   "cell_type": "code",
   "execution_count": 133,
   "metadata": {
    "collapsed": true
   },
   "outputs": [],
   "source": [
    "a, b = dict(), list()\n",
    "for i in range(100000):\n",
    "    a[i] = i\n",
    "    b.append((i,i))"
   ]
  },
  {
   "cell_type": "code",
   "execution_count": 134,
   "metadata": {},
   "outputs": [
    {
     "name": "stdout",
     "output_type": "stream",
     "text": [
      "a[99000]: 99000, time : 0.0001\n",
      "b[99000]: 99000, time : 0.0254\n"
     ]
    }
   ],
   "source": [
    "import time\n",
    "key = 99000\n",
    "start = time.time()\n",
    "print('a[{}]: {}, time : {:.4f}'.format(key, key, time.time() - start))\n",
    "\n",
    "start = time.time()\n",
    "for i in range(len(b)):\n",
    "    if b[i][0] == key:\n",
    "        print('b[{}]: {}, time : {:.4f}'.format(key, key, time.time() - start))"
   ]
  },
  {
   "cell_type": "code",
   "execution_count": 128,
   "metadata": {
    "collapsed": true
   },
   "outputs": [],
   "source": [
    "DIAL_CODES = list()\n",
    "DIAL_CODES.append((86,'China'))\n",
    "DIAL_CODES.append((1,'US'))\n",
    "DIAL_CODES.append((82,'Korea'))\n",
    "DIAL_CODES.append((81,'Japan'))\n",
    "DIAL_CODES.append((7,'Russia'))"
   ]
  },
  {
   "cell_type": "code",
   "execution_count": 131,
   "metadata": {},
   "outputs": [
    {
     "name": "stdout",
     "output_type": "stream",
     "text": [
      "d1: dict_keys([1, 82, 7, 86, 81])\n",
      "d2: dict_keys([1, 82, 86, 81, 7])\n",
      "d3: dict_keys([81, 82, 1, 86, 7])\n",
      "True\n"
     ]
    }
   ],
   "source": [
    "d1 = dict(DIAL_CODES)\n",
    "print(\"d1: {}\".format(d1.keys()))\n",
    "d2 = dict(sorted(DIAL_CODES))\n",
    "print(\"d2: {}\".format(d2.keys()))\n",
    "d3 = dict(sorted(DIAL_CODES, key=lambda x:x[1]))\n",
    "print((\"d3: {}\".format(d3.keys())))\n",
    "print((d1==d2) and (d2 == d3))"
   ]
  },
  {
   "cell_type": "markdown",
   "metadata": {},
   "source": [
    "### Adding item in dictionary\n",
    "#### Method1: 매번 Iterating하면서 없는 키들을 추가하면서 dictionary 생성\n",
    "#### Method2: Iterating하면서 없는 키들을 먼저 탐색하고 dictionary는 한방에 추가"
   ]
  },
  {
   "cell_type": "code",
   "execution_count": 154,
   "metadata": {},
   "outputs": [
    {
     "name": "stdout",
     "output_type": "stream",
     "text": [
      "Method1 Time: 1.9957\n"
     ]
    }
   ],
   "source": [
    "a, b = dict(), list()\n",
    "for i in range(100000):\n",
    "    a[i] = i\n",
    "    b.append((i,i))\n",
    "\n",
    "new_keys = [x for x in range(99995, 11000000)]\n",
    "start = time.time()\n",
    "for key in new_keys:\n",
    "    if key not in a.keys():\n",
    "        a[key] = key\n",
    "print(\"Method1 Time: {:.4f}\".format(time.time() - start))"
   ]
  },
  {
   "cell_type": "code",
   "execution_count": 155,
   "metadata": {},
   "outputs": [
    {
     "name": "stdout",
     "output_type": "stream",
     "text": [
      "Method2 Time: 1.6884\n"
     ]
    }
   ],
   "source": [
    "a, b = dict(), list()\n",
    "for i in range(100000):\n",
    "    a[i] = i\n",
    "    b.append((i,i))\n",
    "\n",
    "new_keys = [x for x in range(99995, 11000000)]\n",
    "add_a = dict()\n",
    "start = time.time()\n",
    "add_keys = new_keys - a.keys()\n",
    "for key in add_keys:\n",
    "    add_a[key] = key\n",
    "a.update(add_a)\n",
    "print(\"Method2 Time: {:.4f}\".format(time.time() - start))"
   ]
  },
  {
   "cell_type": "markdown",
   "metadata": {},
   "source": [
    "#### --> 추가되어야 할 dictionary의 크기가 큰 경우, method2가 좋으나, 작을경우, method1이 더 빠른 경우도 존재 "
   ]
  }
 ],
 "metadata": {
  "kernelspec": {
   "display_name": "Python 3",
   "language": "python",
   "name": "python3"
  },
  "language_info": {
   "codemirror_mode": {
    "name": "ipython",
    "version": 3
   },
   "file_extension": ".py",
   "mimetype": "text/x-python",
   "name": "python",
   "nbconvert_exporter": "python",
   "pygments_lexer": "ipython3",
   "version": "3.5.4"
  }
 },
 "nbformat": 4,
 "nbformat_minor": 2
}
