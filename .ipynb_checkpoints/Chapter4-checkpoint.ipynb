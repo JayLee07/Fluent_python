{
 "cells": [
  {
   "cell_type": "markdown",
   "metadata": {},
   "source": [
    "# 4. Text vs bytes"
   ]
  },
  {
   "cell_type": "markdown",
   "metadata": {},
   "source": [
    "## 4.1 Character Issues\n",
    "### 유니코드\n",
    "#### Code point: 문자의 단위 원소. 0~1,114,111tkdldml 10진수. 유니코드 표준에서는 U+(4~6자리 16진수) 로 표현함 (ex: A --> 'U+0041')\n",
    "#### Encoding: code point를 byte로 변환하는 알고리즘. (ex: 'A'(U+0041) --> UTF-8: \\x41, UTF-16LE: \\x41\\x00)\n",
    "#### Decoding: byte를 code point로 변환하는 알고리즘."
   ]
  },
  {
   "cell_type": "code",
   "execution_count": 8,
   "metadata": {
    "collapsed": true
   },
   "outputs": [
    {
     "name": "stdout",
     "output_type": "stream",
     "text": [
      "5\n",
      "b'cafe\\xe2\\x99\\xa9'\n",
      "7\n",
      "cafe♩\n"
     ]
    }
   ],
   "source": [
    "a = 'cafe♩'\n",
    "print(len(a))\n",
    "b = a.encode('utf8')\n",
    "print(b) # Bytes literal은 접두사 b로 시작한다\n",
    "print(len(b))\n",
    "print(b.decode('utf8'))"
   ]
  },
  {
   "cell_type": "markdown",
   "metadata": {},
   "source": [
    "## 4.2 Bytes essentials\n",
    "### - bytes and byte array\n",
    "    #### - binary sequence가 실제로 정수형 시퀀스이긴 하지만, 많은 경우 ASCII text가 들어감\n",
    "        #### 출력형태 1: 화면에 출력 가능한 아스키 문자 --> 그대로 출력\n",
    "        #### 출력형태 2: 탭, 개행 문자 등 --> \\t, \\n 등으로 출력\n",
    "        #### 출력형태 3: 그외의 값 --> 16진수 이스케이프 시퀀스로 출력 (ex: \\x00)\n",
    "#### - str이 제공하는 method를 거의 다 제공"
   ]
  },
  {
   "cell_type": "code",
   "execution_count": 49,
   "metadata": {},
   "outputs": [
    {
     "name": "stdout",
     "output_type": "stream",
     "text": [
      "b'cafe\\xe2\\x99\\xaa'\n",
      "7\n",
      "99 b'c'\n",
      "97 b'ca'\n",
      "102 b'caf'\n",
      "101 b'cafe'\n",
      "226 b'cafe\\xe2'\n",
      "153 b'cafe\\xe2\\x99'\n",
      "170 b'cafe\\xe2\\x99\\xaa'\n",
      "bytearray(b'cafe\\xe2\\x99\\xaa')\n",
      "7\n",
      "99 bytearray(b'c')\n",
      "97 bytearray(b'ca')\n",
      "102 bytearray(b'caf')\n",
      "101 bytearray(b'cafe')\n",
      "226 bytearray(b'cafe\\xe2')\n",
      "153 bytearray(b'cafe\\xe2\\x99')\n",
      "170 bytearray(b'cafe\\xe2\\x99\\xaa')\n"
     ]
    }
   ],
   "source": [
    "a = bytes('cafe♪', encoding='utf_8')\n",
    "a_arr = bytearray(a)\n",
    "\n",
    "print(a)\n",
    "print(len(a))\n",
    "for i in range(len(a)):\n",
    "    print(a[i], a[:i+1])\n",
    "\n",
    "print(a_arr)\n",
    "print(len(a_arr))\n",
    "for i in range(len(a_arr)):\n",
    "    print(a_arr[i], a_arr[:i+1])"
   ]
  },
  {
   "cell_type": "code",
   "execution_count": 36,
   "metadata": {},
   "outputs": [
    {
     "data": {
      "text/plain": [
       "b'JK\\xec\\xa9'"
      ]
     },
     "execution_count": 36,
     "metadata": {},
     "output_type": "execute_result"
    }
   ],
   "source": [
    "bytes.fromhex('4A 4B EC A9')"
   ]
  },
  {
   "cell_type": "code",
   "execution_count": 45,
   "metadata": {},
   "outputs": [
    {
     "name": "stdout",
     "output_type": "stream",
     "text": [
      "array('h', [-3, -2, -1, 0, 1, 2, 3, 4])\n",
      "b'\\xfd\\xff\\xfe\\xff\\xff\\xff\\x00\\x00\\x01\\x00\\x02\\x00\\x03\\x00\\x04\\x00'\n"
     ]
    }
   ],
   "source": [
    "import array\n",
    "numbers = array.array('h', [-3, -2, -1, 0, 1, 2, 3, 4])\n",
    "octets = bytes(numbers)\n",
    "print(numbers)\n",
    "print(octets)"
   ]
  },
  {
   "cell_type": "code",
   "execution_count": 48,
   "metadata": {},
   "outputs": [
    {
     "name": "stdout",
     "output_type": "stream",
     "text": [
      "b'\\x89PNG\\r\\n\\x1a\\n\\x00\\x00'\n",
      "(b'\\x89PN', b'G\\r\\n', 2586, 0)\n"
     ]
    }
   ],
   "source": [
    "import struct\n",
    "fmt = '3s3sHH'\n",
    "with open('/home/jehyuk/Download/tw10_scvae_score_11_Confusion1.png', 'rb') as f:\n",
    "    img = memoryview(f.read())\n",
    "header = img[:10]\n",
    "print(bytes(header))\n",
    "print(struct.unpack(fmt, header))\n",
    "del header\n",
    "del img"
   ]
  },
  {
   "cell_type": "markdown",
   "metadata": {},
   "source": [
    "## 4.3 Basic Encoder/Decoder\n",
    "    #### - codec은 open(), str.encode(), bytes.decode()등의 함수를 호출할 대, encoding 인수에 전달하여 사용할 수 있음"
   ]
  },
  {
   "cell_type": "code",
   "execution_count": 52,
   "metadata": {},
   "outputs": [
    {
     "name": "stdout",
     "output_type": "stream",
     "text": [
      "latin_1\tb'cafe'\n",
      "latin_1\tb'cafe'\n",
      "latin_1\tb'\\xff\\xfec\\x00a\\x00f\\x00e\\x00'\n"
     ]
    }
   ],
   "source": [
    "for codec in ['latin_1','utf_8','utf_16']:\n",
    "    print(code, 'cafe'.encode(codec), sep='\\t')"
   ]
  },
  {
   "cell_type": "markdown",
   "metadata": {},
   "source": [
    "## 4.4 Understanding Encoders/Decoders\n",
    "### 4.4.1 Coping with UnicodeEncodeError\n",
    "    #### - 텍스트를 바이트로 변환할 때, 문자가 대상 인코딩에 정의안되어 있으면, 별도의 처리기 지정 안하면 UnicodeEncodeError발생"
   ]
  },
  {
   "cell_type": "code",
   "execution_count": 62,
   "metadata": {},
   "outputs": [
    {
     "name": "stdout",
     "output_type": "stream",
     "text": [
      "b'Sao Paulo\\xe2\\x99\\xaa'\n",
      "b'\\xff\\xfeS\\x00a\\x00o\\x00 \\x00P\\x00a\\x00u\\x00l\\x00o\\x00j&'\n",
      "b'Sao Paulo'\n",
      "b'Sao Paulo'\n",
      "b'Sao Paulo?'\n",
      "b'Sao Paulo&#9834;'\n",
      "b'Sao Paulo\\xa2\\xdc'\n"
     ]
    }
   ],
   "source": [
    "city = 'Sao Paulo♪'\n",
    "print(city.encode('utf_8'))\n",
    "print(city.encode('utf_16'))\n",
    "print(city.encode('iso8859_1', errors='ignore'))\n",
    "print(city.encode('cp437', errors='ignore'))\n",
    "print(city.encode('cp437', errors='replace')) # 인코딩할 수 없는 문자를 ?로 치환함 \n",
    "print(city.encode('cp437', errors='xmlcharrefreplace')) # 인코딩할 수 없는 문자를 XML 개체로 치환함\n",
    "print(city.encode('cp949'))"
   ]
  },
  {
   "cell_type": "markdown",
   "metadata": {},
   "source": [
    "### 4.4.2 Coping with UnicodeDecodeError"
   ]
  },
  {
   "cell_type": "code",
   "execution_count": 67,
   "metadata": {},
   "outputs": [
    {
     "name": "stdout",
     "output_type": "stream",
     "text": [
      "Montréal\n",
      "Montrιal\n",
      "MontrИal\n",
      "Montr�al\n"
     ]
    }
   ],
   "source": [
    "octets = b'Montr\\xe9al'\n",
    "print(octets.decode('cp1252'))\n",
    "print(octets.decode('iso8859_7'))\n",
    "print(octets.decode('koi8_r'))\n",
    "# print(octets.decode('utf_8'))\n",
    "print(octets.decode('utf_8', errors = 'replace'))"
   ]
  },
  {
   "cell_type": "markdown",
   "metadata": {},
   "source": [
    "### 4.4.3 SyntaxError"
   ]
  },
  {
   "cell_type": "code",
   "execution_count": null,
   "metadata": {
    "collapsed": true
   },
   "outputs": [],
   "source": []
  }
 ],
 "metadata": {
  "kernelspec": {
   "display_name": "Python 3",
   "language": "python",
   "name": "python3"
  },
  "language_info": {
   "codemirror_mode": {
    "name": "ipython",
    "version": 3
   },
   "file_extension": ".py",
   "mimetype": "text/x-python",
   "name": "python",
   "nbconvert_exporter": "python",
   "pygments_lexer": "ipython3",
   "version": "3.6.3"
  }
 },
 "nbformat": 4,
 "nbformat_minor": 2
}
