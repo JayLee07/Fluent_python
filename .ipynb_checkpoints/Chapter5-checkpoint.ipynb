{
 "cells": [
  {
   "cell_type": "markdown",
   "metadata": {},
   "source": [
    "## 5.1"
   ]
  },
  {
   "cell_type": "code",
   "execution_count": 1,
   "metadata": {
    "collapsed": true
   },
   "outputs": [],
   "source": [
    "def factorial(n):\n",
    "    '''returns n!'''\n",
    "    return 1 if n<2 else n*factorial(n-1)"
   ]
  },
  {
   "cell_type": "code",
   "execution_count": 2,
   "metadata": {},
   "outputs": [
    {
     "name": "stdout",
     "output_type": "stream",
     "text": [
      "3628800\n",
      "returns n!\n",
      "<class 'function'>\n"
     ]
    }
   ],
   "source": [
    "print(factorial(10))\n",
    "print(factorial.__doc__)\n",
    "print(type(factorial))"
   ]
  },
  {
   "cell_type": "code",
   "execution_count": 3,
   "metadata": {},
   "outputs": [
    {
     "name": "stdout",
     "output_type": "stream",
     "text": [
      "<function factorial at 0x7f5fe2fb2048>\n",
      "120\n",
      "<map object at 0x7f5fe2faceb8>\n",
      "<map object at 0x7f5fe2facf98>\n",
      "[1, 1, 2, 6, 24, 120, 720, 5040, 40320, 362880]\n"
     ]
    }
   ],
   "source": [
    "fact = factorial\n",
    "print(fact)\n",
    "print(fact(5))\n",
    "print(map(factorial, range(10)))\n",
    "print(map(fact, range(10)))\n",
    "print(list(map(fact, range(10))))"
   ]
  },
  {
   "cell_type": "markdown",
   "metadata": {},
   "source": [
    "## 5.2"
   ]
  },
  {
   "cell_type": "markdown",
   "metadata": {},
   "source": [
    "### - Higher order function(고위함수)\n",
    "    - 함수를 인수로 받거나, 결과로 반환하는 함수\n",
    "    - ex: sorted(). 밑의 예제에서 len이라는 함수를 인수로 받음\n",
    "    - 밑의 예제에서 인수를 하나 받는 함수는 모두 key 인수로 사용될 수 있음"
   ]
  },
  {
   "cell_type": "code",
   "execution_count": 4,
   "metadata": {},
   "outputs": [
    {
     "name": "stdout",
     "output_type": "stream",
     "text": [
      "['a', 'bb', 'cc', 'ddd', 'eee', 'ffff']\n",
      "elppa\n",
      "['abc', 'cdfh', 'ggggioh', 'ekkkkk', 'deflk']\n"
     ]
    }
   ],
   "source": [
    "ex1 = ['a','bb','cc','ddd','eee','ffff']\n",
    "ex2 = ['abc','cdfh','deflk','ekkkkk', 'ggggioh']\n",
    "print(sorted(ex1, key=len))\n",
    "def reverse(word):\n",
    "    return word[::-1]\n",
    "print(reverse('apple'))\n",
    "print(sorted(ex2, key=reverse))"
   ]
  },
  {
   "cell_type": "markdown",
   "metadata": {},
   "source": [
    "### 5.2.1 map(), filter(), reduce()의 대안\n",
    "    - map(), filter() 함수는 python3에 내장되어 있지만 list comprehension과 generator가 소개된 이후, 중요성이 떨어짐\n",
    "    - Python3에서 map()과 filter()는 제너레이터를 반환 --> 제너레이터 표현식이 이 함수들을 직접 대체"
   ]
  },
  {
   "cell_type": "code",
   "execution_count": 5,
   "metadata": {},
   "outputs": [
    {
     "name": "stdout",
     "output_type": "stream",
     "text": [
      "[1, 1, 2, 6, 24, 120]\n",
      "[1, 1, 2, 6, 24, 120]\n",
      "[1, 6, 120]\n",
      "[1, 6, 120]\n",
      "4950\n",
      "4950\n"
     ]
    }
   ],
   "source": [
    "from functools import reduce\n",
    "from operator import add\n",
    "print(list(map(fact, range(6))))\n",
    "print([fact(n) for n in range(6)])\n",
    "print(list(map(factorial, filter(lambda n: n%2, range(6)))))\n",
    "print([factorial(n) for n in range(6) if n%2])\n",
    "print(reduce(add, range(100)))\n",
    "print(sum(range(100)))"
   ]
  },
  {
   "cell_type": "markdown",
   "metadata": {},
   "source": [
    "## 5.3\n",
    "    - lambda: python 표현식 내에 익명함수를 생성. 그러나 순수한 표현식으로만 구성되도록 제한. --> WHile, try등의 python 문장을 사용할 수 없음\n",
    "    - 익명함수는 인수 목록 안에서 아주 유용하게 사용됨\n",
    "    - 고위 함수의 인수로 사용되는 경우를 제외하면, 익명함수는 거의 사용되지 않음"
   ]
  },
  {
   "cell_type": "code",
   "execution_count": 6,
   "metadata": {},
   "outputs": [
    {
     "name": "stdout",
     "output_type": "stream",
     "text": [
      "['ggggiog', 'ekkkkk', 'deflk', 'cdfh', 'abc']\n",
      "['abc', 'ggggiog', 'cdfh', 'ekkkkk', 'deflk']\n"
     ]
    }
   ],
   "source": [
    "ex2 = ['abc','cdfh','deflk','ekkkkk', 'ggggiog']\n",
    "print(reverse(ex2))\n",
    "print(sorted(ex2, key = lambda word: word[::-1])) # ex2의 각 원소를 reverse시키고, 이를 기준으로 sorted시키는 것"
   ]
  },
  {
   "cell_type": "markdown",
   "metadata": {},
   "source": [
    "## 5.4 Callable Object\n",
    "    - 호출할 수 있는 객체인지 알아보려면 callable() 내장 함수를 사용함\n",
    "    - 7 callables: def함수, 내장함수, 내장 method(C언어로 구현된 method), method, class, class object, generator function(yield를 사용하는 함수나 method. generator object를 return)"
   ]
  },
  {
   "cell_type": "code",
   "execution_count": 7,
   "metadata": {},
   "outputs": [
    {
     "name": "stdout",
     "output_type": "stream",
     "text": [
      "<built-in function abs> <class 'str'> 13\n",
      "[True, True, False]\n"
     ]
    }
   ],
   "source": [
    "print(abs, str, 13)\n",
    "print([callable(obj) for obj in (abs, str, 13)])"
   ]
  },
  {
   "cell_type": "markdown",
   "metadata": {},
   "source": [
    "## 5.5 User-defined Callables\n",
    "    - python function은 실제 object. 뿐만 아니라, 모든 파이썬 object가 function처럼 동작하게 할 수 있음"
   ]
  },
  {
   "cell_type": "code",
   "execution_count": 8,
   "metadata": {},
   "outputs": [
    {
     "name": "stdout",
     "output_type": "stream",
     "text": [
      "4\n",
      "1\n",
      "True\n"
     ]
    }
   ],
   "source": [
    "import random\n",
    "class BingoCage:\n",
    "    def __init__(self, items):\n",
    "        self._items = list(items)\n",
    "        random.shuffle(self._items)\n",
    "        \n",
    "    def pick(self):\n",
    "        try:\n",
    "            return self._items.pop()\n",
    "        except IndexError:\n",
    "            raise LookupError('pick from empty Bingo cage')\n",
    "    \n",
    "    def __call__(self):\n",
    "        return self.pick()\n",
    "    \n",
    "bingo = BingoCage(range(5))\n",
    "print(bingo.pick())\n",
    "print(bingo())\n",
    "print(callable(bingo))"
   ]
  },
  {
   "cell_type": "markdown",
   "metadata": {},
   "source": [
    "## 5.6 Function Introspection\n",
    "    - dir() 함수를 사용하여 사용자 정의 함수에서 사용하는 속성들을 볼 수 있음\n",
    "    - __dict__속성을 이용해서 객체에 할당된 사용자 속성을 보관함\n",
    "    - 기본적인 애너테이션 형태로서 유용함\n",
    "    "
   ]
  },
  {
   "cell_type": "code",
   "execution_count": 9,
   "metadata": {
    "collapsed": true
   },
   "outputs": [],
   "source": [
    "def upper_case_name(obj):\n",
    "    return (\"%s %s\" %(obj.first_name, obj.last_name)).upper()\n",
    "upper_case_name.short_description = 'Customer name'"
   ]
  },
  {
   "cell_type": "code",
   "execution_count": 10,
   "metadata": {},
   "outputs": [
    {
     "data": {
      "text/plain": [
       "['__annotations__',\n",
       " '__call__',\n",
       " '__closure__',\n",
       " '__code__',\n",
       " '__defaults__',\n",
       " '__get__',\n",
       " '__globals__',\n",
       " '__kwdefaults__',\n",
       " '__name__',\n",
       " '__qualname__']"
      ]
     },
     "execution_count": 10,
     "metadata": {},
     "output_type": "execute_result"
    }
   ],
   "source": [
    "class C:\n",
    "    pass\n",
    "obj = C()\n",
    "def func():\n",
    "    pass\n",
    "sorted(set(dir(func)) - set(dir(obj)))"
   ]
  },
  {
   "cell_type": "code",
   "execution_count": 11,
   "metadata": {
    "collapsed": true
   },
   "outputs": [],
   "source": [
    "def tag(name, *content, cls = None, **attrs):\n",
    "    if cls is not None:\n",
    "        attrs['class'] = cls\n",
    "    \n",
    "    if attrs:\n",
    "        attr_str = ''.join(' %s = \"%s\"' %(attr, value) for attr, value in sorted(attrs.items()))\n",
    "    else:\n",
    "        attr_str = ''\n",
    "    \n",
    "    if content:\n",
    "        return '\\n'.join('<%s%s>%s</%s>'% (name, attr_str, c, name) for c in content)\n",
    "    else:\n",
    "        return '<%s%s />' %(name, attr_str)"
   ]
  },
  {
   "cell_type": "code",
   "execution_count": 12,
   "metadata": {},
   "outputs": [
    {
     "name": "stdout",
     "output_type": "stream",
     "text": [
      "<br />\n",
      "<p>hello</p>\n",
      "<p>hello</p>\n",
      "<p>world</p>\n",
      "<p id = \"33\">hello</p>\n",
      "<p class = \"sidebar\">hello</p>\n",
      "<p class = \"sidebar\">world</p>\n",
      "<img content = \"testing\" />\n",
      "<img class = \"framed\" src = \"sunset.jpg\" title = \"Sunset Boulevard\" />\n"
     ]
    }
   ],
   "source": [
    "print(tag('br'))\n",
    "print(tag('p','hello'))\n",
    "print(tag('p','hello','world'))\n",
    "print(tag('p','hello',id=33))\n",
    "print(tag('p','hello','world',cls='sidebar'))\n",
    "print(tag(content='testing',name='img'))\n",
    "my_tag = {\n",
    "    'name': 'img', 'title': 'Sunset Boulevard', 'src': 'sunset.jpg', 'cls': 'framed'\n",
    "}\n",
    "print(tag(**my_tag))"
   ]
  },
  {
   "cell_type": "code",
   "execution_count": 13,
   "metadata": {},
   "outputs": [
    {
     "data": {
      "text/plain": [
       "(1, 2)"
      ]
     },
     "execution_count": 13,
     "metadata": {},
     "output_type": "execute_result"
    }
   ],
   "source": [
    "def f(a, *, b):\n",
    "    return a, b\n",
    "f(1, b=2)\n",
    "# f(1,2) --> error"
   ]
  },
  {
   "cell_type": "markdown",
   "metadata": {},
   "source": [
    "## 5.8"
   ]
  },
  {
   "cell_type": "code",
   "execution_count": 14,
   "metadata": {
    "collapsed": true
   },
   "outputs": [],
   "source": [
    "def clip(text, max_len=80):\n",
    "    end = None\n",
    "    if len(text) > max_len:\n",
    "        space_before = text.rfind(' ', 0, max_len)\n",
    "        if space_before >= 0:\n",
    "            end = space_before\n",
    "        else:\n",
    "            space_after = text.rfind(' ', max_len)\n",
    "            if space_after >= 0:\n",
    "                end = space_after\n",
    "    if end in None:\n",
    "        end = len(text)\n",
    "    return text[:end].rstrip()"
   ]
  },
  {
   "cell_type": "code",
   "execution_count": 15,
   "metadata": {},
   "outputs": [
    {
     "name": "stdout",
     "output_type": "stream",
     "text": [
      "(80,)\n",
      "<code object clip at 0x7f5fe2f9c810, file \"<ipython-input-14-21b621358688>\", line 1>\n",
      "('text', 'max_len', 'end', 'space_before', 'space_after')\n",
      "2\n"
     ]
    }
   ],
   "source": [
    "print(clip.__defaults__)\n",
    "print(clip.__code__)\n",
    "print(clip.__code__.co_varnames)\n",
    "print(clip.__code__.co_argcount)"
   ]
  },
  {
   "cell_type": "code",
   "execution_count": 16,
   "metadata": {},
   "outputs": [
    {
     "name": "stdout",
     "output_type": "stream",
     "text": [
      "(text, max_len=80)\n",
      "(text, max_len=80)\n",
      "1: text = <class 'inspect._empty'>\n",
      "1: max_len = 80\n"
     ]
    }
   ],
   "source": [
    "from inspect import signature\n",
    "sig = signature(clip)\n",
    "print(sig)\n",
    "print(str(sig))\n",
    "for name, param in sig.parameters.items():\n",
    "    print('{}: {} = {}'.format(param.kind, name, param.default))"
   ]
  },
  {
   "cell_type": "markdown",
   "metadata": {},
   "source": [
    "#### bind(): 임의 갯수의 인수를 받고, 인수를 매개변수에 대응시키는 일반적인 규칙을 적용, 그것을 시그너처에 들어있는 매개 변수에 바인딩\n",
    "#### 아래 예제에서 tag(name, *content, cls = None, **attrs) 로 정의된 함수다. my_tag의 'name'과 'cls'를 tag의 'name','cls'에 바인딩하고, 나머지는 **attrs에"
   ]
  },
  {
   "cell_type": "code",
   "execution_count": 17,
   "metadata": {},
   "outputs": [
    {
     "name": "stdout",
     "output_type": "stream",
     "text": [
      "<BoundArguments (name='img', cls='friend', attrs={'title': 'Sunset Boulevard', 'src': 'sunset.jpg'})>\n",
      "name = img\n",
      "cls = friend\n",
      "attrs = {'title': 'Sunset Boulevard', 'src': 'sunset.jpg'}\n"
     ]
    }
   ],
   "source": [
    "sig = signature(tag)\n",
    "my_tag = {'name': 'img', 'title': 'Sunset Boulevard', 'src': 'sunset.jpg', 'cls': 'friend'}\n",
    "bound_args = sig.bind(**my_tag)\n",
    "print(bound_args)\n",
    "for name, value in bound_args.arguments.items():\n",
    "    print('{} = {}'.format(name, value))"
   ]
  },
  {
   "cell_type": "code",
   "execution_count": 18,
   "metadata": {},
   "outputs": [
    {
     "ename": "TypeError",
     "evalue": "missing a required argument: 'name'",
     "output_type": "error",
     "traceback": [
      "\u001b[0;31m---------------------------------------------------------------------------\u001b[0m",
      "\u001b[0;31mTypeError\u001b[0m                                 Traceback (most recent call last)",
      "\u001b[0;32m<ipython-input-18-a2183a171d91>\u001b[0m in \u001b[0;36m<module>\u001b[0;34m()\u001b[0m\n\u001b[1;32m      1\u001b[0m \u001b[0;32mdel\u001b[0m \u001b[0mmy_tag\u001b[0m\u001b[0;34m[\u001b[0m\u001b[0;34m'name'\u001b[0m\u001b[0;34m]\u001b[0m\u001b[0;34m\u001b[0m\u001b[0m\n\u001b[0;32m----> 2\u001b[0;31m \u001b[0mbound_args\u001b[0m \u001b[0;34m=\u001b[0m \u001b[0msig\u001b[0m\u001b[0;34m.\u001b[0m\u001b[0mbind\u001b[0m\u001b[0;34m(\u001b[0m\u001b[0;34m**\u001b[0m\u001b[0mmy_tag\u001b[0m\u001b[0;34m)\u001b[0m\u001b[0;34m\u001b[0m\u001b[0m\n\u001b[0m",
      "\u001b[0;32m~/anaconda3/lib/python3.6/inspect.py\u001b[0m in \u001b[0;36mbind\u001b[0;34m(*args, **kwargs)\u001b[0m\n\u001b[1;32m   2963\u001b[0m         \u001b[0;32mif\u001b[0m \u001b[0mthe\u001b[0m \u001b[0mpassed\u001b[0m \u001b[0marguments\u001b[0m \u001b[0mcan\u001b[0m \u001b[0;32mnot\u001b[0m \u001b[0mbe\u001b[0m \u001b[0mbound\u001b[0m\u001b[0;34m.\u001b[0m\u001b[0;34m\u001b[0m\u001b[0m\n\u001b[1;32m   2964\u001b[0m         \"\"\"\n\u001b[0;32m-> 2965\u001b[0;31m         \u001b[0;32mreturn\u001b[0m \u001b[0margs\u001b[0m\u001b[0;34m[\u001b[0m\u001b[0;36m0\u001b[0m\u001b[0;34m]\u001b[0m\u001b[0;34m.\u001b[0m\u001b[0m_bind\u001b[0m\u001b[0;34m(\u001b[0m\u001b[0margs\u001b[0m\u001b[0;34m[\u001b[0m\u001b[0;36m1\u001b[0m\u001b[0;34m:\u001b[0m\u001b[0;34m]\u001b[0m\u001b[0;34m,\u001b[0m \u001b[0mkwargs\u001b[0m\u001b[0;34m)\u001b[0m\u001b[0;34m\u001b[0m\u001b[0m\n\u001b[0m\u001b[1;32m   2966\u001b[0m \u001b[0;34m\u001b[0m\u001b[0m\n\u001b[1;32m   2967\u001b[0m     \u001b[0;32mdef\u001b[0m \u001b[0mbind_partial\u001b[0m\u001b[0;34m(\u001b[0m\u001b[0;34m*\u001b[0m\u001b[0margs\u001b[0m\u001b[0;34m,\u001b[0m \u001b[0;34m**\u001b[0m\u001b[0mkwargs\u001b[0m\u001b[0;34m)\u001b[0m\u001b[0;34m:\u001b[0m\u001b[0;34m\u001b[0m\u001b[0m\n",
      "\u001b[0;32m~/anaconda3/lib/python3.6/inspect.py\u001b[0m in \u001b[0;36m_bind\u001b[0;34m(self, args, kwargs, partial)\u001b[0m\n\u001b[1;32m   2878\u001b[0m                             \u001b[0mmsg\u001b[0m \u001b[0;34m=\u001b[0m \u001b[0;34m'missing a required argument: {arg!r}'\u001b[0m\u001b[0;34m\u001b[0m\u001b[0m\n\u001b[1;32m   2879\u001b[0m                             \u001b[0mmsg\u001b[0m \u001b[0;34m=\u001b[0m \u001b[0mmsg\u001b[0m\u001b[0;34m.\u001b[0m\u001b[0mformat\u001b[0m\u001b[0;34m(\u001b[0m\u001b[0marg\u001b[0m\u001b[0;34m=\u001b[0m\u001b[0mparam\u001b[0m\u001b[0;34m.\u001b[0m\u001b[0mname\u001b[0m\u001b[0;34m)\u001b[0m\u001b[0;34m\u001b[0m\u001b[0m\n\u001b[0;32m-> 2880\u001b[0;31m                             \u001b[0;32mraise\u001b[0m \u001b[0mTypeError\u001b[0m\u001b[0;34m(\u001b[0m\u001b[0mmsg\u001b[0m\u001b[0;34m)\u001b[0m \u001b[0;32mfrom\u001b[0m \u001b[0;32mNone\u001b[0m\u001b[0;34m\u001b[0m\u001b[0m\n\u001b[0m\u001b[1;32m   2881\u001b[0m             \u001b[0;32melse\u001b[0m\u001b[0;34m:\u001b[0m\u001b[0;34m\u001b[0m\u001b[0m\n\u001b[1;32m   2882\u001b[0m                 \u001b[0;31m# We have a positional argument to process\u001b[0m\u001b[0;34m\u001b[0m\u001b[0;34m\u001b[0m\u001b[0m\n",
      "\u001b[0;31mTypeError\u001b[0m: missing a required argument: 'name'"
     ]
    }
   ],
   "source": [
    "del my_tag['name']\n",
    "bound_args = sig.bind(**my_tag)"
   ]
  },
  {
   "cell_type": "markdown",
   "metadata": {},
   "source": [
    "## 5.9 Function Annotation"
   ]
  },
  {
   "cell_type": "markdown",
   "metadata": {},
   "source": [
    "    - 매개변수에 Annotation: 함수 선언에서 각 매개변수에 콜론(:)뒤에 annotation 표현식을 추가할 수 있음\n",
    "    - return 값에 annotation: 괄호와 마지막의 콜론(:)사이에 ->를 추가하여 annotation 표현식을 추가할 수 있음\n",
    "    - annotation은 처리하지 않음. 다만, dict형 __annotations__속성에 저장될 "
   ]
  },
  {
   "cell_type": "code",
   "execution_count": 19,
   "metadata": {
    "collapsed": true
   },
   "outputs": [],
   "source": [
    "def clip(text: str, max_len: 'int >0' = 80) -> str:\n",
    "    end = None\n",
    "    if len(text) > max_len:\n",
    "        space_before = text.rfind(' ', 0, max_len)\n",
    "        if space_before >= 0:\n",
    "            end = space_before\n",
    "        else:\n",
    "            space_after = text.rfind(' ', max_len)\n",
    "            if space_after >= 0:\n",
    "                end = space_after\n",
    "    if end in None:\n",
    "        end = len(text)\n",
    "    return text[:end].rstrip()"
   ]
  },
  {
   "cell_type": "code",
   "execution_count": 20,
   "metadata": {},
   "outputs": [
    {
     "name": "stdout",
     "output_type": "stream",
     "text": [
      "{'text': <class 'str'>, 'max_len': 'int >0', 'return': <class 'str'>}\n"
     ]
    }
   ],
   "source": [
    "print(clip.__annotations__)"
   ]
  },
  {
   "cell_type": "code",
   "execution_count": 21,
   "metadata": {},
   "outputs": [
    {
     "name": "stdout",
     "output_type": "stream",
     "text": [
      "<class 'str'>\n",
      "<class 'str'>: text = <class 'inspect._empty'>\n",
      "'int >0'     : max_len = 80\n"
     ]
    }
   ],
   "source": [
    "sig = signature(clip)\n",
    "print(sig.return_annotation)\n",
    "for param in sig.parameters.values():\n",
    "    note = repr(param.annotation).ljust(13)\n",
    "    print('{}: {} = {}'.format(note, param.name, param.default))"
   ]
  },
  {
   "cell_type": "markdown",
   "metadata": {},
   "source": [
    "## 5.10 Packages for Functional programming"
   ]
  },
  {
   "cell_type": "markdown",
   "metadata": {},
   "source": [
    "### 5.10.1 operator module\n",
    "    - operator module은 모든 seq에서 항목을 가져오는 itemgetter()와 객체의 속성을 읽는 lambda를 대체하는 attrgetter()함수를 제공\n",
    "    - attrgetter(): 여러 속성명을 인수로 전달하면, 해당 속성값으로 구성된 튜플을 반환. 속성명에 점(.)이 포함되어 있으면 attrgetter()는 내포된 객체를 찾아서 해당 속성을 가져옴"
   ]
  },
  {
   "cell_type": "code",
   "execution_count": 22,
   "metadata": {
    "collapsed": true
   },
   "outputs": [],
   "source": [
    "from functools import reduce\n",
    "from operator import mul\n",
    "def fact1(n):\n",
    "    if n>1:\n",
    "        return n*fact1(n-1)\n",
    "    else:\n",
    "        return 1\n",
    "def fact2(n):\n",
    "    return reduce(lambda a, b: a*b, range(1, n+1))\n",
    "def fact3(n):\n",
    "    return reduce(mul, range(1, n+1))"
   ]
  },
  {
   "cell_type": "code",
   "execution_count": 25,
   "metadata": {
    "collapsed": true
   },
   "outputs": [
    {
     "name": "stdout",
     "output_type": "stream",
     "text": [
      "('NYC', 'US', (40.808, -74.02))\n",
      "('Seoul', 'KR', (36.533, 127.52))\n",
      "('Tokyo', 'JP', (35.689, 139.69))\n",
      "['NYC', 'US', (35.689, 139.69)]\n",
      "['Seoul', 'KR', (35.689, 139.69)]\n",
      "['Tokyo', 'JP', (35.689, 139.69)]\n",
      "('JP', 'Tokyo')\n",
      "('KR', 'Seoul')\n",
      "('US', 'NYC')\n",
      "('JP', 'Tokyo')\n",
      "('KR', 'Seoul')\n",
      "('US', 'NYC')\n"
     ]
    }
   ],
   "source": [
    "metros = [\n",
    "    ('Tokyo','JP',(35.689, 139.69)),\n",
    "    ('Seoul','KR',(36.533, 127.52)),\n",
    "    ('NYC','US',(40.808, -74.02))\n",
    "]\n",
    "\n",
    "metros_list = [\n",
    "    ['Tokyo','JP',(35.689, 139.69)],\n",
    "    ['Seoul','KR',(35.689, 139.69)],\n",
    "    ['NYC','US',(35.689, 139.69)]\n",
    "]\n",
    "\n",
    "from operator import itemgetter\n",
    "for city in sorted(metros, key=itemgetter(0)):\n",
    "    print(city)\n",
    "for city in sorted(metros_list, key=itemgetter(0)):\n",
    "    print(city)    \n",
    "\n",
    "cities = itemgetter(1,0) ## Tuple만 반환\n",
    "for city in metros:\n",
    "    print(cities(city))\n",
    "for city in metros_list:\n",
    "    print(cities(city)) "
   ]
  },
  {
   "cell_type": "code",
   "execution_count": 28,
   "metadata": {
    "collapsed": true
   },
   "outputs": [],
   "source": [
    "from collections import namedtuple"
   ]
  },
  {
   "cell_type": "code",
   "execution_count": 33,
   "metadata": {
    "collapsed": true
   },
   "outputs": [
    {
     "name": "stdout",
     "output_type": "stream",
     "text": [
      "Metropolis(name='Tokyo', cc='JP', coordinate=LatLong(lat=35.689, long=139.69))\n",
      "35.689 139.69\n"
     ]
    }
   ],
   "source": [
    "LatLong = namedtuple('LatLong', 'lat long')\n",
    "Metropolis = namedtuple('Metropolis', 'name cc coordinate')\n",
    "metro_areas = [Metropolis(name, cc,LatLong(lat, long)) for name, cc, (lat, long) in metros]\n",
    "print(metro_areas[0])\n",
    "print(metro_areas[0].coordinate.lat, metro_areas[0].coordinate.long)"
   ]
  },
  {
   "cell_type": "code",
   "execution_count": 39,
   "metadata": {
    "collapsed": true
   },
   "outputs": [
    {
     "name": "stdout",
     "output_type": "stream",
     "text": [
      "('Tokyo', 35.689, 139.69)\n",
      "('Seoul', 36.533, 127.52)\n",
      "('NYC', 40.808, -74.02)\n"
     ]
    }
   ],
   "source": [
    "from operator import attrgetter\n",
    "from operator import methodcaller\n",
    "name_lat = attrgetter('name', 'coordinate.lat', 'coordinate.long')\n",
    "for city in sorted(metro_areas, key = attrgetter('coordinate.lat')):\n",
    "    print(name_lat(city))"
   ]
  },
  {
   "cell_type": "code",
   "execution_count": 43,
   "metadata": {
    "collapsed": true
   },
   "outputs": [
    {
     "name": "stdout",
     "output_type": "stream",
     "text": [
      "THE TIME HAS COME, the time has come, The-time-has-come\n",
      "THE TIME HAS COME, the time has come, The-time-has-come\n"
     ]
    }
   ],
   "source": [
    "s = 'The time has come'\n",
    "upcase = methodcaller('upper')\n",
    "lowcase = methodcaller('lower')\n",
    "replacement = methodcaller('replace', ' ', '-')\n",
    "print('{}, {}, {}'.format(upcase(s), lowcase(s), replacement(s)))\n",
    "print('{}, {}, {}'.format(str.upper(s), str.lower(s), str.replace(s, ' ', '-')))"
   ]
  },
  {
   "cell_type": "markdown",
   "metadata": {},
   "source": [
    "## 5.10.2 functools.partial()로 인수 고정하기\n",
    "    - fuctiools.partial(): functools는 몇가지 고위 함수를 통합함. 그 중, functools.partial(), functools.partialmethod()는 원래 함수의 일부 인수를 고정한 callable을 생성함. 이는 하나 이상의 인수를 받는 함수를 그보다 적은 인수를 받는 callback 함수를 사용하는 API에 사용하고자 할 때 유용함."
   ]
  },
  {
   "cell_type": "code",
   "execution_count": 45,
   "metadata": {},
   "outputs": [
    {
     "data": {
      "text/plain": [
       "[3, 6, 9, 12, 15, 18, 21, 24, 27]"
      ]
     },
     "execution_count": 45,
     "metadata": {},
     "output_type": "execute_result"
    }
   ],
   "source": [
    "from operator import mul\n",
    "from functools import partial\n",
    "triple = partial(mul, 3)\n",
    "triple(7)\n",
    "list(map(triple, range(1,10)))"
   ]
  },
  {
   "cell_type": "code",
   "execution_count": 55,
   "metadata": {
    "collapsed": true
   },
   "outputs": [],
   "source": [
    "import unicodedata, functools\n",
    "nfc = functools.partial(unicodedata.normalize, 'NFC')\n",
    "s1 = 'café'\n",
    "s2 = 'cafe\\u0301'"
   ]
  },
  {
   "cell_type": "code",
   "execution_count": 57,
   "metadata": {},
   "outputs": [
    {
     "name": "stdout",
     "output_type": "stream",
     "text": [
      "café café\n",
      "café café\n",
      "True\n",
      "True\n"
     ]
    }
   ],
   "source": [
    "print(s1, s2)\n",
    "print(nfc(s1), nfc(s2))\n",
    "print(s1==s2)\n",
    "print(nfc(s1) == nfc(s2))"
   ]
  },
  {
   "cell_type": "code",
   "execution_count": 64,
   "metadata": {},
   "outputs": [
    {
     "name": "stdout",
     "output_type": "stream",
     "text": [
      "functools.partial(<function tag at 0x7f5fe2fb2ae8>, 'img', cls='pic-frame')\n",
      "<function tag at 0x7f5fe2fb2ae8>\n",
      "('img',)\n",
      "{'cls': 'pic-frame'}\n"
     ]
    }
   ],
   "source": [
    "picture = partial(tag, 'img', cls='pic-frame')\n",
    "picture(src = '/home/jehyuk/Download/tw10_scvae_score_3_Confusion1.png')\n",
    "print(picture)\n",
    "print(picture.func)\n",
    "print(picture.args)\n",
    "print(picture.keywords)"
   ]
  },
  {
   "cell_type": "code",
   "execution_count": null,
   "metadata": {
    "collapsed": true
   },
   "outputs": [],
   "source": []
  }
 ],
 "metadata": {
  "kernelspec": {
   "display_name": "Python 3",
   "language": "python",
   "name": "python3"
  },
  "language_info": {
   "codemirror_mode": {
    "name": "ipython",
    "version": 3
   },
   "file_extension": ".py",
   "mimetype": "text/x-python",
   "name": "python",
   "nbconvert_exporter": "python",
   "pygments_lexer": "ipython3",
   "version": "3.6.3"
  }
 },
 "nbformat": 4,
 "nbformat_minor": 2
}
