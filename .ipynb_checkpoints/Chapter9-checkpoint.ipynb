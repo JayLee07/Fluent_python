{
 "cells": [
  {
   "cell_type": "markdown",
   "metadata": {},
   "source": [
    "# 9. Pythonic Object\n",
    "- Python data모델은 사용자가 정의한 자료형도 내장 자료형과 같이 자연스럽게 동작할 수 있음\n",
    "    - Duck Typing덕분에 특정 자료형을 상속하지 않고도 가능함\n",
    "    - Object에 필요한 method만을 구현하면 기대한 대로 동작함\n",
    "- What we are going to do in this chapter?\n",
    "    - 실제 Python object와 동일하게 동작하는 user-defined class 만들기\n",
    "- In this chapter,\n",
    "    - repr(), bytes()등 object를 다른 방식으로 표현하는 내장 함수의 지원\n",
    "    - class method로 대안 생성자 구현\n",
    "    - format() 내장 함수와 str.format() method에서 사용하는 포맷 언어 확장\n",
    "    - 읽기 전용 접근만 허용하는 속성 제공\n",
    "    - 집합 및 dict key로 사용할 수 있도록 object를 hashable하게 만들기\n",
    "    - __slots__ 를 사용하여 메모리 절약하기\n",
    "    - @staticmethod, @classmathod\n",
    "    - Python에서 비공개 및 보호된 속성: 사용법, 관례, 한계"
   ]
  },
  {
   "cell_type": "markdown",
   "metadata": {},
   "source": [
    "## 9.1 Object 표현\n",
    "- repr(): object를 개발자가 보고자 하는 형태로 표현한 문자열로 return\n",
    "- str(): object를 사용자가 보고자 하는 형태로 표현한 문자열로 return\n",
    "- repr(), str() method를 지원하려면 __repr()__, __str()__를 구현해야 함\n",
    "- __bytes__(), __format__()\n",
    "    - __bytes__(): __str__()와 비슷하지만, bytes() method에 의해 호출되어 object를 byte sequence로 표현함\n",
    "    - __format__(): 내장함수 format()과 str.format()를 둘다 사용. 특별 format code를 사용해서 object를 표현하는 문자열 반환"
   ]
  },
  {
   "cell_type": "markdown",
   "metadata": {},
   "source": [
    "## 9.2 Vector Class의 부활"
   ]
  },
  {
   "cell_type": "code",
   "execution_count": 42,
   "metadata": {
    "collapsed": true
   },
   "outputs": [],
   "source": [
    "from array import array\n",
    "import math\n",
    "\n",
    "class Vector2d_v0:\n",
    "    typecode = 'd' #Vector2d와 bytes간의 변환에 사용하는 class 속성\n",
    "    \n",
    "    def __init__(self, x, y):\n",
    "        self.x = float(x)\n",
    "        self.y = float(y)\n",
    "    \n",
    "    def __iter__(self):\n",
    "        return (i for i in (self.x, self.y))\n",
    "    \n",
    "    def __repr__(self):\n",
    "        class_name = type(self).__name__\n",
    "        return '{}({!r}, {!r})'.format(class_name, *self)\n",
    "    \n",
    "    def __str__(self):\n",
    "        return str(tuple(self))\n",
    "    \n",
    "    # bytes를 생성하기 위해 typecode를 bytes로 표현 & 객체를 반복해서 생성한 배열에서 변환된 bytes와 연결\n",
    "    def __bytes__(self):\n",
    "        return bytes([ord(self.typecode)]) + bytes(array(self.typecode, self)) \n",
    "    \n",
    "    def __eq__(self, other):\n",
    "        return tuple(self) == tuple(other)\n",
    "    \n",
    "    def __abs__(self):\n",
    "        return math.hypot(self.x, self.y)\n",
    "    \n",
    "    def __bool__(self):\n",
    "        return bool(abs(self))\n",
    "    \n",
    "    @classmethod\n",
    "    def frombytes(cls, octets):\n",
    "        typecode = chr(octets[0])\n",
    "        memv = memoryview(octets[1:]).cast(typecode)\n",
    "        return cls(*memv)"
   ]
  },
  {
   "cell_type": "code",
   "execution_count": 43,
   "metadata": {},
   "outputs": [
    {
     "name": "stdout",
     "output_type": "stream",
     "text": [
      "v1.x, v1.y:  3.0 4.0\n",
      "x, y:  3.0 4.0\n",
      "v1:  (3.0, 4.0)\n",
      "v1 == v1_clone:  True\n",
      "v1 is v1_clone:  False\n",
      "bytes(v1):  b'd\\x00\\x00\\x00\\x00\\x00\\x00\\x08@\\x00\\x00\\x00\\x00\\x00\\x00\\x10@'\n",
      "abs(v1):  5.0\n",
      "bool(v1): True, bool(Vector2d_v0(0, 0)): False\n"
     ]
    }
   ],
   "source": [
    "v1 = Vector2d_v0(3,4)\n",
    "print('v1.x, v1.y: ', v1.x, v1.y)\n",
    "x, y = v1 \n",
    "print('x, y: ', x, y)\n",
    "print('v1: ', v1)\n",
    "v1_clone = eval(repr(v1))\n",
    "print('v1 == v1_clone: ', v1 == v1_clone)\n",
    "print('v1 is v1_clone: ', v1 is v1_clone)\n",
    "octets = bytes(v1)\n",
    "print('bytes(v1): ', octets)\n",
    "print('abs(v1): ', abs(v1))\n",
    "print('bool(v1): {}, bool(Vector2d_v0(0, 0)): {}'.format( bool(v1), bool(Vector2d_v0(0, 0))))\n",
    "\n"
   ]
  },
  {
   "cell_type": "markdown",
   "metadata": {},
   "source": [
    "## 9.4 @classmethod와 @staticmethod\n",
    "- @Classmethod\n",
    "    - object가 아닌 class에 연산을 수행하는 method\n",
    "    - class자체를 첫 번째 parameter로 받게 만듦\n",
    "    - 아래 예제에서 _randomize()_는 __init__()안의 instance variable을 전혀 사용하지 않음. 즉, instance method없이 바로 class에 적용 가능    "
   ]
  },
  {
   "cell_type": "code",
   "execution_count": 44,
   "metadata": {},
   "outputs": [
    {
     "name": "stdout",
     "output_type": "stream",
     "text": [
      "cca\n",
      "egd\n"
     ]
    }
   ],
   "source": [
    "# Before\n",
    "import random\n",
    "class Randomize1:\n",
    "    RANDOM_CHOICE = 'abcdefg'\n",
    "    \n",
    "    def __init__(self, char_num):\n",
    "        self.char_num = char_num\n",
    "    \n",
    "    def _randomize(self, random_chars=3):\n",
    "        return ''.join(random.choice(self.RANDOM_CHOICE) for _ in range(random_chars))\n",
    "\n",
    "    \n",
    "class Randomize2:\n",
    "    RANDOM_CHOICE = 'abcdefg'\n",
    "    \n",
    "    def __init__(self, char_num):\n",
    "        self.char_num = char_num\n",
    "    \n",
    "    @classmethod\n",
    "    def _randomize(cls, random_chars=3):\n",
    "        return ''.join(random.choice(cls.RANDOM_CHOICE) for _ in range(random_chars))\n",
    "\n",
    "ran1 = Randomize1(5)\n",
    "print(ran1._randomize())\n",
    "print(Randomize2._randomize())"
   ]
  },
  {
   "cell_type": "markdown",
   "metadata": {},
   "source": [
    "- @classmethod\n",
    "    - 또 다른 예제\n",
    "    - https://stackoverflow.com/questions/12179271/meaning-of-classmethod-and-staticmethod-for-beginner"
   ]
  },
  {
   "cell_type": "code",
   "execution_count": 45,
   "metadata": {},
   "outputs": [
    {
     "name": "stdout",
     "output_type": "stream",
     "text": [
      "2012/9/11 is a date : True\n"
     ]
    }
   ],
   "source": [
    "class Date(object):\n",
    "    \n",
    "    def __init__(self, day=0, month=0, year=0):\n",
    "        self.day = day\n",
    "        self.month = month\n",
    "        self.year = year\n",
    "\n",
    "    # input이 '10-09-2012' 형식으로 들어올 경우, 이 text를 '-'로 parsing해서 각각 day, month, year에 넣은 Date object 생성\n",
    "    @classmethod\n",
    "    def from_string(cls, date_as_string):\n",
    "        day, month, year = map(int, date_as_string.split('-'))\n",
    "        date1 = cls(day, month, year)\n",
    "        return date1\n",
    "    \n",
    "    # classmethod나 object method처럼 첫번째 param에 cls나 self가 들어가지 않음\n",
    "    @staticmethod\n",
    "    def is_date_valid(date_as_string):\n",
    "        day, month, year = map(int, date_as_string.split('-'))\n",
    "        return day <= 31 and month <=12 and year  <= 3000\n",
    "    \n",
    "date2 = Date.from_string('11-09-2012')\n",
    "is_date = Date.is_date_valid('11-09-2012')\n",
    "print('{}/{}/{} is a date : {}'.format(date2.year, date2.month, date2.day, is_date))"
   ]
  },
  {
   "cell_type": "code",
   "execution_count": 46,
   "metadata": {},
   "outputs": [
    {
     "name": "stdout",
     "output_type": "stream",
     "text": [
      "(<class '__main__.Demo'>,)\n",
      "(<class '__main__.Demo'>, 'spam')\n",
      "()\n",
      "('spam',)\n"
     ]
    }
   ],
   "source": [
    "class Demo:\n",
    "    @classmethod\n",
    "    def klassmeth(*args):\n",
    "        return args\n",
    "    @staticmethod\n",
    "    def statmeth(*args):\n",
    "        return args\n",
    "    \n",
    "print(Demo.klassmeth())\n",
    "print(Demo.klassmeth('spam'))\n",
    "print(Demo.statmeth())\n",
    "print(Demo.statmeth('spam'))"
   ]
  },
  {
   "cell_type": "markdown",
   "metadata": {},
   "source": [
    "## 9.5 Formatted print\n",
    "- format()내장 함수와 str.format() method는 실제 format 작업을 __format__(format_spec) method에 위임함\n",
    "    - format_spec: 포맷 명시자(format specifier)\n",
    "        - format(my_obj, format_spec)의 2번째 인수\n",
    "        - str.format()에 사용된 format string 안에 {}로 구분한 대체 필드 안에서의 콜론 뒤의 문자열"
   ]
  },
  {
   "cell_type": "code",
   "execution_count": 50,
   "metadata": {},
   "outputs": [
    {
     "name": "stdout",
     "output_type": "stream",
     "text": [
      "0.4115226337448559\n",
      "0.4115\n",
      "1 BRL = 0.41 USD\n"
     ]
    }
   ],
   "source": [
    "brl = 1/2.43\n",
    "print(brl)\n",
    "print(format(brl, '0.4f')) # 0,4f 가 format specifier(포맷 명시자))\n",
    "print('1 BRL = {rate:.2f} USD'.format(rate=brl))"
   ]
  },
  {
   "cell_type": "code",
   "execution_count": 55,
   "metadata": {},
   "outputs": [
    {
     "name": "stdout",
     "output_type": "stream",
     "text": [
      "101010\n",
      "66.7%\n",
      "It's now 05:56 PM\n"
     ]
    }
   ],
   "source": [
    "print(format(42, 'b'))\n",
    "print(format(2/3, '.1%'))\n",
    "from datetime import datetime\n",
    "now = datetime.now()\n",
    "format(now, '%H:%M:%S')\n",
    "print(\"It's now {:%I:%M %p}\".format(now))"
   ]
  },
  {
   "cell_type": "markdown",
   "metadata": {
    "collapsed": true
   },
   "source": [
    "## 9.6 Hashable Vector2d\n",
    "- <h4>\\__hash__() method를 구현해야 Vector2d를 hashable하게 할 수 있음</h4>\n",
    "    - 먼저, Vector2d object를 불변형으로 만들어야 함\n",
    "\n",
    "- <h4>\\__hash__()</h4>\n",
    "    - int형을 반환해야 함\n",
    "    - 동일하다고 판단되는 object는 동일한 hash값을 가져야 함\n",
    "    - \\__eq__() method가 사용하는 object의 attribute를 사용하여 hash값을 계산하는 것이 이상적임\n",
    "        - component의 hash에 bit단위 XOR 연산자를 사용하는 것을 권장"
   ]
  },
  {
   "cell_type": "code",
   "execution_count": 55,
   "metadata": {
    "collapsed": true
   },
   "outputs": [],
   "source": [
    "class Vector2d:\n",
    "    #__slots__ = ('__x', '__y')\n",
    "    typecode = 'd'\n",
    "    \n",
    "    def __init__(self, x, y):\n",
    "        self.__x = float(x)\n",
    "        self.__y = float(y)\n",
    "    \n",
    "    @property # property decorator는 property의 getter method를 나타냄 \n",
    "    def x(self): # 노출시키는 공개 속성명을 따라서 getter method의 이름을 지정함\n",
    "        return self.__x # 단지, self.__x를 반환\n",
    "    \n",
    "    @property\n",
    "    def y(self):\n",
    "        return self.__y\n",
    "    \n",
    "    def __iter__(self):\n",
    "        return (i for i in (self.x, self.y))\n",
    "    \n",
    "    def __repr__(self):\n",
    "        cls_name = type(self).__name__\n",
    "        return '{}({!r}, {!r})'.format(cls_name, *self)\n",
    "    \n",
    "    def __str__(self):\n",
    "        return str(tuple(self))\n",
    "    \n",
    "    def __bytes__(self):\n",
    "        return (bytes([ord(self.typecode)]) + bytes(array(self.typecode, self)))\n",
    "    \n",
    "    def __eq__(self, other):\n",
    "        return tuple(self) == tuple(other)\n",
    "    \n",
    "    def __hash__(self):\n",
    "        return hash(self.x) ^ hash(self.y)\n",
    "    \n",
    "    def __abs__(self):\n",
    "        return math.hypot(self.x, self.y)\n",
    "    \n",
    "    def __bool__(self):\n",
    "        return bool(abs(self))\n",
    "    \n",
    "    def angle(self):\n",
    "        return math.atan2(self.y, self.x)\n",
    "    \n",
    "    def __format__(self, fmt_spec = ''):\n",
    "        if fmt_spec.endswith('p'):\n",
    "            fmt_spec = fmt_spec[:-1]\n",
    "            coords = (abs(self), self.angle())\n",
    "            outer_fmt = '<{}, {}>'\n",
    "        else:\n",
    "            coords = self\n",
    "            outer_fmt = '({}, {})'\n",
    "        components = (format(c, fmt_spec) for c in coords)\n",
    "        return outer_fmt.format(*components)\n",
    "    \n",
    "    @classmethod\n",
    "    def frombytes(cls, octets):\n",
    "        typecode = chr(octets[0])\n",
    "        memv = memoryview(octets[1:]).cast(typecode)\n",
    "        return cls(*memv)"
   ]
  },
  {
   "cell_type": "markdown",
   "metadata": {},
   "source": [
    "### Various method tests"
   ]
  },
  {
   "cell_type": "code",
   "execution_count": 56,
   "metadata": {},
   "outputs": [
    {
     "name": "stdout",
     "output_type": "stream",
     "text": [
      "v1.x, v1.y                            : 3.0, 4.0\n",
      "x, y                                     : 3.0, 4.0\n",
      "v1                                       : (3.0, 4.0)\n",
      "v1 == v1_clone                    : True\n",
      "v1                                       : (3.0, 4.0)\n",
      "octets                                 : b'd\\x00\\x00\\x00\\x00\\x00\\x00\\x08@\\x00\\x00\\x00\\x00\\x00\\x00\\x10@'\n",
      "abs(v1)                               : 5.0\n",
      "bool(v1), bool(Vector2d(0,0)): True, False\n"
     ]
    }
   ],
   "source": [
    "#2-dim vector class\n",
    "v1= Vector2d(3,4)\n",
    "print('v1.x, v1.y                            : {}, {}'.format(v1.x, v1.y))\n",
    "x, y = v1\n",
    "print('x, y                                     : {}, {}'.format(x, y))\n",
    "print('v1                                       : {}'.format(v1))\n",
    "v1_clone = eval(repr(v1))\n",
    "print('v1 == v1_clone                    : {}'.format(v1 == v1_clone))\n",
    "print('v1                                       : {}'.format(v1))\n",
    "octets = bytes(v1)\n",
    "print('octets                                 : {}'.format(octets))\n",
    "print('abs(v1)                               : {}'.format(abs(v1)))\n",
    "print('bool(v1), bool(Vector2d(0,0)): {}, {}'.format(bool(v1), bool(Vector2d(0,0))))"
   ]
  },
  {
   "cell_type": "code",
   "execution_count": 57,
   "metadata": {},
   "outputs": [
    {
     "name": "stdout",
     "output_type": "stream",
     "text": [
      "v1_clone         : (3.0, 4.0)\n",
      "v1 == v1_clone: True\n"
     ]
    }
   ],
   "source": [
    "#frombytes()class method test\n",
    "v1_clone = Vector2d.frombytes(bytes(v1))\n",
    "print('v1_clone         : {}'.format(v1_clone))\n",
    "print('v1 == v1_clone: {}'.format(v1 == v1_clone))"
   ]
  },
  {
   "cell_type": "code",
   "execution_count": 58,
   "metadata": {},
   "outputs": [
    {
     "name": "stdout",
     "output_type": "stream",
     "text": [
      "format(v1)         : (3.0, 4.0)\n",
      "format(v1, '.2f'): (3.00, 4.00)\n",
      "format(v1, '.3e): (3.000e+00, 4.000e+00)\n"
     ]
    }
   ],
   "source": [
    "#format method test\n",
    "print('format(v1)         : {}'.format(format(v1)))\n",
    "print(\"format(v1, '.2f'): {}\".format(format(v1, '.2f')))\n",
    "print(\"format(v1, '.3e): {}\".format(format(v1, '.3e')))"
   ]
  },
  {
   "cell_type": "code",
   "execution_count": 59,
   "metadata": {},
   "outputs": [
    {
     "name": "stdout",
     "output_type": "stream",
     "text": [
      "Vector2d(0,0).angle()                                  : 0.0\n",
      "Vector2d(0,0).angle()                                  : 0.0\n",
      "abs(Vector2d(0,1).angle() - math.pi/2 < eps : 1\n",
      "abs(Vector2d(1,1).angle() - math.pi/4 < eps : 1\n"
     ]
    }
   ],
   "source": [
    "# angle() method test\n",
    "print(\"Vector2d(0,0).angle()                                  : {}\".format(Vector2d(0,0).angle()))\n",
    "print(\"Vector2d(0,0).angle()                                  : {}\".format(Vector2d(1,0).angle()))\n",
    "eps = 1e-7\n",
    "print(\"abs(Vector2d(0,1).angle() - math.pi/2 < eps : {}\".format(abs(Vector2d(0,1).angle() - math.pi/2 < eps)))\n",
    "print(\"abs(Vector2d(1,1).angle() - math.pi/4 < eps : {}\".format(abs(Vector2d(1,1).angle() - math.pi/4 < eps)))"
   ]
  },
  {
   "cell_type": "code",
   "execution_count": 60,
   "metadata": {},
   "outputs": [
    {
     "name": "stdout",
     "output_type": "stream",
     "text": [
      "format(Vector2d(1,1), 'p')      : <1.4142135623730951, 0.7853981633974483>\n",
      "format(Vector2d(1,1), '.3ep') : <1.414e+00, 7.854e-01>\n",
      "format(Vector2d(1,1), '0.5fp'): <1.41421, 0.78540>\n"
     ]
    }
   ],
   "source": [
    "# polar coordinate를 활용한 format() test\n",
    "print(\"format(Vector2d(1,1), 'p')      : {}\".format(format(Vector2d(1,1), 'p')))\n",
    "print(\"format(Vector2d(1,1), '.3ep') : {}\".format(format(Vector2d(1,1), '.3ep')))\n",
    "print(\"format(Vector2d(1,1), '0.5fp'): {}\".format(format(Vector2d(1,1), '0.5fp')))"
   ]
  },
  {
   "cell_type": "code",
   "execution_count": 61,
   "metadata": {},
   "outputs": [
    {
     "name": "stdout",
     "output_type": "stream",
     "text": [
      "3.0 4.0\n"
     ]
    },
    {
     "ename": "AttributeError",
     "evalue": "can't set attribute",
     "output_type": "error",
     "traceback": [
      "\u001b[0;31m---------------------------------------------------------------------------\u001b[0m",
      "\u001b[0;31mAttributeError\u001b[0m                            Traceback (most recent call last)",
      "\u001b[0;32m<ipython-input-61-0284c7ffcc48>\u001b[0m in \u001b[0;36m<module>\u001b[0;34m()\u001b[0m\n\u001b[1;32m      1\u001b[0m \u001b[0;31m# 'x', 'y' read-only property test\u001b[0m\u001b[0;34m\u001b[0m\u001b[0;34m\u001b[0m\u001b[0m\n\u001b[1;32m      2\u001b[0m \u001b[0mprint\u001b[0m\u001b[0;34m(\u001b[0m\u001b[0mv1\u001b[0m\u001b[0;34m.\u001b[0m\u001b[0mx\u001b[0m\u001b[0;34m,\u001b[0m \u001b[0mv1\u001b[0m\u001b[0;34m.\u001b[0m\u001b[0my\u001b[0m\u001b[0;34m)\u001b[0m\u001b[0;34m\u001b[0m\u001b[0m\n\u001b[0;32m----> 3\u001b[0;31m \u001b[0mv1\u001b[0m\u001b[0;34m.\u001b[0m\u001b[0mx\u001b[0m \u001b[0;34m=\u001b[0m \u001b[0;36m123\u001b[0m\u001b[0;34m\u001b[0m\u001b[0m\n\u001b[0m",
      "\u001b[0;31mAttributeError\u001b[0m: can't set attribute"
     ]
    }
   ],
   "source": [
    "# 'x', 'y' read-only property test\n",
    "print(v1.x, v1.y)\n",
    "v1.x = 123"
   ]
  },
  {
   "cell_type": "code",
   "execution_count": 62,
   "metadata": {},
   "outputs": [
    {
     "name": "stdout",
     "output_type": "stream",
     "text": [
      "hash(v1), hash(v2): 7, 384307168202284039\n",
      "len(set([v1, v2]))   : 2\n"
     ]
    }
   ],
   "source": [
    "# hash test\n",
    "v1 = Vector2d(3, 4)\n",
    "v2 = Vector2d(3.1, 4.2)\n",
    "print('hash(v1), hash(v2): {}, {}'.format(hash(v1), hash(v2)))\n",
    "print('len(set([v1, v2]))   : {}'.format(len(set([v1, v2]))))"
   ]
  },
  {
   "cell_type": "markdown",
   "metadata": {},
   "source": [
    "## 9.7. Python의 private and protected attribute\n",
    "- <h4>Subclass에서 'private'성격의 attribute를 변경하지 못하게 하는 메커니즘</h4>\n",
    "    - Name mangling(이름 장식): attribute 명을 2개의 underline으로 시작하게 정의하면, python은 underline과 class name을 변수명 앞에 붙여 객체의 \\__dict__ 에 저장함\n",
    "    - 위의 Vector2d에서 요소(components)는 private attribute이며, Vector2d object는 불변형이다."
   ]
  },
  {
   "cell_type": "code",
   "execution_count": 63,
   "metadata": {},
   "outputs": [
    {
     "name": "stdout",
     "output_type": "stream",
     "text": [
      "{'_Vector2d__x': 3.0, '_Vector2d__y': 4.0}\n",
      "3.0\n"
     ]
    }
   ],
   "source": [
    "v1 = Vector2d(3,4)\n",
    "print(v1.__dict__) # name mangling\n",
    "print(v1._Vector2d__x)"
   ]
  },
  {
   "cell_type": "markdown",
   "metadata": {},
   "source": [
    "## 9.8 \\__slots__ 클래스 속성으로 공간 절약하기\n",
    "- <h4>Python은 object의 attributes들을 각 object 안의 \\__dict__()라는 dictionary형 attribute에 저장함</h4>\n",
    "- <h4>이 때, dictionary는 빠른 접근 속도를 제공하기 위해, 내부에 hash table을 유지함. --> 메모리 사용량 부담이 상당히 큼</h4>\n",
    "    - 만약 속성이 몇개 없는 수백만 개의 object를 다룬다면, \\__slots__() class attribute를 사용하여, 메모리 사용량을 크게 줄일 수 있음\n",
    "    - \\__slots__ attribute는 python이 object attribute를 dictionary 대신 tuple에 저장함\n",
    "    - super class에서 상속받은 \\__slots__ attribute는 subclass에 영향을 미치지 않음. 각 클래스에서 개별적으로 정의된 속성만 고려\n",
    "- <h4>\\__slots__를 정의하려면, 이 이름의 클래스 attribute를 생성하고 여기에 object attribute 식별자들을 담은 문자열의 반복형을 할당</h4>\n",
    "    - 불변형인 tuple을 사용하면 \\__slots__정의를 변경할 수 없음\n",
    "- <h4>\\__slots__를 class에 정의함으로써, '이 attributes들이 이 class object가 가지는 attributes'임을 알려줌</h4>\n",
    "    - python interpereter가 이 attribute들을 각 object의 tuple형 구조체에 저장함 --> 각 object마다 \\__dict__ attribute를 유지해야 하는 부담을 덜어내줌\n",
    "- <h4>주의!</h4>\n",
    "    - \\__dict__ 를 slots에 추가하지 않는 한 objects는 slots에 나열된 attribute만 가질 수 있음\n",
    "        - 그러나, \\__dict__ 를 slots에 추가해버리면, 메모리 절감 효과가 반감될 수 있음\n",
    "        - 그렇다고 class의 user가 object에 새로운 속성을 추가할 수 없게 하려고, slots을 사용하면 안된다.\n",
    "        - slots의 목적은 메모리 사용을 최적화해서 user에게 도움을 주기 위한것이지, user를 억압하기 위한 것이 아님!\n",
    "    - Interpreter는 상속된 slots attribute를 무시함 --> 각 클래스마다 slots attribute를 재정의해줘야 함\n",
    "    - \\__weakref__를 slots에 추가하지 않으면 object가 weak referecence의 대상이 될 수 있음"
   ]
  },
  {
   "cell_type": "code",
   "execution_count": 65,
   "metadata": {
    "collapsed": true
   },
   "outputs": [],
   "source": [
    "# 사용법\n",
    "# class Vector2d:\n",
    "    # __slots__ = ('__x', '__y')\n",
    "    # typecode = 'd'"
   ]
  },
  {
   "cell_type": "code",
   "execution_count": null,
   "metadata": {
    "collapsed": true
   },
   "outputs": [],
   "source": []
  }
 ],
 "metadata": {
  "kernelspec": {
   "display_name": "Python 3",
   "language": "python",
   "name": "python3"
  },
  "language_info": {
   "codemirror_mode": {
    "name": "ipython",
    "version": 3
   },
   "file_extension": ".py",
   "mimetype": "text/x-python",
   "name": "python",
   "nbconvert_exporter": "python",
   "pygments_lexer": "ipython3",
   "version": "3.5.4"
  }
 },
 "nbformat": 4,
 "nbformat_minor": 2
}
