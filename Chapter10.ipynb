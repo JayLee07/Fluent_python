{
 "cells": [
  {
   "cell_type": "markdown",
   "metadata": {},
   "source": [
    "# Chapter10. Sequence hacking, hash, slice\n",
    "- <h5>다음과 같은 기능을 지원하는 Vector class를 구현</h5>\n",
    "    - Sequence Protocol: len과 getitem method\n",
    "    - 여러 항목을 가진 객체를 안전하게 표현\n",
    "    - slicing을 지원해서 새로운 vector object 생성\n",
    "    - 포함된 component 값을 모두 고려한 set hashing\n",
    "    - customize한 format언어 확장\n",
    "    - read-only property였던 것을 교체하기 위해 \\__getattr__() method로 동적 속성 접근을 구현\n",
    "- <h5>protocol과 duck-typing</h5>\n"
   ]
  },
  {
   "cell_type": "markdown",
   "metadata": {},
   "source": [
    "## 10.2 Vector_v1: Vector2d의 호환\n",
    "- <h5>seq constructor(생성자)는 내장 seq처럼 반복형을 param으로 받게 하는 것이 좋음</h5>"
   ]
  },
  {
   "cell_type": "code",
   "execution_count": 1,
   "metadata": {},
   "outputs": [],
   "source": [
    "from array import array\n",
    "import reprlib\n",
    "import math\n",
    "import collections"
   ]
  },
  {
   "cell_type": "code",
   "execution_count": 2,
   "metadata": {
    "collapsed": true
   },
   "outputs": [],
   "source": [
    "class Vector_v0:\n",
    "    typecode='d'\n",
    "\n",
    "    def __init__(self, components):\n",
    "        self._components = array(self.typecode, components)\n",
    "        \n",
    "    def __iter__(self):\n",
    "        return iter(self._components)\n",
    "    \n",
    "    def __repr__(self):\n",
    "        components = reprlib.repr(self._components) # array('d', [0, 1, 2, ...])처럼 표현하기 위한 reprlib.repr\n",
    "        components = components[components.find('['):-1] # 'array(' 와 'd'를 제거하여 표현하기 위함\n",
    "        return 'Vector({})'.format(components)\n",
    "    \n",
    "    def __str__(self):\n",
    "        return str(tuple(self))\n",
    "    \n",
    "    def __bytes__(self):\n",
    "        return (bytes([ord(self.typecode)]) + bytes(self._components))\n",
    "    \n",
    "    def __eq__(self, other):\n",
    "        return tuple(self) == tuple(other)\n",
    "    \n",
    "    def __abs__(self):\n",
    "        return math.sqrt(sum(x**2 for x in self))\n",
    "    \n",
    "    def __bool__(self):\n",
    "        return bool(abs(self))\n",
    "    \n",
    "    def __len__(self):\n",
    "        return len(self._components)\n",
    "    \n",
    "    def __getitem__(self, idx):\n",
    "        return self._components[idx]\n",
    "    \n",
    "    @classmethod\n",
    "    def frombytes(cls, octets):\n",
    "        typecode = chr(octets[0])\n",
    "        memv = memoryview(octets[1:]).cast(typecode)\n",
    "        return cls(memv)"
   ]
  },
  {
   "cell_type": "code",
   "execution_count": 3,
   "metadata": {},
   "outputs": [
    {
     "name": "stdout",
     "output_type": "stream",
     "text": [
      "Vector([3.1, 4.2])\n",
      "Vector([3.0, 4.0, 5.0])\n",
      "Vector([0.0, 1.0, 2.0, 3.0, 4.0, ...])\n"
     ]
    }
   ],
   "source": [
    "print(repr(Vector_v0([3.1, 4.2])))\n",
    "print(repr(Vector_v0((3,4,5))))\n",
    "print(repr(Vector_v0(range(10))))"
   ]
  },
  {
   "cell_type": "markdown",
   "metadata": {},
   "source": [
    "## 10.3 Protocol and duck-typing\n",
    "- <h5>OOP에서 protocol은 문서에만 정의되어 있고, 실제 code에서는 정의되지 않는 비공식 interface</h5>\n",
    "    - 예를 들어, python의 sequence protocol은 len()과 getitem() method를 동반할 뿐\n",
    "    - 해당 클래스의 superclass가 무엇인지는 중요하지 않음. 중요한 method만 제공하면 됨\n",
    "- <h5>아래 예제에서 sequence protocol을 구현하므로 python에서 제공하는 여러 기능을 활용할 수 있음</h5>\n",
    "    - 코드내에서 sequence protocol을 따른다고 정의된 곳은 없음\n",
    "    - 해당 code는 sequence처럼 '동작'\n",
    "- <h5>protocol은 비공식이며, 강제로 적용되는 사항이 아님. 즉, 일부만 구현할 수도 있음</h5>\n",
    "    - 반복 기능 지원하려면 \\__getitem__() method만 구현해도 됨"
   ]
  },
  {
   "cell_type": "code",
   "execution_count": 4,
   "metadata": {
    "collapsed": true
   },
   "outputs": [],
   "source": [
    "import collections\n",
    "Card = collections.namedtuple('Card', ['rank', 'suit'])\n",
    "\n",
    "## __len__과 __getitem__method가 구현 --> sequence protocol\n",
    "class FrenchDeck:\n",
    "    rank = [str(n) for n in range(2,11)] + list('JQKA')\n",
    "    suits = 'spades diamonds clubs hearts'.split()\n",
    "    \n",
    "    def __init__(self):\n",
    "        self._cards = [Card(rank, suit) for suit in self.suits for rank in self.ranks]\n",
    "    \n",
    "    def __len__(self):\n",
    "        return len(self._cards)\n",
    "    \n",
    "    def __getitem__(self, position):\n",
    "        return self._cards[position]"
   ]
  },
  {
   "cell_type": "markdown",
   "metadata": {},
   "source": [
    "## 10.4 Vector ver.2: Slice가능한 sequence\n",
    "- <h5>10.3의 FrenchDeck 예제에서 len, getitem을 method를 추가하였기 때문에, slicing이 가능해짐</h5>\n",
    "    - Vector class도 똑같이 해보자\n",
    "- <h5>근데, 일반적인 slicing만 해서는 다음과 같이 array형태로 return되어 버림</h5>"
   ]
  },
  {
   "cell_type": "code",
   "execution_count": 5,
   "metadata": {},
   "outputs": [
    {
     "name": "stdout",
     "output_type": "stream",
     "text": [
      "array('d', [2.0, 3.0, 4.0])\n"
     ]
    }
   ],
   "source": [
    "v0 = Vector_v0([x for x in range(0,7)])\n",
    "print(v0[2:5])"
   ]
  },
  {
   "cell_type": "code",
   "execution_count": 6,
   "metadata": {
    "collapsed": true
   },
   "outputs": [],
   "source": [
    "import numbers\n",
    "\n",
    "class Vector_v1:\n",
    "    typecode='d'\n",
    "\n",
    "    def __init__(self, components):\n",
    "        self._components = array(self.typecode, components)\n",
    "        \n",
    "    def __iter__(self):\n",
    "        return iter(self._components)\n",
    "    \n",
    "    def __repr__(self):\n",
    "        components = reprlib.repr(self._components) # array('d', [0, 1, 2, ...])처럼 표현하기 위한 reprlib.repr\n",
    "        components = components[components.find('['):-1] # 'array(' 와 'd'를 제거하여 표현하기 위함\n",
    "        return 'Vector({})'.format(components)\n",
    "    \n",
    "    def __str__(self):\n",
    "        return str(tuple(self))\n",
    "    \n",
    "    def __bytes__(self):\n",
    "        return (bytes([ord(self.typecode)]) + bytes(self._components))\n",
    "    \n",
    "    def __eq__(self, other):\n",
    "        return tuple(self) == tuple(other)\n",
    "    \n",
    "    def __abs__(self):\n",
    "        return math.sqrt(sum(x**2 for x in self))\n",
    "    \n",
    "    def __bool__(self):\n",
    "        return bool(abs(self))\n",
    "    \n",
    "    def __len__(self):\n",
    "        return len(self._components)\n",
    "    \n",
    "    def __getitem__(self, idx):\n",
    "        cls = type(self)\n",
    "        # idx인수가 slice면, _components array의 slice에서 Vector 생성자를 사용, object를 생성\n",
    "        if isinstance(idx, slice):\n",
    "            return cls(self._components[idx]) \n",
    "        # idx인수가 정수형이면, _components에서 해당 항목을 가져와서 반환함\n",
    "        elif isinstance(idx, numbers.Integral):\n",
    "            return self._components[idx]\n",
    "        else:\n",
    "            msg ='{} indices must be intergers'.format(cls.__name__)\n",
    "            raise TypeError(msg.format(cls=cls))\n",
    "    \n",
    "    @classmethod\n",
    "    def frombytes(cls, octets):\n",
    "        typecode = chr(octets[0])\n",
    "        memv = memoryview(octets[1:]).cast(typecode)\n",
    "        return cls(memv)"
   ]
  },
  {
   "cell_type": "code",
   "execution_count": 7,
   "metadata": {},
   "outputs": [
    {
     "name": "stdout",
     "output_type": "stream",
     "text": [
      "array('d', [2.0, 3.0, 4.0])\n",
      "(2.0, 3.0, 4.0)\n"
     ]
    }
   ],
   "source": [
    "v0 = Vector_v0([x for x in range(0,7)])\n",
    "print(v0[2:5])\n",
    "v1 = Vector_v1([x for x in range(0,7)])\n",
    "print(v1[2:5])"
   ]
  },
  {
   "cell_type": "markdown",
   "metadata": {},
   "source": [
    "### 10.4.1 Slicing의 작동 방식\n",
    "- <h5>slice는 내장 자료형이다.</h5>\n",
    "- <h5>S.indices(len) --> (start, stop, stride)</h5>\n",
    "    - 길이가 len인 sequence S가 나타내는 확장된 slice의 start와 stop index 및 stride 길이를 계산\n",
    "    - 경계를 벗어난 index는 일반적인 slice 처리 방법과 동일하게 잘라냄\n",
    "    - 즉, 경계안에 들어가도록 조정된 0이나 양수인 start, stop, stride로 구성된 '정규화된' tuple 생성"
   ]
  },
  {
   "cell_type": "code",
   "execution_count": 8,
   "metadata": {},
   "outputs": [
    {
     "name": "stdout",
     "output_type": "stream",
     "text": [
      "s[1:4:2]                                   :  slice(1, 4, 2)\n",
      "s[1:4:2, 9]                               :  (slice(1, 4, 2), 9)\n",
      "s[1:4:2, 7:9]                            :  (slice(1, 4, 2), slice(7, 9, None))\n",
      "slice(None, 10, 2).indices(5)     :  (0, 5, 2)\n",
      "slice(-3, None, None).indices(5):  (2, 5, 1)\n"
     ]
    }
   ],
   "source": [
    "#print(dir(slice))\n",
    "class MySeq:\n",
    "    def __getitem__(self, idx):\n",
    "        return idx\n",
    "    \n",
    "s = MySeq()\n",
    "print('s[1:4:2]                                   : ', s[1:4:2])\n",
    "print('s[1:4:2, 9]                               : ', s[1:4:2, 9])\n",
    "print('s[1:4:2, 7:9]                            : ', s[1:4:2, 7:9])\n",
    "print('slice(None, 10, 2).indices(5)     : ', slice(None, 10, 2).indices(5))\n",
    "print('slice(-3, None, None).indices(5): ', slice(-3, None, None).indices(5))"
   ]
  },
  {
   "cell_type": "markdown",
   "metadata": {},
   "source": [
    "### 10.4.2 slice를 인식하는 \\__getitem__()"
   ]
  },
  {
   "cell_type": "code",
   "execution_count": 9,
   "metadata": {},
   "outputs": [
    {
     "name": "stdout",
     "output_type": "stream",
     "text": [
      "6.0\n",
      "(1.0, 2.0, 3.0)\n",
      "(6.0,)\n"
     ]
    },
    {
     "ename": "TypeError",
     "evalue": "Vector_v1 indices must be intergers",
     "output_type": "error",
     "traceback": [
      "\u001b[0;31m---------------------------------------------------------------------------\u001b[0m",
      "\u001b[0;31mTypeError\u001b[0m                                 Traceback (most recent call last)",
      "\u001b[0;32m<ipython-input-9-572d1773ea8b>\u001b[0m in \u001b[0;36m<module>\u001b[0;34m()\u001b[0m\n\u001b[1;32m      4\u001b[0m \u001b[0mprint\u001b[0m\u001b[0;34m(\u001b[0m\u001b[0mv7\u001b[0m\u001b[0;34m[\u001b[0m\u001b[0;34m-\u001b[0m\u001b[0;36m1\u001b[0m\u001b[0;34m:\u001b[0m\u001b[0;34m]\u001b[0m\u001b[0;34m)\u001b[0m\u001b[0;34m\u001b[0m\u001b[0m\n\u001b[1;32m      5\u001b[0m \u001b[0;31m# 다차원 indexing을 지원 안함, index나 slice로 구성된 tuple은 에러 발생\u001b[0m\u001b[0;34m\u001b[0m\u001b[0;34m\u001b[0m\u001b[0m\n\u001b[0;32m----> 6\u001b[0;31m \u001b[0mprint\u001b[0m\u001b[0;34m(\u001b[0m\u001b[0mv7\u001b[0m\u001b[0;34m[\u001b[0m\u001b[0;36m1\u001b[0m\u001b[0;34m,\u001b[0m\u001b[0;36m2\u001b[0m\u001b[0;34m]\u001b[0m\u001b[0;34m)\u001b[0m\u001b[0;34m\u001b[0m\u001b[0m\n\u001b[0m",
      "\u001b[0;32m<ipython-input-6-1d5fd2cc7706>\u001b[0m in \u001b[0;36m__getitem__\u001b[0;34m(self, idx)\u001b[0m\n\u001b[1;32m     43\u001b[0m         \u001b[0;32melse\u001b[0m\u001b[0;34m:\u001b[0m\u001b[0;34m\u001b[0m\u001b[0m\n\u001b[1;32m     44\u001b[0m             \u001b[0mmsg\u001b[0m \u001b[0;34m=\u001b[0m\u001b[0;34m'{} indices must be intergers'\u001b[0m\u001b[0;34m.\u001b[0m\u001b[0mformat\u001b[0m\u001b[0;34m(\u001b[0m\u001b[0mcls\u001b[0m\u001b[0;34m.\u001b[0m\u001b[0m__name__\u001b[0m\u001b[0;34m)\u001b[0m\u001b[0;34m\u001b[0m\u001b[0m\n\u001b[0;32m---> 45\u001b[0;31m             \u001b[0;32mraise\u001b[0m \u001b[0mTypeError\u001b[0m\u001b[0;34m(\u001b[0m\u001b[0mmsg\u001b[0m\u001b[0;34m.\u001b[0m\u001b[0mformat\u001b[0m\u001b[0;34m(\u001b[0m\u001b[0mcls\u001b[0m\u001b[0;34m=\u001b[0m\u001b[0mcls\u001b[0m\u001b[0;34m)\u001b[0m\u001b[0;34m)\u001b[0m\u001b[0;34m\u001b[0m\u001b[0m\n\u001b[0m\u001b[1;32m     46\u001b[0m \u001b[0;34m\u001b[0m\u001b[0m\n\u001b[1;32m     47\u001b[0m     \u001b[0;34m@\u001b[0m\u001b[0mclassmethod\u001b[0m\u001b[0;34m\u001b[0m\u001b[0m\n",
      "\u001b[0;31mTypeError\u001b[0m: Vector_v1 indices must be intergers"
     ]
    }
   ],
   "source": [
    "v7 = Vector_v1(range(7))\n",
    "print(v7[-1])\n",
    "print(v7[1:4])\n",
    "print(v7[-1:])\n",
    "# 다차원 indexing을 지원 안함, index나 slice로 구성된 tuple은 에러 발생 \n",
    "print(v7[1,2]) "
   ]
  },
  {
   "cell_type": "markdown",
   "metadata": {},
   "source": [
    "## 10.5 Vector ver.3: 동적 속성 접근(dynamic attribute access)\n"
   ]
  },
  {
   "cell_type": "markdown",
   "metadata": {},
   "source": [
    "- 찾고 있는 attribute를 찾지 못하면, getattr() method를 호출함 --> 해당 object에 찾고 있는 attribute가 있는지 검사함\n",
    "- 해당 속성이 없으면 object의 class에서 더 검색함\n",
    "- 그래도 찾지 못할 경우, self와 attribute명을 문자열로 전달해서 object의 클래스에 정의된 getattr() method를 호출함\n",
    "- Vector_v2의 \\__getattr__() method는 찾고 있는 속성이 x, y, z, t중 하나인지 검사하고, 이 중 하나의 경우에는 해당 vector component를 return함"
   ]
  },
  {
   "cell_type": "code",
   "execution_count": null,
   "metadata": {
    "collapsed": true
   },
   "outputs": [],
   "source": []
  },
  {
   "cell_type": "code",
   "execution_count": null,
   "metadata": {
    "collapsed": true
   },
   "outputs": [],
   "source": []
  },
  {
   "cell_type": "code",
   "execution_count": null,
   "metadata": {
    "collapsed": true
   },
   "outputs": [],
   "source": []
  },
  {
   "cell_type": "code",
   "execution_count": null,
   "metadata": {
    "collapsed": true
   },
   "outputs": [],
   "source": []
  },
  {
   "cell_type": "code",
   "execution_count": null,
   "metadata": {
    "collapsed": true
   },
   "outputs": [],
   "source": []
  },
  {
   "cell_type": "code",
   "execution_count": null,
   "metadata": {
    "collapsed": true
   },
   "outputs": [],
   "source": []
  }
 ],
 "metadata": {
  "kernelspec": {
   "display_name": "Python 3",
   "language": "python",
   "name": "python3"
  },
  "language_info": {
   "codemirror_mode": {
    "name": "ipython",
    "version": 3
   },
   "file_extension": ".py",
   "mimetype": "text/x-python",
   "name": "python",
   "nbconvert_exporter": "python",
   "pygments_lexer": "ipython3",
   "version": "3.5.4"
  }
 },
 "nbformat": 4,
 "nbformat_minor": 2
}
