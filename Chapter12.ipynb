{
 "cells": [
  {
   "cell_type": "markdown",
   "metadata": {},
   "source": [
    "# 12. Inheritance: for good or for worse "
   ]
  },
  {
   "cell_type": "markdown",
   "metadata": {},
   "source": [
    "## 12.1 Subclassing built-in types is tricky\n",
    "\n",
    "- Python 2.2 이전에는 list나 dict등의 built-in type을 subclass하는 것 자체가 불가능했음\n",
    "- 공식적으로 CPython은 built-in type의 subclass에서 override한 method가 언제 호출되는지, 호출되지 않는지에 대해 명확한 규칙을 정의하지 않음\n",
    "- 일반적으로 subclass에서 override한 method는 같은 object의 다른 built-in method에 의해 호출되지 않음\n",
    "    - ex: dict의 subclass에서 override한 __getitem__() method는 get()과 같은 다른 built-in method에 의해 호출되지 않음"
   ]
  },
  {
   "cell_type": "code",
   "execution_count": 2,
   "metadata": {},
   "outputs": [
    {
     "name": "stdout",
     "output_type": "stream",
     "text": [
      "{'one': 1}\n",
      "{'one': 1, 'two': [2, 2]}\n",
      "{'one': 1, 'two': [2, 2], 'three': 3}\n"
     ]
    }
   ],
   "source": [
    "class DoppelDict(dict):\n",
    "    def __setitem__(self, key, value):\n",
    "        super().__setitem__(key, [value]*2)\n",
    "\n",
    "dd = DoppelDict(one=1) # dict의 __init__() method는 __setitem__()이 override되었다는 사실을 무시. one:[1,1]이 아닌 one: 1을 저장\n",
    "print(dd)\n",
    "dd['two']=2 # []연산자는 override한 __setitem__()을 호출. two:[2,2]를 저장\n",
    "print(dd)\n",
    "dd.update(three=3) # dict의 update method도 override된 __setitem__()d을 호출 안함. --> three:3을 저장\n",
    "print(dd)"
   ]
  },
  {
   "cell_type": "code",
   "execution_count": 4,
   "metadata": {},
   "outputs": [
    {
     "name": "stdout",
     "output_type": "stream",
     "text": [
      "42\n",
      "foo\n",
      "{'a': 'foo'}\n"
     ]
    }
   ],
   "source": [
    "class AnswerDict(dict):\n",
    "    def __getitem__(self, key):\n",
    "        return 42\n",
    "dd = AnswerDict(a='foo')\n",
    "print(dd['a']) # []연산자는 override한 __getitem__()을 호출. 42를 반환\n",
    "d = {}\n",
    "d.update(dd) # d는 평범한 dict 객체. update를 통해, d를 update\n",
    "print(d['a']) # 그러나, dict.update() method는 override된 AnswerDict.__getitem__() method를 무시\n",
    "print(d)"
   ]
  },
  {
   "cell_type": "markdown",
   "metadata": {},
   "source": [
    "- 이와 같이, dict, list, str등의 built-in type을 사용하면, 사용자가 정의한 override method를 무시.\n",
    "- 이 클래스들 직접 상속받지 말자.\n",
    "- 대신, 쉽게 확장이 가능한 collections module의 UserDict등을 사용할 것!"
   ]
  },
  {
   "cell_type": "code",
   "execution_count": 5,
   "metadata": {},
   "outputs": [
    {
     "name": "stdout",
     "output_type": "stream",
     "text": [
      "{'one': [1, 1]}\n",
      "{'one': [1, 1], 'two': [2, 2]}\n",
      "{'one': [1, 1], 'two': [2, 2], 'three': [3, 3]}\n"
     ]
    }
   ],
   "source": [
    "import collections\n",
    "\n",
    "class DoppelDict2(collections.UserDict):\n",
    "    def __setitem__(self, key, value):\n",
    "        super().__setitem__(key, [value]*2)\n",
    "\n",
    "dd = DoppelDict2(one=1)\n",
    "print(dd)\n",
    "dd['two'] = 2\n",
    "print(dd)\n",
    "dd.update(three=3)\n",
    "print(dd)\n",
    "\n",
    "        "
   ]
  },
  {
   "cell_type": "code",
   "execution_count": 7,
   "metadata": {},
   "outputs": [
    {
     "name": "stdout",
     "output_type": "stream",
     "text": [
      "42\n",
      "42\n",
      "{'a': 42}\n"
     ]
    }
   ],
   "source": [
    "class AnswerDict2(collections.UserDict):\n",
    "    def __getitem__(self, key):\n",
    "        return 42\n",
    "    \n",
    "ad = AnswerDict2(a='foo')\n",
    "print(ad['a'])\n",
    "d = dict()\n",
    "d.update(ad)\n",
    "print(d['a'])\n",
    "print(d)"
   ]
  },
  {
   "cell_type": "markdown",
   "metadata": {},
   "source": [
    "## 12.2 Multiple Inheritance and method determining order\n",
    "- Multiple Inheritance를 지원하는 언어에서는 별개의 상위 클래스가 동일 이름으로 method를 구현할 때 발생하는 이름 충돌 문제를 해결해야 함\n",
    "    - Example: Diamond Problem\n"
   ]
  },
  {
   "cell_type": "code",
   "execution_count": 25,
   "metadata": {},
   "outputs": [],
   "source": [
    "class A:\n",
    "    def ping(self):\n",
    "        print('ping: ', self)\n",
    "\n",
    "class B(A):\n",
    "    def pong(self):\n",
    "        print('pong_b: ', self)\n",
    "\n",
    "class C(A):\n",
    "    def pong(self):\n",
    "        print('pong_c: ', self)\n",
    "\n",
    "class D(B,C):\n",
    "    def ping(self):\n",
    "        super().ping()\n",
    "        print('post-ping: ', self)\n",
    "    def pingpong(self):\n",
    "        self.ping()\n",
    "        super().ping()\n",
    "        self.pong()\n",
    "        super().pong()\n",
    "        C.pong(self)\n",
    "        \n",
    "class E1(C,B):\n",
    "    def ping(self):\n",
    "        super().ping() # Super class에 위임할 땐, built-in function인 super()를 사용하는 거이 좋다.\n",
    "        print('post-ping: ', self)\n",
    "    def pingpong(self):\n",
    "        self.ping()\n",
    "        super().ping()\n",
    "        self.pong()\n",
    "        super().pong()\n",
    "        C.pong(self)\n",
    "        \n",
    "class E2(C,B):\n",
    "    def ping(self):\n",
    "        A.ping(self) # MRO를 우회하여, super class method를 직접 호출하고자 할 떄 사용!\n",
    "        print('post-ping: ', self)\n",
    "    def pingpong(self):\n",
    "        self.ping()\n",
    "        super().ping()\n",
    "        self.pong()\n",
    "        super().pong()\n",
    "        C.pong(self)"
   ]
  },
  {
   "cell_type": "code",
   "execution_count": 26,
   "metadata": {},
   "outputs": [
    {
     "name": "stdout",
     "output_type": "stream",
     "text": [
      "pong_b:  <__main__.D object at 0x7f63583f7c50>\n",
      "pong_b:  <__main__.D object at 0x7f63583f7c50>\n",
      "pong_c:  <__main__.D object at 0x7f63583f7c50>\n"
     ]
    }
   ],
   "source": [
    "d = D()\n",
    "d.pong()\n",
    "D.pong(d)\n",
    "C.pong(d)"
   ]
  },
  {
   "cell_type": "code",
   "execution_count": 18,
   "metadata": {},
   "outputs": [
    {
     "name": "stdout",
     "output_type": "stream",
     "text": [
      "(<class '__main__.D'>, <class '__main__.B'>, <class '__main__.C'>, <class '__main__.A'>, <class 'object'>)\n",
      "(<class '__main__.E1'>, <class '__main__.C'>, <class '__main__.B'>, <class '__main__.A'>, <class 'object'>)\n",
      "(<class '__main__.E2'>, <class '__main__.C'>, <class '__main__.B'>, <class '__main__.A'>, <class 'object'>)\n"
     ]
    }
   ],
   "source": [
    "# MRO: Method Resolution Order(메소드 결정 순서)\n",
    "print(D.__mro__) \n",
    "print(E1.__mro__)\n",
    "print(E2.__mro__)"
   ]
  },
  {
   "cell_type": "code",
   "execution_count": 27,
   "metadata": {},
   "outputs": [
    {
     "name": "stdout",
     "output_type": "stream",
     "text": [
      "ping:  <__main__.E1 object at 0x7f63583f7b00>\n",
      "post-ping:  <__main__.E1 object at 0x7f63583f7b00>\n",
      "ping:  <__main__.E2 object at 0x7f63583f7780>\n",
      "post-ping:  <__main__.E2 object at 0x7f63583f7780>\n"
     ]
    }
   ],
   "source": [
    "# MRO우회시\n",
    "e1 = E1()\n",
    "e2 = E2()\n",
    "e1.ping()\n",
    "e2.ping()"
   ]
  },
  {
   "cell_type": "code",
   "execution_count": 32,
   "metadata": {},
   "outputs": [
    {
     "name": "stdout",
     "output_type": "stream",
     "text": [
      "ping:  <__main__.D object at 0x7f63583f7b38>\n",
      "post-ping:  <__main__.D object at 0x7f63583f7b38>\n"
     ]
    }
   ],
   "source": [
    "# super()는 MRO를 따른다\n",
    "d = D()\n",
    "d.ping()"
   ]
  },
  {
   "cell_type": "code",
   "execution_count": 33,
   "metadata": {},
   "outputs": [
    {
     "name": "stdout",
     "output_type": "stream",
     "text": [
      "ping:  <__main__.D object at 0x7f63583f7b38>\n",
      "post-ping:  <__main__.D object at 0x7f63583f7b38>\n",
      "ping:  <__main__.D object at 0x7f63583f7b38>\n",
      "pong_b:  <__main__.D object at 0x7f63583f7b38>\n",
      "pong_b:  <__main__.D object at 0x7f63583f7b38>\n",
      "pong_c:  <__main__.D object at 0x7f63583f7b38>\n"
     ]
    }
   ],
   "source": [
    "d.pingpong()"
   ]
  },
  {
   "cell_type": "markdown",
   "metadata": {},
   "source": [
    "- d.pingpong()의 결과\n",
    "    - ping:  <__main__.D object at 0x7f63583f7b38> --> self.ping()에서 나온 결과\n",
    "    - post-ping:  <__main__.D object at 0x7f63583f7b38> --> self.ping()에서 나온 결과\n",
    "    - ping:  <__main__.D object at 0x7f63583f7b38> --> super().ping()에서 나온 결과로 A.ping()에서 나온 결과\n",
    "    - pong_b:  <__main__.D object at 0x7f63583f7b38> --> self.pong()에서 나온 결과로 B.pong()에서 나온 결과\n",
    "    - pong_b:  <__main__.D object at 0x7f63583f7b38> --> super().pong()에서 나온 결과로 B.pong()에서 나온 결과\n",
    "    - pong_c:  <__main__.D object at 0x7f63583f7b38> --> C.pong(self)에서 나온 결과"
   ]
  },
  {
   "cell_type": "code",
   "execution_count": 37,
   "metadata": {},
   "outputs": [
    {
     "name": "stdout",
     "output_type": "stream",
     "text": [
      "(<class 'bool'>, <class 'int'>, <class 'object'>)\n",
      "bool, int, object\n",
      "Integral, Rational, Real, Complex, Number, object\n",
      "BytesIO, _BufferedIOBase, _IOBase, object\n",
      "TextIOWrapper, _TextIOBase, _IOBase, object\n"
     ]
    }
   ],
   "source": [
    "# __mro__from various classes\n",
    "import io, numbers, tkinter\n",
    "\n",
    "print(bool.__mro__)\n",
    "def print_mro(cls):\n",
    "    print(', '.join(c.__name__ for c in cls.__mro__))\n",
    "print_mro(bool)\n",
    "print_mro(numbers.Integral)\n",
    "print_mro(io.BytesIO)\n",
    "print_mro(io.TextIOWrapper)"
   ]
  },
  {
   "cell_type": "code",
   "execution_count": 38,
   "metadata": {},
   "outputs": [
    {
     "name": "stdout",
     "output_type": "stream",
     "text": [
      "Text, Widget, BaseWidget, Misc, Pack, Place, Grid, XView, YView, object\n",
      "Toplevel, BaseWidget, Misc, Wm, object\n",
      "Widget, BaseWidget, Misc, Pack, Place, Grid, object\n",
      "Button, Widget, BaseWidget, Misc, Pack, Place, Grid, object\n",
      "Entry, Widget, BaseWidget, Misc, Pack, Place, Grid, XView, object\n",
      "Text, Widget, BaseWidget, Misc, Pack, Place, Grid, XView, YView, object\n"
     ]
    }
   ],
   "source": [
    "print_mro(tkinter.Text)\n",
    "print_mro(tkinter.Toplevel)\n",
    "print_mro(tkinter.Widget)\n",
    "print_mro(tkinter.Button)\n",
    "print_mro(tkinter.Entry)\n",
    "print_mro(tkinter.Text)"
   ]
  },
  {
   "cell_type": "code",
   "execution_count": null,
   "metadata": {},
   "outputs": [],
   "source": []
  }
 ],
 "metadata": {
  "kernelspec": {
   "display_name": "Python 3",
   "language": "python",
   "name": "python3"
  },
  "language_info": {
   "codemirror_mode": {
    "name": "ipython",
    "version": 3
   },
   "file_extension": ".py",
   "mimetype": "text/x-python",
   "name": "python",
   "nbconvert_exporter": "python",
   "pygments_lexer": "ipython3",
   "version": "3.6.5"
  }
 },
 "nbformat": 4,
 "nbformat_minor": 2
}
