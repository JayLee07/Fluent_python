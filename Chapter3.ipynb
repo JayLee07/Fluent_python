{
 "cells": [
  {
   "cell_type": "code",
   "execution_count": 31,
   "metadata": {
    "collapsed": true
   },
   "outputs": [],
   "source": [
    "import collections\n",
    "import os, re, sys, time"
   ]
  },
  {
   "cell_type": "code",
   "execution_count": 5,
   "metadata": {
    "collapsed": true
   },
   "outputs": [
    {
     "data": {
      "text/plain": [
       "True"
      ]
     },
     "execution_count": 5,
     "metadata": {},
     "output_type": "execute_result"
    }
   ],
   "source": [
    "my_dict = {}\n",
    "isinstance(my_dict, collections.abc.Mapping)"
   ]
  },
  {
   "cell_type": "markdown",
   "metadata": {},
   "source": [
    "### Hashing"
   ]
  },
  {
   "cell_type": "code",
   "execution_count": 15,
   "metadata": {
    "collapsed": true
   },
   "outputs": [
    {
     "name": "stdout",
     "output_type": "stream",
     "text": [
      "8027212646858338501\n",
      "-4118419923444501110\n"
     ]
    }
   ],
   "source": [
    "tt = (1, 2, (30, 40))\n",
    "tl = (1, 2,frozenset([30, 40])) # Tuple 자체로는 hashable이지만, tuple안에 unhashable값이 들어가 있을 경우, non-hashable\n",
    "a = hash(tt)\n",
    "b = hash(tl)\n",
    "print(a)\n",
    "print(b)"
   ]
  },
  {
   "cell_type": "markdown",
   "metadata": {},
   "source": [
    "# Dictionary"
   ]
  },
  {
   "cell_type": "markdown",
   "metadata": {},
   "source": [
    "### Dict()"
   ]
  },
  {
   "cell_type": "code",
   "execution_count": 17,
   "metadata": {
    "collapsed": true
   },
   "outputs": [
    {
     "data": {
      "text/plain": [
       "True"
      ]
     },
     "execution_count": 17,
     "metadata": {},
     "output_type": "execute_result"
    }
   ],
   "source": [
    "a = dict(one=1, two=2, three=3)\n",
    "b = {'one':1, 'two':2, 'three':3}\n",
    "c = dict(zip(['one','two','three'], [1,2,3]))\n",
    "d = dict([('two',2), ('one',1), ('three',3)])\n",
    "e = dict({'one': 1, 'three': 3, 'two': 2})\n",
    "a ==b==c==d==e"
   ]
  },
  {
   "cell_type": "markdown",
   "metadata": {},
   "source": [
    "### Dict comprehensions"
   ]
  },
  {
   "cell_type": "code",
   "execution_count": 27,
   "metadata": {
    "collapsed": true
   },
   "outputs": [],
   "source": [
    "CODES = [\n",
    "    (1,'US'),\n",
    "    (7,'Russia'),\n",
    "    (82,'Korea'),\n",
    "    (81, 'Japan')\n",
    "]\n",
    "country_codes1 = {key.upper(): value for value, key in CODES}\n",
    "country_codes2 = {key.upper(): value for key, value in country_codes1.items() if value>80}"
   ]
  },
  {
   "cell_type": "code",
   "execution_count": 28,
   "metadata": {
    "collapsed": true
   },
   "outputs": [
    {
     "name": "stdout",
     "output_type": "stream",
     "text": [
      "{'KOREA': 82, 'RUSSIA': 7, 'US': 1, 'JAPAN': 81}\n",
      "{'KOREA': 82, 'JAPAN': 81}\n"
     ]
    }
   ],
   "source": [
    "print(country_codes1)\n",
    "print(country_codes2)"
   ]
  },
  {
   "cell_type": "markdown",
   "metadata": {},
   "source": [
    "### Handling missing keys with set default"
   ]
  },
  {
   "cell_type": "code",
   "execution_count": 54,
   "metadata": {
    "collapsed": true
   },
   "outputs": [
    {
     "name": "stdout",
     "output_type": "stream",
     "text": [
      "a [(19, 48), (20, 53)]\n",
      "Although [(11, 1), (16, 1), (18, 1)]\n",
      "ambiguity [(14, 16)]\n",
      "and [(15, 23)]\n",
      "are [(21, 12)]\n",
      "aren [(10, 15)]\n",
      "at [(16, 38)]\n",
      "bad [(19, 50)]\n",
      "be [(15, 14), (16, 27), (20, 50)]\n",
      "beats [(11, 23)]\n",
      "Beautiful [(3, 1)]\n",
      "better [(3, 14), (4, 13), (5, 11), (6, 12), (7, 9), (8, 11), (17, 8), (18, 25)]\n",
      "break [(10, 40)]\n",
      "by [(1, 20)]\n",
      "cases [(10, 9)]\n",
      "complex [(5, 23)]\n",
      "Complex [(6, 1)]\n",
      "complicated [(6, 24)]\n",
      "counts [(9, 13)]\n",
      "dense [(8, 23)]\n",
      "do [(15, 64), (21, 48)]\n",
      "Dutch [(16, 61)]\n",
      "easy [(20, 26)]\n",
      "enough [(10, 30)]\n",
      "Errors [(12, 1)]\n",
      "explain [(19, 34), (20, 34)]\n",
      "Explicit [(4, 1)]\n",
      "explicitly [(13, 8)]\n",
      "face [(14, 8)]\n",
      "first [(16, 41)]\n",
      "Flat [(7, 1)]\n",
      "good [(20, 55)]\n",
      "great [(21, 28)]\n",
      "guess [(14, 52)]\n",
      "hard [(19, 26)]\n",
      "honking [(21, 20)]\n",
      "idea [(19, 54), (20, 60), (21, 34)]\n",
      "If [(19, 1), (20, 1)]\n",
      "implementation [(19, 8), (20, 8)]\n",
      "implicit [(4, 25)]\n",
      "In [(14, 1)]\n",
      "is [(3, 11), (4, 10), (5, 8), (6, 9), (7, 6), (8, 8), (17, 5), (18, 16), (19, 23), (20, 23)]\n",
      "it [(15, 67), (19, 43), (20, 43)]\n",
      "let [(21, 42)]\n",
      "may [(16, 19), (20, 46)]\n",
      "more [(21, 51)]\n",
      "Namespaces [(21, 1)]\n",
      "nested [(7, 21)]\n",
      "never [(12, 15), (17, 20), (18, 10)]\n",
      "not [(16, 23)]\n",
      "Now [(17, 1)]\n",
      "now [(18, 45)]\n",
      "obvious [(15, 49), (16, 30)]\n",
      "of [(1, 9), (14, 13), (21, 56)]\n",
      "often [(18, 19)]\n",
      "one [(15, 17), (15, 43), (21, 16)]\n",
      "only [(15, 38)]\n",
      "pass [(12, 21)]\n",
      "Peters [(1, 27)]\n",
      "practicality [(11, 10)]\n",
      "preferably [(15, 27)]\n",
      "purity [(11, 29)]\n",
      "Python [(1, 12)]\n",
      "re [(16, 58)]\n",
      "Readability [(9, 1)]\n",
      "refuse [(14, 27)]\n",
      "right [(18, 38)]\n",
      "rules [(10, 50)]\n",
      "s [(19, 46), (21, 46)]\n",
      "should [(12, 8), (15, 7)]\n",
      "silenced [(13, 19)]\n",
      "silently [(12, 26)]\n",
      "Simple [(5, 1)]\n",
      "Sparse [(8, 1)]\n",
      "Special [(10, 1)]\n",
      "special [(10, 22)]\n",
      "t [(10, 20)]\n",
      "temptation [(14, 38)]\n",
      "than [(3, 21), (4, 20), (5, 18), (6, 19), (7, 16), (8, 18), (17, 15), (18, 32)]\n",
      "that [(16, 10)]\n",
      "The [(1, 1)]\n",
      "the [(10, 46), (14, 4), (14, 34), (19, 4), (20, 4)]\n",
      "There [(15, 1)]\n",
      "those [(21, 59)]\n",
      "Tim [(1, 23)]\n",
      "to [(10, 37), (14, 49), (15, 61), (19, 31), (20, 31)]\n",
      "ugly [(3, 26)]\n",
      "Unless [(13, 1)]\n",
      "unless [(16, 47)]\n",
      "way [(15, 57), (16, 15)]\n",
      "you [(16, 54)]\n",
      "Zen [(1, 5)]\n"
     ]
    }
   ],
   "source": [
    "WORD_RE = re.compile('\\w+') # Compiles a regex into a regex object\n",
    "index = {}\n",
    "with open('/home/jehyuk/Documents/Fluent_Python_appendix/data/zen.txt', encoding = 'utf-8') as fp:\n",
    "    for line_no, content in enumerate(fp, 1):\n",
    "        for match in WORD_RE.finditer(content):\n",
    "            word = match.group()\n",
    "            col_no = match.start() + 1\n",
    "            location = (line_no, col_no)\n",
    "            # print(word, location)\n",
    "            occurrences = index.get(word, []) # 없는 경우 예외 처리([])\n",
    "            # print(\"{}: {}\".format(word, occurrences))\n",
    "            occurrences.append(location)\n",
    "            index[word] = occurrences\n",
    "for word in sorted(index, key = str.upper):\n",
    "    print(word, index[word])"
   ]
  },
  {
   "cell_type": "code",
   "execution_count": 59,
   "metadata": {
    "collapsed": true
   },
   "outputs": [
    {
     "name": "stdout",
     "output_type": "stream",
     "text": [
      "a [(19, 48), (20, 53)]\n",
      "Although [(11, 1), (16, 1), (18, 1)]\n",
      "ambiguity [(14, 16)]\n",
      "and [(15, 23)]\n",
      "are [(21, 12)]\n",
      "aren [(10, 15)]\n",
      "at [(16, 38)]\n",
      "bad [(19, 50)]\n",
      "be [(15, 14), (16, 27), (20, 50)]\n",
      "beats [(11, 23)]\n",
      "Beautiful [(3, 1)]\n",
      "better [(3, 14), (4, 13), (5, 11), (6, 12), (7, 9), (8, 11), (17, 8), (18, 25)]\n",
      "break [(10, 40)]\n",
      "by [(1, 20)]\n",
      "cases [(10, 9)]\n",
      "complex [(5, 23)]\n",
      "Complex [(6, 1)]\n",
      "complicated [(6, 24)]\n",
      "counts [(9, 13)]\n",
      "dense [(8, 23)]\n",
      "do [(15, 64), (21, 48)]\n",
      "Dutch [(16, 61)]\n",
      "easy [(20, 26)]\n",
      "enough [(10, 30)]\n",
      "Errors [(12, 1)]\n",
      "explain [(19, 34), (20, 34)]\n",
      "Explicit [(4, 1)]\n",
      "explicitly [(13, 8)]\n",
      "face [(14, 8)]\n",
      "first [(16, 41)]\n",
      "Flat [(7, 1)]\n",
      "good [(20, 55)]\n",
      "great [(21, 28)]\n",
      "guess [(14, 52)]\n",
      "hard [(19, 26)]\n",
      "honking [(21, 20)]\n",
      "idea [(19, 54), (20, 60), (21, 34)]\n",
      "If [(19, 1), (20, 1)]\n",
      "implementation [(19, 8), (20, 8)]\n",
      "implicit [(4, 25)]\n",
      "In [(14, 1)]\n",
      "is [(3, 11), (4, 10), (5, 8), (6, 9), (7, 6), (8, 8), (17, 5), (18, 16), (19, 23), (20, 23)]\n",
      "it [(15, 67), (19, 43), (20, 43)]\n",
      "let [(21, 42)]\n",
      "may [(16, 19), (20, 46)]\n",
      "more [(21, 51)]\n",
      "Namespaces [(21, 1)]\n",
      "nested [(7, 21)]\n",
      "never [(12, 15), (17, 20), (18, 10)]\n",
      "not [(16, 23)]\n",
      "Now [(17, 1)]\n",
      "now [(18, 45)]\n",
      "obvious [(15, 49), (16, 30)]\n",
      "of [(1, 9), (14, 13), (21, 56)]\n",
      "often [(18, 19)]\n",
      "one [(15, 17), (15, 43), (21, 16)]\n",
      "only [(15, 38)]\n",
      "pass [(12, 21)]\n",
      "Peters [(1, 27)]\n",
      "practicality [(11, 10)]\n",
      "preferably [(15, 27)]\n",
      "purity [(11, 29)]\n",
      "Python [(1, 12)]\n",
      "re [(16, 58)]\n",
      "Readability [(9, 1)]\n",
      "refuse [(14, 27)]\n",
      "right [(18, 38)]\n",
      "rules [(10, 50)]\n",
      "s [(19, 46), (21, 46)]\n",
      "should [(12, 8), (15, 7)]\n",
      "silenced [(13, 19)]\n",
      "silently [(12, 26)]\n",
      "Simple [(5, 1)]\n",
      "Sparse [(8, 1)]\n",
      "Special [(10, 1)]\n",
      "special [(10, 22)]\n",
      "t [(10, 20)]\n",
      "temptation [(14, 38)]\n",
      "than [(3, 21), (4, 20), (5, 18), (6, 19), (7, 16), (8, 18), (17, 15), (18, 32)]\n",
      "that [(16, 10)]\n",
      "The [(1, 1)]\n",
      "the [(10, 46), (14, 4), (14, 34), (19, 4), (20, 4)]\n",
      "There [(15, 1)]\n",
      "those [(21, 59)]\n",
      "Tim [(1, 23)]\n",
      "to [(10, 37), (14, 49), (15, 61), (19, 31), (20, 31)]\n",
      "ugly [(3, 26)]\n",
      "Unless [(13, 1)]\n",
      "unless [(16, 47)]\n",
      "way [(15, 57), (16, 15)]\n",
      "you [(16, 54)]\n",
      "Zen [(1, 5)]\n"
     ]
    }
   ],
   "source": [
    "WORD_RE = re.compile('\\w+')\n",
    "index = {}\n",
    "with open('/home/jehyuk/Documents/Fluent_Python_appendix/data/zen.txt', encoding = 'utf-8') as fp:\n",
    "    for line_no, content in enumerate(fp, 1):\n",
    "        for match in WORD_RE.finditer(content):\n",
    "            word = match.group()\n",
    "            col_no = match.start() + 1\n",
    "            location = (line_no, col_no)\n",
    "            index.setdefault(word, []).append(location)\n",
    "for word in sorted(index, key=str.upper):\n",
    "    print(word, index[word])"
   ]
  },
  {
   "cell_type": "markdown",
   "metadata": {},
   "source": [
    "### Handling missing keys with defaultdict"
   ]
  },
  {
   "cell_type": "code",
   "execution_count": 60,
   "metadata": {
    "collapsed": true
   },
   "outputs": [
    {
     "name": "stdout",
     "output_type": "stream",
     "text": [
      "a [(18, 48), (19, 53)]\n",
      "Although [(10, 1), (15, 1), (17, 1)]\n",
      "ambiguity [(13, 16)]\n",
      "and [(14, 23)]\n",
      "are [(20, 12)]\n",
      "aren [(9, 15)]\n",
      "at [(15, 38)]\n",
      "bad [(18, 50)]\n",
      "be [(14, 14), (15, 27), (19, 50)]\n",
      "beats [(10, 23)]\n",
      "Beautiful [(2, 1)]\n",
      "better [(2, 14), (3, 13), (4, 11), (5, 12), (6, 9), (7, 11), (16, 8), (17, 25)]\n",
      "break [(9, 40)]\n",
      "by [(0, 20)]\n",
      "cases [(9, 9)]\n",
      "complex [(4, 23)]\n",
      "Complex [(5, 1)]\n",
      "complicated [(5, 24)]\n",
      "counts [(8, 13)]\n",
      "dense [(7, 23)]\n",
      "do [(14, 64), (20, 48)]\n",
      "Dutch [(15, 61)]\n",
      "easy [(19, 26)]\n",
      "enough [(9, 30)]\n",
      "Errors [(11, 1)]\n",
      "explain [(18, 34), (19, 34)]\n",
      "Explicit [(3, 1)]\n",
      "explicitly [(12, 8)]\n",
      "face [(13, 8)]\n",
      "first [(15, 41)]\n",
      "Flat [(6, 1)]\n",
      "good [(19, 55)]\n",
      "great [(20, 28)]\n",
      "guess [(13, 52)]\n",
      "hard [(18, 26)]\n",
      "honking [(20, 20)]\n",
      "idea [(18, 54), (19, 60), (20, 34)]\n",
      "If [(18, 1), (19, 1)]\n",
      "implementation [(18, 8), (19, 8)]\n",
      "implicit [(3, 25)]\n",
      "In [(13, 1)]\n",
      "is [(2, 11), (3, 10), (4, 8), (5, 9), (6, 6), (7, 8), (16, 5), (17, 16), (18, 23), (19, 23)]\n",
      "it [(14, 67), (18, 43), (19, 43)]\n",
      "let [(20, 42)]\n",
      "may [(15, 19), (19, 46)]\n",
      "more [(20, 51)]\n",
      "Namespaces [(20, 1)]\n",
      "nested [(6, 21)]\n",
      "never [(11, 15), (16, 20), (17, 10)]\n",
      "not [(15, 23)]\n",
      "Now [(16, 1)]\n",
      "now [(17, 45)]\n",
      "obvious [(14, 49), (15, 30)]\n",
      "of [(0, 9), (13, 13), (20, 56)]\n",
      "often [(17, 19)]\n",
      "one [(14, 17), (14, 43), (20, 16)]\n",
      "only [(14, 38)]\n",
      "pass [(11, 21)]\n",
      "Peters [(0, 27)]\n",
      "practicality [(10, 10)]\n",
      "preferably [(14, 27)]\n",
      "purity [(10, 29)]\n",
      "Python [(0, 12)]\n",
      "re [(15, 58)]\n",
      "Readability [(8, 1)]\n",
      "refuse [(13, 27)]\n",
      "right [(17, 38)]\n",
      "rules [(9, 50)]\n",
      "s [(18, 46), (20, 46)]\n",
      "should [(11, 8), (14, 7)]\n",
      "silenced [(12, 19)]\n",
      "silently [(11, 26)]\n",
      "Simple [(4, 1)]\n",
      "Sparse [(7, 1)]\n",
      "Special [(9, 1)]\n",
      "special [(9, 22)]\n",
      "t [(9, 20)]\n",
      "temptation [(13, 38)]\n",
      "than [(2, 21), (3, 20), (4, 18), (5, 19), (6, 16), (7, 18), (16, 15), (17, 32)]\n",
      "that [(15, 10)]\n",
      "The [(0, 1)]\n",
      "the [(9, 46), (13, 4), (13, 34), (18, 4), (19, 4)]\n",
      "There [(14, 1)]\n",
      "those [(20, 59)]\n",
      "Tim [(0, 23)]\n",
      "to [(9, 37), (13, 49), (14, 61), (18, 31), (19, 31)]\n",
      "ugly [(2, 26)]\n",
      "Unless [(12, 1)]\n",
      "unless [(15, 47)]\n",
      "way [(14, 57), (15, 15)]\n",
      "you [(15, 54)]\n",
      "Zen [(0, 5)]\n"
     ]
    }
   ],
   "source": [
    "### Defaultdict: Another take on missing keys\n",
    "WORD_RE = re.compile('\\w+')\n",
    "index = collections.defaultdict(list)\n",
    "with open('/home/jehyuk/Documents/Fluent_Python_appendix/data/zen.txt', encoding = 'utf-8') as fp:\n",
    "    for line_no, content in enumerate(fp):\n",
    "        for match in WORD_RE.finditer(content):\n",
    "            word = match.group()\n",
    "            col_no = match.start() + 1\n",
    "            location = (line_no, col_no)\n",
    "            index[word].append(location)\n",
    "for word in sorted(index, key = str.upper):\n",
    "    print(word, index[word])"
   ]
  },
  {
   "cell_type": "markdown",
   "metadata": {
    "collapsed": true
   },
   "source": [
    "### Handling missing keys with __missing__ method"
   ]
  },
  {
   "cell_type": "code",
   "execution_count": 70,
   "metadata": {
    "collapsed": true
   },
   "outputs": [
    {
     "name": "stdout",
     "output_type": "stream",
     "text": [
      "zero\n",
      "four\n"
     ]
    },
    {
     "ename": "AttributeError",
     "evalue": "'StrKeyDict0' object has no attribute 'data'",
     "output_type": "error",
     "traceback": [
      "\u001b[0;31m--------------------------------------------------\u001b[0m",
      "\u001b[0;31mAttributeError\u001b[0m   Traceback (most recent call last)",
      "\u001b[0;32m<ipython-input-70-636e9b309296>\u001b[0m in \u001b[0;36m<module>\u001b[0;34m()\u001b[0m\n\u001b[1;32m     16\u001b[0m \u001b[0mprint\u001b[0m\u001b[0;34m(\u001b[0m\u001b[0md\u001b[0m\u001b[0;34m[\u001b[0m\u001b[0;34m'0'\u001b[0m\u001b[0;34m]\u001b[0m\u001b[0;34m)\u001b[0m\u001b[0;34m\u001b[0m\u001b[0m\n\u001b[1;32m     17\u001b[0m \u001b[0mprint\u001b[0m\u001b[0;34m(\u001b[0m\u001b[0md\u001b[0m\u001b[0;34m[\u001b[0m\u001b[0;36m4\u001b[0m\u001b[0;34m]\u001b[0m\u001b[0;34m)\u001b[0m\u001b[0;34m\u001b[0m\u001b[0m\n\u001b[0;32m---> 18\u001b[0;31m \u001b[0mprint\u001b[0m\u001b[0;34m(\u001b[0m\u001b[0md\u001b[0m\u001b[0;34m.\u001b[0m\u001b[0mdata\u001b[0m\u001b[0;34m)\u001b[0m \u001b[0;31m# 일반 dict에선 data라는게 정의가 안되있음\u001b[0m\u001b[0;34m\u001b[0m\u001b[0m\n\u001b[0m\u001b[1;32m     19\u001b[0m \u001b[0mprint\u001b[0m\u001b[0;34m(\u001b[0m\u001b[0md\u001b[0m\u001b[0;34m[\u001b[0m\u001b[0;36m1\u001b[0m\u001b[0;34m]\u001b[0m\u001b[0;34m)\u001b[0m\u001b[0;34m\u001b[0m\u001b[0m\n",
      "\u001b[0;31mAttributeError\u001b[0m: 'StrKeyDict0' object has no attribute 'data'"
     ]
    }
   ],
   "source": [
    "class StrKeyDict0(dict): # dict를 상속\n",
    "    def __missing__(self, key):\n",
    "        if isinstance(key, str):\n",
    "            raise KeyError(key) # 이미 key값이 string임에도 불구하고, missing된 상태라면, Keyerror발생\n",
    "        return self[str(key)] # key값이 string이 아닐 경우, str으로 반환하고, 이를 dict에서 찾음\n",
    "    \n",
    "    def get(self, key, default=None):\n",
    "        try:\n",
    "            return self[key]\n",
    "        except KeyError:\n",
    "            return default\n",
    "        \n",
    "    def __contains__(self, key):\n",
    "        return key in self.keys() or str(key) in self.keys()\n",
    "d = StrKeyDict0([('0', 'zero'), ('4','four')])\n",
    "print(d['0'])\n",
    "print(d[4])\n",
    "print(d.data) # 일반 dict에선 data라는게 정의가 안되있음\n",
    "print(d[1])"
   ]
  },
  {
   "cell_type": "markdown",
   "metadata": {},
   "source": [
    "### Variations of dict(Counter)"
   ]
  },
  {
   "cell_type": "code",
   "execution_count": 66,
   "metadata": {
    "collapsed": true
   },
   "outputs": [
    {
     "name": "stdout",
     "output_type": "stream",
     "text": [
      "Counter({'2': 5, '1': 5, '3': 5, '4': 2, '5': 2, '6': 1})\n",
      "Counter({'2': 5, '1': 5, '3': 5, '6': 4, '7': 3, '4': 2, '5': 2})\n",
      "[('2', 5), ('1', 5), ('3', 5)]\n"
     ]
    }
   ],
   "source": [
    "ct = collections.Counter('12312312312312345456')\n",
    "print(ct)\n",
    "ct.update('676767')\n",
    "print(ct)\n",
    "print(ct.most_common(3))"
   ]
  },
  {
   "cell_type": "markdown",
   "metadata": {},
   "source": [
    "### Subclassing UserDict"
   ]
  },
  {
   "cell_type": "code",
   "execution_count": 71,
   "metadata": {
    "collapsed": true
   },
   "outputs": [
    {
     "name": "stdout",
     "output_type": "stream",
     "text": [
      "zero\n",
      "four\n",
      "{'0': 'zero', '4': 'four'}\n"
     ]
    },
    {
     "ename": "KeyError",
     "evalue": "'1'",
     "output_type": "error",
     "traceback": [
      "\u001b[0;31m--------------------------------------------------\u001b[0m",
      "\u001b[0;31mKeyError\u001b[0m         Traceback (most recent call last)",
      "\u001b[0;32m<ipython-input-71-2c4aa62653a4>\u001b[0m in \u001b[0;36m<module>\u001b[0;34m()\u001b[0m\n\u001b[1;32m     13\u001b[0m \u001b[0mprint\u001b[0m\u001b[0;34m(\u001b[0m\u001b[0md\u001b[0m\u001b[0;34m[\u001b[0m\u001b[0;36m4\u001b[0m\u001b[0;34m]\u001b[0m\u001b[0;34m)\u001b[0m\u001b[0;34m\u001b[0m\u001b[0m\n\u001b[1;32m     14\u001b[0m \u001b[0mprint\u001b[0m\u001b[0;34m(\u001b[0m\u001b[0md\u001b[0m\u001b[0;34m.\u001b[0m\u001b[0mdata\u001b[0m\u001b[0;34m)\u001b[0m\u001b[0;34m\u001b[0m\u001b[0m\n\u001b[0;32m---> 15\u001b[0;31m \u001b[0mprint\u001b[0m\u001b[0;34m(\u001b[0m\u001b[0md\u001b[0m\u001b[0;34m[\u001b[0m\u001b[0;36m1\u001b[0m\u001b[0;34m]\u001b[0m\u001b[0;34m)\u001b[0m\u001b[0;34m\u001b[0m\u001b[0m\n\u001b[0m",
      "\u001b[0;32m~/anaconda3/envs/tensorflow/lib/python3.5/collections/__init__.py\u001b[0m in \u001b[0;36m__getitem__\u001b[0;34m(self, key)\u001b[0m\n\u001b[1;32m    986\u001b[0m             \u001b[0;32mreturn\u001b[0m \u001b[0mself\u001b[0m\u001b[0;34m.\u001b[0m\u001b[0mdata\u001b[0m\u001b[0;34m[\u001b[0m\u001b[0mkey\u001b[0m\u001b[0;34m]\u001b[0m\u001b[0;34m\u001b[0m\u001b[0m\n\u001b[1;32m    987\u001b[0m         \u001b[0;32mif\u001b[0m \u001b[0mhasattr\u001b[0m\u001b[0;34m(\u001b[0m\u001b[0mself\u001b[0m\u001b[0;34m.\u001b[0m\u001b[0m__class__\u001b[0m\u001b[0;34m,\u001b[0m \u001b[0;34m\"__missing__\"\u001b[0m\u001b[0;34m)\u001b[0m\u001b[0;34m:\u001b[0m\u001b[0;34m\u001b[0m\u001b[0m\n\u001b[0;32m--> 988\u001b[0;31m             \u001b[0;32mreturn\u001b[0m \u001b[0mself\u001b[0m\u001b[0;34m.\u001b[0m\u001b[0m__class__\u001b[0m\u001b[0;34m.\u001b[0m\u001b[0m__missing__\u001b[0m\u001b[0;34m(\u001b[0m\u001b[0mself\u001b[0m\u001b[0;34m,\u001b[0m \u001b[0mkey\u001b[0m\u001b[0;34m)\u001b[0m\u001b[0;34m\u001b[0m\u001b[0m\n\u001b[0m\u001b[1;32m    989\u001b[0m         \u001b[0;32mraise\u001b[0m \u001b[0mKeyError\u001b[0m\u001b[0;34m(\u001b[0m\u001b[0mkey\u001b[0m\u001b[0;34m)\u001b[0m\u001b[0;34m\u001b[0m\u001b[0m\n\u001b[1;32m    990\u001b[0m     \u001b[0;32mdef\u001b[0m \u001b[0m__setitem__\u001b[0m\u001b[0;34m(\u001b[0m\u001b[0mself\u001b[0m\u001b[0;34m,\u001b[0m \u001b[0mkey\u001b[0m\u001b[0;34m,\u001b[0m \u001b[0mitem\u001b[0m\u001b[0;34m)\u001b[0m\u001b[0;34m:\u001b[0m \u001b[0mself\u001b[0m\u001b[0;34m.\u001b[0m\u001b[0mdata\u001b[0m\u001b[0;34m[\u001b[0m\u001b[0mkey\u001b[0m\u001b[0;34m]\u001b[0m \u001b[0;34m=\u001b[0m \u001b[0mitem\u001b[0m\u001b[0;34m\u001b[0m\u001b[0m\n",
      "\u001b[0;32m<ipython-input-71-2c4aa62653a4>\u001b[0m in \u001b[0;36m__missing__\u001b[0;34m(self, key)\u001b[0m\n\u001b[1;32m      3\u001b[0m         \u001b[0;32mif\u001b[0m \u001b[0misinstance\u001b[0m\u001b[0;34m(\u001b[0m\u001b[0mkey\u001b[0m\u001b[0;34m,\u001b[0m \u001b[0mstr\u001b[0m\u001b[0;34m)\u001b[0m\u001b[0;34m:\u001b[0m\u001b[0;34m\u001b[0m\u001b[0m\n\u001b[1;32m      4\u001b[0m             \u001b[0;32mraise\u001b[0m \u001b[0mKeyError\u001b[0m\u001b[0;34m(\u001b[0m\u001b[0mkey\u001b[0m\u001b[0;34m)\u001b[0m\u001b[0;34m\u001b[0m\u001b[0m\n\u001b[0;32m----> 5\u001b[0;31m         \u001b[0;32mreturn\u001b[0m \u001b[0mself\u001b[0m\u001b[0;34m[\u001b[0m\u001b[0mstr\u001b[0m\u001b[0;34m(\u001b[0m\u001b[0mkey\u001b[0m\u001b[0;34m)\u001b[0m\u001b[0;34m]\u001b[0m\u001b[0;34m\u001b[0m\u001b[0m\n\u001b[0m\u001b[1;32m      6\u001b[0m     \u001b[0;32mdef\u001b[0m \u001b[0m__contains__\u001b[0m\u001b[0;34m(\u001b[0m\u001b[0mself\u001b[0m\u001b[0;34m,\u001b[0m \u001b[0mkey\u001b[0m\u001b[0;34m)\u001b[0m\u001b[0;34m:\u001b[0m\u001b[0;34m\u001b[0m\u001b[0m\n\u001b[1;32m      7\u001b[0m         \u001b[0;32mreturn\u001b[0m \u001b[0mstr\u001b[0m\u001b[0;34m(\u001b[0m\u001b[0mkey\u001b[0m\u001b[0;34m)\u001b[0m \u001b[0;32min\u001b[0m \u001b[0mself\u001b[0m\u001b[0;34m.\u001b[0m\u001b[0mdata\u001b[0m\u001b[0;34m\u001b[0m\u001b[0m\n",
      "\u001b[0;32m~/anaconda3/envs/tensorflow/lib/python3.5/collections/__init__.py\u001b[0m in \u001b[0;36m__getitem__\u001b[0;34m(self, key)\u001b[0m\n\u001b[1;32m    986\u001b[0m             \u001b[0;32mreturn\u001b[0m \u001b[0mself\u001b[0m\u001b[0;34m.\u001b[0m\u001b[0mdata\u001b[0m\u001b[0;34m[\u001b[0m\u001b[0mkey\u001b[0m\u001b[0;34m]\u001b[0m\u001b[0;34m\u001b[0m\u001b[0m\n\u001b[1;32m    987\u001b[0m         \u001b[0;32mif\u001b[0m \u001b[0mhasattr\u001b[0m\u001b[0;34m(\u001b[0m\u001b[0mself\u001b[0m\u001b[0;34m.\u001b[0m\u001b[0m__class__\u001b[0m\u001b[0;34m,\u001b[0m \u001b[0;34m\"__missing__\"\u001b[0m\u001b[0;34m)\u001b[0m\u001b[0;34m:\u001b[0m\u001b[0;34m\u001b[0m\u001b[0m\n\u001b[0;32m--> 988\u001b[0;31m             \u001b[0;32mreturn\u001b[0m \u001b[0mself\u001b[0m\u001b[0;34m.\u001b[0m\u001b[0m__class__\u001b[0m\u001b[0;34m.\u001b[0m\u001b[0m__missing__\u001b[0m\u001b[0;34m(\u001b[0m\u001b[0mself\u001b[0m\u001b[0;34m,\u001b[0m \u001b[0mkey\u001b[0m\u001b[0;34m)\u001b[0m\u001b[0;34m\u001b[0m\u001b[0m\n\u001b[0m\u001b[1;32m    989\u001b[0m         \u001b[0;32mraise\u001b[0m \u001b[0mKeyError\u001b[0m\u001b[0;34m(\u001b[0m\u001b[0mkey\u001b[0m\u001b[0;34m)\u001b[0m\u001b[0;34m\u001b[0m\u001b[0m\n\u001b[1;32m    990\u001b[0m     \u001b[0;32mdef\u001b[0m \u001b[0m__setitem__\u001b[0m\u001b[0;34m(\u001b[0m\u001b[0mself\u001b[0m\u001b[0;34m,\u001b[0m \u001b[0mkey\u001b[0m\u001b[0;34m,\u001b[0m \u001b[0mitem\u001b[0m\u001b[0;34m)\u001b[0m\u001b[0;34m:\u001b[0m \u001b[0mself\u001b[0m\u001b[0;34m.\u001b[0m\u001b[0mdata\u001b[0m\u001b[0;34m[\u001b[0m\u001b[0mkey\u001b[0m\u001b[0;34m]\u001b[0m \u001b[0;34m=\u001b[0m \u001b[0mitem\u001b[0m\u001b[0;34m\u001b[0m\u001b[0m\n",
      "\u001b[0;32m<ipython-input-71-2c4aa62653a4>\u001b[0m in \u001b[0;36m__missing__\u001b[0;34m(self, key)\u001b[0m\n\u001b[1;32m      2\u001b[0m     \u001b[0;32mdef\u001b[0m \u001b[0m__missing__\u001b[0m\u001b[0;34m(\u001b[0m\u001b[0mself\u001b[0m\u001b[0;34m,\u001b[0m \u001b[0mkey\u001b[0m\u001b[0;34m)\u001b[0m\u001b[0;34m:\u001b[0m\u001b[0;34m\u001b[0m\u001b[0m\n\u001b[1;32m      3\u001b[0m         \u001b[0;32mif\u001b[0m \u001b[0misinstance\u001b[0m\u001b[0;34m(\u001b[0m\u001b[0mkey\u001b[0m\u001b[0;34m,\u001b[0m \u001b[0mstr\u001b[0m\u001b[0;34m)\u001b[0m\u001b[0;34m:\u001b[0m\u001b[0;34m\u001b[0m\u001b[0m\n\u001b[0;32m----> 4\u001b[0;31m             \u001b[0;32mraise\u001b[0m \u001b[0mKeyError\u001b[0m\u001b[0;34m(\u001b[0m\u001b[0mkey\u001b[0m\u001b[0;34m)\u001b[0m\u001b[0;34m\u001b[0m\u001b[0m\n\u001b[0m\u001b[1;32m      5\u001b[0m         \u001b[0;32mreturn\u001b[0m \u001b[0mself\u001b[0m\u001b[0;34m[\u001b[0m\u001b[0mstr\u001b[0m\u001b[0;34m(\u001b[0m\u001b[0mkey\u001b[0m\u001b[0;34m)\u001b[0m\u001b[0;34m]\u001b[0m\u001b[0;34m\u001b[0m\u001b[0m\n\u001b[1;32m      6\u001b[0m     \u001b[0;32mdef\u001b[0m \u001b[0m__contains__\u001b[0m\u001b[0;34m(\u001b[0m\u001b[0mself\u001b[0m\u001b[0;34m,\u001b[0m \u001b[0mkey\u001b[0m\u001b[0;34m)\u001b[0m\u001b[0;34m:\u001b[0m\u001b[0;34m\u001b[0m\u001b[0m\n",
      "\u001b[0;31mKeyError\u001b[0m: '1'"
     ]
    }
   ],
   "source": [
    "class StrKeyDict1(collections.UserDict):\n",
    "    def __missing__(self, key):\n",
    "        if isinstance(key, str):\n",
    "            raise KeyError(key)\n",
    "        return self[str(key)]\n",
    "    def __contains__(self, key):\n",
    "        return str(key) in self.data\n",
    "    def __setitem__(self, key, item):\n",
    "        self.data[str(key)] = item\n",
    "\n",
    "d = StrKeyDict1([('0', 'zero'), ('4','four')])\n",
    "print(d['0'])\n",
    "print(d[4])\n",
    "print(d.data) # Userdict를 상속받았고, Userdict에는 data라는 변수가 정의가 되어 있는 것으로 보임\n",
    "print(d[1])    "
   ]
  },
  {
   "cell_type": "markdown",
   "metadata": {},
   "source": [
    "### Immutable Mappings"
   ]
  },
  {
   "cell_type": "code",
   "execution_count": 72,
   "metadata": {
    "collapsed": true
   },
   "outputs": [],
   "source": [
    "from types import MappingProxyType"
   ]
  },
  {
   "cell_type": "code",
   "execution_count": 76,
   "metadata": {
    "collapsed": true
   },
   "outputs": [
    {
     "name": "stdout",
     "output_type": "stream",
     "text": [
      "{1: 'A'}\n",
      "A\n",
      "{1: 'A', 2: 'B'}\n"
     ]
    }
   ],
   "source": [
    "d = {1:'A'}\n",
    "d_proxy = MappingProxyType(d)\n",
    "print(d_proxy)\n",
    "print(d_proxy[1])\n",
    "# d_proxy[2] = 'x' # 이 연산은 불가능. --> MappingProxy는 read-only\n",
    "d[2]= 'B'\n",
    "d_proxy = MappingProxyType(d)\n",
    "print(d_proxy) # dict자체를 바꿔줘야 위에서 목표했던 바를 할 수 있음"
   ]
  },
  {
   "cell_type": "markdown",
   "metadata": {},
   "source": [
    "# Set"
   ]
  },
  {
   "cell_type": "markdown",
   "metadata": {},
   "source": [
    "#### Set: A collection of unique objects"
   ]
  },
  {
   "cell_type": "code",
   "execution_count": 78,
   "metadata": {
    "collapsed": true
   },
   "outputs": [
    {
     "name": "stdout",
     "output_type": "stream",
     "text": [
      "['a', 'b', 'c', 'a']\n",
      "{'a', 'c', 'b'}\n"
     ]
    }
   ],
   "source": [
    "a = ['a','b','c','a']\n",
    "set_a = set(a)\n",
    "print(a)\n",
    "print(set_a)"
   ]
  },
  {
   "cell_type": "code",
   "execution_count": 81,
   "metadata": {
    "collapsed": true
   },
   "outputs": [],
   "source": [
    "from dis import dis"
   ]
  },
  {
   "cell_type": "code",
   "execution_count": 85,
   "metadata": {
    "collapsed": true
   },
   "outputs": [
    {
     "name": "stdout",
     "output_type": "stream",
     "text": [
      "CPU times: user 0 ns, sys: 0 ns, total: 0 ns\n",
      "Wall time: 12.4 µs\n",
      "CPU times: user 0 ns, sys: 0 ns, total: 0 ns\n",
      "Wall time: 15 µs\n",
      "  1           0 LOAD_CONST               0 (1)\n",
      "              3 LOAD_CONST               1 (2)\n",
      "              6 LOAD_CONST               2 (3)\n",
      "              9 LOAD_CONST               0 (1)\n",
      "             12 LOAD_CONST               1 (2)\n",
      "             15 LOAD_CONST               2 (3)\n",
      "             18 LOAD_CONST               0 (1)\n",
      "             21 LOAD_CONST               1 (2)\n",
      "             24 LOAD_CONST               2 (3)\n",
      "             27 LOAD_CONST               0 (1)\n",
      "             30 LOAD_CONST               1 (2)\n",
      "             33 LOAD_CONST               2 (3)\n",
      "             36 LOAD_CONST               0 (1)\n",
      "             39 LOAD_CONST               1 (2)\n",
      "             42 LOAD_CONST               2 (3)\n",
      "             45 BUILD_SET               15\n",
      "             48 RETURN_VALUE\n",
      "  1           0 LOAD_NAME                0 (set)\n",
      "              3 LOAD_CONST               0 (1)\n",
      "              6 LOAD_CONST               1 (2)\n",
      "              9 LOAD_CONST               2 (3)\n",
      "             12 LOAD_CONST               0 (1)\n",
      "             15 LOAD_CONST               1 (2)\n",
      "             18 LOAD_CONST               2 (3)\n",
      "             21 LOAD_CONST               0 (1)\n",
      "             24 LOAD_CONST               1 (2)\n",
      "             27 LOAD_CONST               2 (3)\n",
      "             30 LOAD_CONST               0 (1)\n",
      "             33 LOAD_CONST               1 (2)\n",
      "             36 LOAD_CONST               2 (3)\n",
      "             39 LOAD_CONST               0 (1)\n",
      "             42 LOAD_CONST               1 (2)\n",
      "             45 LOAD_CONST               2 (3)\n",
      "             48 BUILD_LIST              15\n",
      "             51 CALL_FUNCTION            1 (1 positional, 0 keyword pair)\n",
      "             54 RETURN_VALUE\n"
     ]
    }
   ],
   "source": [
    "%time {1,2,3,1,2,3,1,2,3,1,2,3,1,2,3}\n",
    "%time set([1,2,3,1,2,3,1,2,3,1,2,3,1,2,3])\n",
    "dis('{1,2,3,1,2,3,1,2,3,1,2,3,1,2,3}')\n",
    "dis('set([1,2,3,1,2,3,1,2,3,1,2,3,1,2,3])')"
   ]
  },
  {
   "cell_type": "code",
   "execution_count": 100,
   "metadata": {
    "collapsed": true
   },
   "outputs": [
    {
     "name": "stdout",
     "output_type": "stream",
     "text": [
      "{(174, '®'), (162, '¢'), (169, '©'), (182, '¶'), (215, '×'), (167, '§'), (176, '°'), (181, 'µ'), (164, '¤'), (247, '÷'), (165, '¥'), (177, '±'), (163, '£'), (172, '¬')}\n"
     ]
    }
   ],
   "source": [
    "### Set Comprehension\n",
    "from unicodedata import name\n",
    "a = {(i,chr(i)) for i in range(64, 256) if 'SIGN' in name(chr(i), '')}\n",
    "print(a)"
   ]
  },
  {
   "cell_type": "code",
   "execution_count": 106,
   "metadata": {
    "collapsed": true
   },
   "outputs": [
    {
     "data": {
      "text/plain": [
       "{1, 2, 3, 4, 5, 6}"
      ]
     },
     "execution_count": 106,
     "metadata": {},
     "output_type": "execute_result"
    }
   ],
   "source": [
    "a = {1,2,3}\n",
    "b,c,d = [1,2],[3,4],[5,6]\n",
    "a.union(b,c,d) # Inplace 연산은 아님"
   ]
  },
  {
   "cell_type": "markdown",
   "metadata": {
    "collapsed": true
   },
   "source": [
    "### Key search in dictionary (Time comparison)"
   ]
  },
  {
   "cell_type": "code",
   "execution_count": 133,
   "metadata": {
    "collapsed": true
   },
   "outputs": [],
   "source": [
    "a, b = dict(), list()\n",
    "for i in range(100000):\n",
    "    a[i] = i\n",
    "    b.append((i,i))"
   ]
  },
  {
   "cell_type": "code",
   "execution_count": 134,
   "metadata": {},
   "outputs": [
    {
     "name": "stdout",
     "output_type": "stream",
     "text": [
      "a[99000]: 99000, time : 0.0001\n",
      "b[99000]: 99000, time : 0.0254\n"
     ]
    }
   ],
   "source": [
    "import time\n",
    "key = 99000\n",
    "start = time.time()\n",
    "print('a[{}]: {}, time : {:.4f}'.format(key, key, time.time() - start))\n",
    "\n",
    "start = time.time()\n",
    "for i in range(len(b)):\n",
    "    if b[i][0] == key:\n",
    "        print('b[{}]: {}, time : {:.4f}'.format(key, key, time.time() - start))"
   ]
  },
  {
   "cell_type": "code",
   "execution_count": 128,
   "metadata": {},
   "outputs": [],
   "source": [
    "DIAL_CODES = list()\n",
    "DIAL_CODES.append((86,'China'))\n",
    "DIAL_CODES.append((1,'US'))\n",
    "DIAL_CODES.append((82,'Korea'))\n",
    "DIAL_CODES.append((81,'Japan'))\n",
    "DIAL_CODES.append((7,'Russia'))"
   ]
  },
  {
   "cell_type": "code",
   "execution_count": 131,
   "metadata": {},
   "outputs": [
    {
     "name": "stdout",
     "output_type": "stream",
     "text": [
      "d1: dict_keys([1, 82, 7, 86, 81])\n",
      "d2: dict_keys([1, 82, 86, 81, 7])\n",
      "d3: dict_keys([81, 82, 1, 86, 7])\n",
      "True\n"
     ]
    }
   ],
   "source": [
    "d1 = dict(DIAL_CODES)\n",
    "print(\"d1: {}\".format(d1.keys()))\n",
    "d2 = dict(sorted(DIAL_CODES))\n",
    "print(\"d2: {}\".format(d2.keys()))\n",
    "d3 = dict(sorted(DIAL_CODES, key=lambda x:x[1]))\n",
    "print((\"d3: {}\".format(d3.keys())))\n",
    "print((d1==d2) and (d2 == d3))"
   ]
  },
  {
   "cell_type": "markdown",
   "metadata": {},
   "source": [
    "### Adding item in dictionary\n",
    "#### Method1: 매번 Iterating하면서 없는 키들을 추가하면서 dictionary 생성\n",
    "#### Method2: Iterating하면서 없는 키들을 먼저 탐색하고 dictionary는 한방에 추가"
   ]
  },
  {
   "cell_type": "code",
   "execution_count": 154,
   "metadata": {},
   "outputs": [
    {
     "name": "stdout",
     "output_type": "stream",
     "text": [
      "Method1 Time: 1.9957\n"
     ]
    }
   ],
   "source": [
    "a, b = dict(), list()\n",
    "for i in range(100000):\n",
    "    a[i] = i\n",
    "    b.append((i,i))\n",
    "\n",
    "new_keys = [x for x in range(99995, 11000000)]\n",
    "start = time.time()\n",
    "for key in new_keys:\n",
    "    if key not in a.keys():\n",
    "        a[key] = key\n",
    "print(\"Method1 Time: {:.4f}\".format(time.time() - start))"
   ]
  },
  {
   "cell_type": "code",
   "execution_count": 155,
   "metadata": {},
   "outputs": [
    {
     "name": "stdout",
     "output_type": "stream",
     "text": [
      "Method2 Time: 1.6884\n"
     ]
    }
   ],
   "source": [
    "a, b = dict(), list()\n",
    "for i in range(100000):\n",
    "    a[i] = i\n",
    "    b.append((i,i))\n",
    "\n",
    "new_keys = [x for x in range(99995, 11000000)]\n",
    "add_a = dict()\n",
    "start = time.time()\n",
    "add_keys = new_keys - a.keys()\n",
    "for key in add_keys:\n",
    "    add_a[key] = key\n",
    "a.update(add_a)\n",
    "print(\"Method2 Time: {:.4f}\".format(time.time() - start))"
   ]
  },
  {
   "cell_type": "markdown",
   "metadata": {},
   "source": [
    "#### --> 추가되어야 할 dictionary의 크기가 큰 경우, method2가 좋으나, 작을경우, method1이 더 빠른 경우도 존재 "
   ]
  },
  {
   "cell_type": "code",
   "execution_count": null,
   "metadata": {
    "collapsed": true
   },
   "outputs": [],
   "source": []
  }
 ],
 "metadata": {
  "kernelspec": {
   "display_name": "Python 3",
   "language": "python",
   "name": "python3"
  },
  "language_info": {
   "codemirror_mode": {
    "name": "ipython",
    "version": 3
   },
   "file_extension": ".py",
   "mimetype": "text/x-python",
   "name": "python",
   "nbconvert_exporter": "python",
   "pygments_lexer": "ipython3",
   "version": "3.5.4"
  }
 },
 "nbformat": 4,
 "nbformat_minor": 2
}
