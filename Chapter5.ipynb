{
 "cells": [
  {
   "cell_type": "markdown",
   "metadata": {},
   "source": [
    "## 5.1"
   ]
  },
  {
   "cell_type": "code",
   "execution_count": 2,
   "metadata": {
    "collapsed": true
   },
   "outputs": [],
   "source": [
    "def factorial(n):\n",
    "    '''returns n!'''\n",
    "    return 1 if n<2 else n*factorial(n-1)"
   ]
  },
  {
   "cell_type": "code",
   "execution_count": 3,
   "metadata": {},
   "outputs": [
    {
     "name": "stdout",
     "output_type": "stream",
     "text": [
      "3628800\n",
      "returns n!\n",
      "<class 'function'>\n"
     ]
    }
   ],
   "source": [
    "print(factorial(10))\n",
    "print(factorial.__doc__)\n",
    "print(type(factorial))"
   ]
  },
  {
   "cell_type": "code",
   "execution_count": 5,
   "metadata": {},
   "outputs": [
    {
     "name": "stdout",
     "output_type": "stream",
     "text": [
      "<function factorial at 0x7f801c08e268>\n",
      "120\n",
      "<map object at 0x7f801c023f28>\n",
      "<map object at 0x7f801c023eb8>\n",
      "[1, 1, 2, 6, 24, 120, 720, 5040, 40320, 362880]\n"
     ]
    }
   ],
   "source": [
    "fact = factorial\n",
    "print(fact)\n",
    "print(fact(5))\n",
    "print(map(factorial, range(10)))\n",
    "print(map(fact, range(10)))\n",
    "print(list(map(fact, range(10))))"
   ]
  },
  {
   "cell_type": "markdown",
   "metadata": {},
   "source": [
    "## 5.2"
   ]
  },
  {
   "cell_type": "markdown",
   "metadata": {},
   "source": [
    "### - Higher order function(고위함수)\n",
    "    - 함수를 인수로 받거나, 결과로 반환하는 함수\n",
    "    - ex: sorted(). 밑의 예제에서 len이라는 함수를 인수로 받음\n",
    "    - 밑의 예제에서 인수를 하나 받는 함수는 모두 key 인수로 사용될 수 있음"
   ]
  },
  {
   "cell_type": "code",
   "execution_count": 8,
   "metadata": {
    "collapsed": true
   },
   "outputs": [
    {
     "name": "stdout",
     "output_type": "stream",
     "text": [
      "['a', 'bb', 'cc', 'ddd', 'eee', 'ffff']\n",
      "elppa\n",
      "['abc', 'cdfh', 'ggggioh', 'ekkkkk', 'deflk']\n"
     ]
    }
   ],
   "source": [
    "ex1 = ['a','bb','cc','ddd','eee','ffff']\n",
    "ex2 = ['abc','cdfh','deflk','ekkkkk', 'ggggioh']\n",
    "print(sorted(ex1, key=len))\n",
    "def reverse(word):\n",
    "    return word[::-1]\n",
    "print(reverse('apple'))\n",
    "print(sorted(ex2, key=reverse))"
   ]
  },
  {
   "cell_type": "markdown",
   "metadata": {},
   "source": [
    "### 5.2.1 map(), filter(), reduce()의 대안\n",
    "    - map(), filter() 함수는 python3에 내장되어 있지만 list comprehension과 generator가 소개된 이후, 중요성이 떨어짐\n",
    "    - Python3에서 map()과 filter()는 제너레이터를 반환 --> 제너레이터 표현식이 이 함수들을 직접 대체"
   ]
  },
  {
   "cell_type": "code",
   "execution_count": 11,
   "metadata": {},
   "outputs": [
    {
     "name": "stdout",
     "output_type": "stream",
     "text": [
      "[1, 1, 2, 6, 24, 120]\n",
      "[1, 1, 2, 6, 24, 120]\n",
      "[1, 6, 120]\n",
      "[1, 6, 120]\n",
      "4950\n",
      "4950\n"
     ]
    }
   ],
   "source": [
    "from functools import reduce\n",
    "from operator import add\n",
    "print(list(map(fact, range(6))))\n",
    "print([fact(n) for n in range(6)])\n",
    "print(list(map(factorial, filter(lambda n: n%2, range(6)))))\n",
    "print([factorial(n) for n in range(6) if n%2])\n",
    "print(reduce(add, range(100)))\n",
    "print(sum(range(100)))"
   ]
  },
  {
   "cell_type": "markdown",
   "metadata": {},
   "source": [
    "## 5.3\n",
    "    - lambda: python 표현식 내에 익명함수를 생성. 그러나 순수한 표현식으로만 구성되도록 제한. --> WHile, try등의 python 문장을 사용할 수 없음\n",
    "    - 익명함수는 인수 목록 안에서 아주 유용하게 사용됨\n",
    "    - 고위 함수의 인수로 사용되는 경우를 제외하면, 익명함수는 거의 사용되지 않음"
   ]
  },
  {
   "cell_type": "code",
   "execution_count": 16,
   "metadata": {},
   "outputs": [
    {
     "name": "stdout",
     "output_type": "stream",
     "text": [
      "['ggggiog', 'ekkkkk', 'deflk', 'cdfh', 'abc']\n",
      "['abc', 'ggggiog', 'cdfh', 'ekkkkk', 'deflk']\n"
     ]
    }
   ],
   "source": [
    "ex2 = ['abc','cdfh','deflk','ekkkkk', 'ggggiog']\n",
    "print(reverse(ex2))\n",
    "print(sorted(ex2, key = lambda word: word[::-1])) # ex2의 각 원소를 reverse시키고, 이를 기준으로 sorted시키는 것"
   ]
  },
  {
   "cell_type": "markdown",
   "metadata": {},
   "source": [
    "## 5.4 Callable Object\n",
    "    - 호출할 수 있는 객체인지 알아보려면 callable() 내장 함수를 사용함\n",
    "    - 7 callables: def함수, 내장함수, 내장 method(C언어로 구현된 method), method, class, class object, generator function(yield를 사용하는 함수나 method. generator object를 return)"
   ]
  },
  {
   "cell_type": "code",
   "execution_count": 19,
   "metadata": {},
   "outputs": [
    {
     "name": "stdout",
     "output_type": "stream",
     "text": [
      "<built-in function abs> <class 'str'> 13\n",
      "[True, True, False]\n"
     ]
    }
   ],
   "source": [
    "print(abs, str, 13)\n",
    "print([callable(obj) for obj in (abs, str, 13)])"
   ]
  },
  {
   "cell_type": "markdown",
   "metadata": {},
   "source": [
    "## 5.5 User-defined Callables\n",
    "    - python function은 실제 object. 뿐만 아니라, 모든 파이썬 object가 function처럼 동작하게 할 수 있음"
   ]
  },
  {
   "cell_type": "code",
   "execution_count": 37,
   "metadata": {},
   "outputs": [
    {
     "name": "stdout",
     "output_type": "stream",
     "text": [
      "3\n",
      "0\n",
      "True\n"
     ]
    }
   ],
   "source": [
    "import random\n",
    "class BingoCage:\n",
    "    def __init__(self, items):\n",
    "        self._items = list(items)\n",
    "        random.shuffle(self._items)\n",
    "        \n",
    "    def pick(self):\n",
    "        try:\n",
    "            return self._items.pop()\n",
    "        except IndexError:\n",
    "            raise LookupError('pick from empty Bingo cage')\n",
    "    \n",
    "    def __call__(self):\n",
    "        return self.pick()\n",
    "    \n",
    "bingo = BingoCage(range(5))\n",
    "print(bingo.pick())\n",
    "print(bingo())\n",
    "print(callable(bingo))"
   ]
  },
  {
   "cell_type": "markdown",
   "metadata": {},
   "source": [
    "## 5.6 Function Introspection\n",
    "    - dir() 함수를 사용하여 사용자 정의 함수에서 사용하는 속성들을 볼 수 있음\n",
    "    - __dict__속성을 이용해서 객체에 할당된 사용자 속성을 보관함\n",
    "    - 기본적인 애너테이션 형태로서 유용함\n",
    "    "
   ]
  },
  {
   "cell_type": "code",
   "execution_count": 39,
   "metadata": {
    "collapsed": true
   },
   "outputs": [],
   "source": [
    "def upper_case_name(obj):\n",
    "    return (\"%s %s\" %(obj.first_name, obj.last_name)).upper()\n",
    "upper_case_name.short_description = 'Customer name'"
   ]
  },
  {
   "cell_type": "code",
   "execution_count": 41,
   "metadata": {
    "collapsed": true
   },
   "outputs": [
    {
     "data": {
      "text/plain": [
       "['__annotations__',\n",
       " '__call__',\n",
       " '__closure__',\n",
       " '__code__',\n",
       " '__defaults__',\n",
       " '__get__',\n",
       " '__globals__',\n",
       " '__kwdefaults__',\n",
       " '__name__',\n",
       " '__qualname__']"
      ]
     },
     "execution_count": 41,
     "metadata": {},
     "output_type": "execute_result"
    }
   ],
   "source": [
    "class C:\n",
    "    pass\n",
    "obj = C()\n",
    "def func():\n",
    "    pass\n",
    "sorted(set(dir(func)) - set(dir(obj)))"
   ]
  },
  {
   "cell_type": "code",
   "execution_count": 47,
   "metadata": {
    "collapsed": true
   },
   "outputs": [],
   "source": [
    "def tag(name, *content, cls = None, **attrs):\n",
    "    if cls is not None:\n",
    "        attrs['class'] = cls\n",
    "    \n",
    "    if attrs:\n",
    "        attr_str = ''.join(' %s = \"%s\"' %(attr, value) for attr, value in sorted(attrs.items()))\n",
    "    else:\n",
    "        attr_str = ''\n",
    "    \n",
    "    if content:\n",
    "        return '\\n'.join('<%s%s>%s</%s>'% (name, attr_str, c, name) for c in content)\n",
    "    else:\n",
    "        return '<%s%s />' %(name, attr_str)"
   ]
  },
  {
   "cell_type": "code",
   "execution_count": 48,
   "metadata": {},
   "outputs": [
    {
     "name": "stdout",
     "output_type": "stream",
     "text": [
      "<br />\n",
      "<p>hello</p>\n",
      "<p>hello</p>\n",
      "<p>world</p>\n",
      "<p id = \"33\">hello</p>\n",
      "<p class = \"sidebar\">hello</p>\n",
      "<p class = \"sidebar\">world</p>\n",
      "<img content = \"testing\" />\n",
      "<img class = \"framed\" src = \"sunset.jpg\" title = \"Sunset Boulevard\" />\n"
     ]
    }
   ],
   "source": [
    "print(tag('br'))\n",
    "print(tag('p','hello'))\n",
    "print(tag('p','hello','world'))\n",
    "print(tag('p','hello',id=33))\n",
    "print(tag('p','hello','world',cls='sidebar'))\n",
    "print(tag(content='testing',name='img'))\n",
    "my_tag = {\n",
    "    'name': 'img', 'title': 'Sunset Boulevard', 'src': 'sunset.jpg', 'cls': 'framed'\n",
    "}\n",
    "print(tag(**my_tag))"
   ]
  },
  {
   "cell_type": "code",
   "execution_count": 51,
   "metadata": {},
   "outputs": [
    {
     "data": {
      "text/plain": [
       "(1, 2)"
      ]
     },
     "execution_count": 51,
     "metadata": {},
     "output_type": "execute_result"
    }
   ],
   "source": [
    "def f(a, *, b):\n",
    "    return a, b\n",
    "f(1, b=2)\n",
    "# f(1,2) --> error"
   ]
  },
  {
   "cell_type": "markdown",
   "metadata": {},
   "source": [
    "## 5.8"
   ]
  },
  {
   "cell_type": "code",
   "execution_count": 53,
   "metadata": {
    "collapsed": true
   },
   "outputs": [],
   "source": [
    "def clip(text, max_len=80):\n",
    "    end = None\n",
    "    if len(text) > max_len:\n",
    "        space_before = text.rfind(' ', 0, max_len)\n",
    "        if space_before >= 0:\n",
    "            end = space_before\n",
    "        else:\n",
    "            space_after = text.rfind(' ', max_len)\n",
    "            if space_after >= 0:\n",
    "                end = space_after\n",
    "    if end in None:\n",
    "        end = len(text)\n",
    "    return text[:end].rstrip()"
   ]
  },
  {
   "cell_type": "code",
   "execution_count": 55,
   "metadata": {},
   "outputs": [
    {
     "name": "stdout",
     "output_type": "stream",
     "text": [
      "(80,)\n",
      "<code object clip at 0x7f8029c17ed0, file \"<ipython-input-53-21b621358688>\", line 1>\n",
      "('text', 'max_len', 'end', 'space_before', 'space_after')\n",
      "2\n"
     ]
    }
   ],
   "source": [
    "print(clip.__defaults__)\n",
    "print(clip.__code__)\n",
    "print(clip.__code__.co_varnames)\n",
    "print(clip.__code__.co_argcount)"
   ]
  },
  {
   "cell_type": "code",
   "execution_count": 58,
   "metadata": {},
   "outputs": [
    {
     "name": "stdout",
     "output_type": "stream",
     "text": [
      "(text, max_len=80)\n",
      "(text, max_len=80)\n",
      "1: text = <class 'inspect._empty'>\n",
      "1: max_len = 80\n"
     ]
    }
   ],
   "source": [
    "from inspect import signature\n",
    "sig = signature(clip)\n",
    "print(sig)\n",
    "print(str(sig))\n",
    "for name, param in sig.parameters.items():\n",
    "    print('{}: {} = {}'.format(param.kind, name, param.default))"
   ]
  },
  {
   "cell_type": "code",
   "execution_count": null,
   "metadata": {
    "collapsed": true
   },
   "outputs": [],
   "source": []
  }
 ],
 "metadata": {
  "kernelspec": {
   "display_name": "Python 3",
   "language": "python",
   "name": "python3"
  },
  "language_info": {
   "codemirror_mode": {
    "name": "ipython",
    "version": 3
   },
   "file_extension": ".py",
   "mimetype": "text/x-python",
   "name": "python",
   "nbconvert_exporter": "python",
   "pygments_lexer": "ipython3",
   "version": "3.6.3"
  }
 },
 "nbformat": 4,
 "nbformat_minor": 2
}
