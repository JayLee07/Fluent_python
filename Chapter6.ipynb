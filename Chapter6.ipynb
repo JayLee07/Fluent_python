{
 "cells": [
  {
   "cell_type": "markdown",
   "metadata": {},
   "source": [
    "## 6.1 Refactoring Strategy"
   ]
  },
  {
   "cell_type": "markdown",
   "metadata": {},
   "source": [
    "### 6.1.1Classic Starategy"
   ]
  },
  {
   "cell_type": "markdown",
   "metadata": {},
   "source": [
    "    - 아래 예제에서 각각의 구체적인 전략은 discount()라는 method를 가진 class\n",
    "    - Strategy object는 state(object attribute)가 없다 ( ex: class내부에서 쓰이는 attribute들이 하나도 없음. 예를 들어, product, quantity, price같은)"
   ]
  },
  {
   "cell_type": "code",
   "execution_count": 1,
   "metadata": {
    "collapsed": true
   },
   "outputs": [],
   "source": [
    "from collections import namedtuple\n",
    "from abc import ABC, abstractmethod"
   ]
  },
  {
   "cell_type": "code",
   "execution_count": 2,
   "metadata": {},
   "outputs": [
    {
     "name": "stdout",
     "output_type": "stream",
     "text": [
      "<Order Total: 31.00, due: 29.45>\n",
      "<Order Total: 31.00, due: 28.90>\n",
      "<Order Total: 31.00, due: 31.00>\n",
      "<Order Total: 20.00, due: 19.00>\n",
      "<Order Total: 20.00, due: 20.00>\n",
      "<Order Total: 20.00, due: 18.60>\n"
     ]
    }
   ],
   "source": [
    "class LineItem:\n",
    "    def __init__(self, product, quantity, price):\n",
    "        self.product = product\n",
    "        self.quantity = quantity\n",
    "        self.price = price\n",
    "    def total(self):\n",
    "        return self.price * self.quantity\n",
    "\n",
    "class Order:\n",
    "    def __init__(self, customer, cart, promotion=None):\n",
    "        self.customer = customer\n",
    "        self.cart = list(cart)\n",
    "        self.promotion = promotion\n",
    "    def total(self):\n",
    "        self.__total = sum(item.total() for item in self.cart)\n",
    "        return self.__total\n",
    "    def due(self):\n",
    "        if self.promotion is None:\n",
    "            disc = 0\n",
    "        else:\n",
    "            disc = self.promotion.discount(self)\n",
    "        return self.total() - disc\n",
    "    def __repr__(self):\n",
    "        fmt = '<Order Total: {:.2f}, due: {:.2f}>'\n",
    "        return fmt.format(self.total(), self.due())\n",
    "    \n",
    "class Promotion(ABC): #Strategy: Abstract Base Class\n",
    "    @abstractmethod\n",
    "    def discount(self, order):\n",
    "        return 0\n",
    "        \"\"\"Return disc_amt\"\"\"\n",
    "\n",
    "class FidelityPromotion(Promotion):\n",
    "    def discount(self, order):\n",
    "        return order.total() * 0.05 if order.customer.fidelity >= 1000 else 0\n",
    "class BulkItemPromotion(Promotion):\n",
    "    def discount(self, order):\n",
    "        disc_amt = 0\n",
    "        for item in order.cart:\n",
    "            if item.quantity >= 20:\n",
    "                disc_amt += item.total() * 0.1\n",
    "        return disc_amt\n",
    "class LargeOrderPromotion(Promotion):\n",
    "    def discount(self, order):\n",
    "        distinct_items = [item.product for item in order.cart]\n",
    "        if len(distinct_items) >= 10:\n",
    "            return order.total() * 0.07\n",
    "        return 0 \n",
    "    \n",
    "Customer = namedtuple('Customer', 'name fidelity')\n",
    "john = Customer('John Doe', 0)\n",
    "ann = Customer('Ann Smith', 1100)\n",
    "cart = [LineItem('apple', 5, 2.0), LineItem('berry', 30, 0.5), LineItem('Chocolate', 30, 0.2)]\n",
    "longcart = [LineItem(str(item_code), 1, 1.0) for item_code in range(20)]\n",
    "print(Order(ann, cart, FidelityPromotion()))\n",
    "print(Order(john, cart, BulkItemPromotion()))\n",
    "print(Order(john, cart, LargeOrderPromotion()))\n",
    "print(Order(ann, longcart, FidelityPromotion()))\n",
    "print(Order(john, longcart, BulkItemPromotion()))\n",
    "print(Order(john, longcart, LargeOrderPromotion()))"
   ]
  },
  {
   "cell_type": "markdown",
   "metadata": {},
   "source": [
    "### 6.1.2 Function-oriented Strategy"
   ]
  },
  {
   "cell_type": "markdown",
   "metadata": {},
   "source": [
    "    -기존 방법에서 구체적인 strategy를 function으로 변경했고, Promotion이라는 abstract class를 제거함\n",
    "    -Order() object를 생성할 때마다, Promotion() object를 생성할 필요 없음"
   ]
  },
  {
   "cell_type": "code",
   "execution_count": 3,
   "metadata": {},
   "outputs": [],
   "source": [
    "class LineItem:\n",
    "    def __init__(self, product, quantity, price):\n",
    "        self.product = product\n",
    "        self.quantity = quantity\n",
    "        self.price = price\n",
    "    def total(self):\n",
    "        return self.quantity * self.price\n",
    "    \n",
    "class Order: # Context\n",
    "    def __init__(self, customer, cart, promotion=None):\n",
    "        self.customer = customer\n",
    "        self.cart = list(cart)\n",
    "        self.promotion = promotion\n",
    "    def total(self):\n",
    "        self.__total = sum(lineitem.total() for lineitem in self.cart)\n",
    "        return self.__total\n",
    "    def due(self):\n",
    "        if self.promotion is None:\n",
    "            disc = 0\n",
    "        else:\n",
    "            disc = self.promotion(self)\n",
    "        return self.total() - disc\n",
    "    def __repr__(self):\n",
    "        fmt = '<Order total: {:.2f} due: {:.2f}>'\n",
    "        return fmt.format(self.total(), self.due())\n",
    "    \n",
    "def fidelity_promotion(order):\n",
    "    return order.total() * 0.05 if order.customer.fidelity>=1000 else 0\n",
    "def bulkitem_promotion(order):\n",
    "    disc_amt = 0\n",
    "    for lineitem in order.cart:\n",
    "        if lineitem.quantity >= 20:\n",
    "            disc_amt += lineitem.total() * 0.1\n",
    "    return disc_amt\n",
    "def largeorder_promotion(order):\n",
    "    distinct_items = [lineitem.product for lineitem in order.cart]\n",
    "    if len(distinct_items) >= 10:\n",
    "        return order.total() * 0.07\n",
    "    else:\n",
    "        return 0\n",
    "\n",
    "Customer = namedtuple('Customer', 'name fidelity')\n",
    "john = Customer('John Doe', 0)\n",
    "ann = Customer('Ann Smith', 1100)\n",
    "cart = [LineItem('apple', 5, 2.0), LineItem('berry', 30, 0.5), LineItem('Chocolate', 30, 0.2)]\n",
    "longcart = [LineItem(str(item_code), 1, 1.0) for item_code in range(20)]\n",
    "# print(Order(ann, cart, fidelity_promotion))\n",
    "# print(Order(john, cart, bulkitem_promotion))\n",
    "# print(Order(john, cart, largeorder_promotion))\n",
    "# print(Order(ann, longcart, fidelity_promotion))\n",
    "# print(Order(john, longcart, bulkitem_promotion))\n",
    "# print(Order(john, longcart, largeorder_promotion))"
   ]
  },
  {
   "cell_type": "markdown",
   "metadata": {},
   "source": [
    "### 6.1.3 Find the best strategy : Simple approach"
   ]
  },
  {
   "cell_type": "code",
   "execution_count": 4,
   "metadata": {},
   "outputs": [
    {
     "name": "stdout",
     "output_type": "stream",
     "text": [
      "<Order total: 31.00 due: 28.90>\n",
      "<Order total: 31.00 due: 28.90>\n",
      "<Order total: 20.00 due: 18.60>\n",
      "<Order total: 20.00 due: 18.60>\n"
     ]
    }
   ],
   "source": [
    "promos = [fidelity_promotion, bulkitem_promotion, largeorder_promotion]\n",
    "def best_promotion(order):\n",
    "    return max(promo(order) for promo in promos)\n",
    "print(Order(ann, cart, best_promotion))\n",
    "print(Order(john, cart, best_promotion))\n",
    "print(Order(ann, longcart, best_promotion))\n",
    "print(Order(john, longcart, best_promotion))"
   ]
  },
  {
   "cell_type": "markdown",
   "metadata": {},
   "source": [
    "    -위 예제는 가독성이 좋고, 제대로 작동하지만, 일부 코드가 중복되어 있어 버그가 생길 수 있음\n",
    "    - 새로운 할인 전략을 추가하려면, 함수를 만들고, 이를 promos에 추가하여야 함"
   ]
  },
  {
   "cell_type": "markdown",
   "metadata": {},
   "source": [
    "### 6.1.4 Find the strategy in a module"
   ]
  },
  {
   "cell_type": "markdown",
   "metadata": {},
   "source": [
    "    -globals(): 현재 전역 symbol table을 나타내는 dictionary 객체를 반환. 현재 모듈에 대한 내용을 담음"
   ]
  },
  {
   "cell_type": "code",
   "execution_count": 5,
   "metadata": {
    "scrolled": true
   },
   "outputs": [
    {
     "name": "stdout",
     "output_type": "stream",
     "text": [
      "<class '__main__.BulkItemPromotion'>\n",
      "<class 'abc.ABC'>\n",
      "<function best_promotion at 0x7f61c40b4b70>\n",
      "<function bulkitem_promotion at 0x7f61c40b4c80>\n"
     ]
    }
   ],
   "source": [
    "global_dict = globals()\n",
    "# print(global_dict.keys())\n",
    "print(global_dict['BulkItemPromotion'])\n",
    "print(global_dict['ABC'])\n",
    "print(global_dict['best_promotion'])\n",
    "print(global_dict['bulkitem_promotion'])"
   ]
  },
  {
   "cell_type": "code",
   "execution_count": 8,
   "metadata": {},
   "outputs": [
    {
     "name": "stdout",
     "output_type": "stream",
     "text": [
      "<Order total: 31.00 due: 28.90>\n",
      "<Order total: 31.00 due: 28.90>\n",
      "<Order total: 20.00 due: 18.60>\n",
      "<Order total: 20.00 due: 18.60>\n"
     ]
    }
   ],
   "source": [
    "promos = [global_dict[name] for name in global_dict if name.endswith('_promotion') and name != 'best_promotion']\n",
    "def best_promotion(order):\n",
    "    return max(promo(order) for promo in promos)\n",
    "print(Order(ann, cart, best_promotion))\n",
    "print(Order(john, cart, best_promotion))\n",
    "print(Order(ann, longcart, best_promotion))\n",
    "print(Order(john, longcart, best_promotion))"
   ]
  },
  {
   "cell_type": "code",
   "execution_count": null,
   "metadata": {
    "collapsed": true
   },
   "outputs": [],
   "source": []
  }
 ],
 "metadata": {
  "kernelspec": {
   "display_name": "Python 3",
   "language": "python",
   "name": "python3"
  },
  "language_info": {
   "codemirror_mode": {
    "name": "ipython",
    "version": 3
   },
   "file_extension": ".py",
   "mimetype": "text/x-python",
   "name": "python",
   "nbconvert_exporter": "python",
   "pygments_lexer": "ipython3",
   "version": "3.5.4"
  }
 },
 "nbformat": 4,
 "nbformat_minor": 2
}
