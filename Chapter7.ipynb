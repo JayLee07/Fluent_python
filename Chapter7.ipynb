{
 "cells": [
  {
   "cell_type": "markdown",
   "metadata": {},
   "source": [
    "# 7. Function Decorators and Closures"
   ]
  },
  {
   "cell_type": "markdown",
   "metadata": {},
   "source": [
    "- How python decides whether a variable is local\n",
    "- Why closures exist and how they work\n",
    "- What problem is solved by nonlocal\n",
    "- How python evaluates decorator syntax\n",
    "- Implementing a well-behaved decorator\n",
    "- Interesting decorators in the standard library\n",
    "- Implementing a parametrized decorator"
   ]
  },
  {
   "cell_type": "markdown",
   "metadata": {},
   "source": [
    "## 7.3 Variable Scope rules\n",
    "\n",
    "    - Python이 function을 compile할 때, function내의 변수를 local 변수로 인식한다.\n",
    "    - 실제로 function을 call하면, function 내부에 정의되어 있지 않은 변수는 unbound 되었는지 확인하고, 존재하면 그 변수를 가져옴\n",
    "    - Compile단계, 즉, function을 call하지 않을 경우, function 내부의 변수를 unbound 영역에서 찾을 수 없어도, 에러가 나지 않음"
   ]
  },
  {
   "cell_type": "code",
   "execution_count": null,
   "metadata": {
    "collapsed": true
   },
   "outputs": [],
   "source": [
    "from dis import dis"
   ]
  },
  {
   "cell_type": "code",
   "execution_count": null,
   "metadata": {
    "collapsed": true
   },
   "outputs": [],
   "source": [
    "def f1(a): # compile시에는 b를 local variable로 인식. \n",
    "    print(a)\n",
    "    print(b)\n",
    "# f1(3) # 실제로 call할 때, function내부에 정의되지 않은 변수를 unbound되었는지 확인하고, 존재하지 않아서 error"
   ]
  },
  {
   "cell_type": "code",
   "execution_count": null,
   "metadata": {
    "collapsed": true,
    "scrolled": true
   },
   "outputs": [],
   "source": [
    "dis(f1)"
   ]
  },
  {
   "cell_type": "code",
   "execution_count": null,
   "metadata": {
    "collapsed": true
   },
   "outputs": [],
   "source": [
    "b=6\n",
    "def f2(a):\n",
    "    print(a, b) # 함수 내의 local variable로 b가 함수 내부에는 존재하지 않으나, unbound 영역에서 존재 하므로 정상적으로 결과를 return\n",
    "f2(3)\n",
    "\n",
    "def f3(a):\n",
    "    print(a, c)\n",
    "c=6\n",
    "f3(3) # 이와 같이 먼저 변수가 정의 되어 있지 않아도, 정상적으로 결과를 return"
   ]
  },
  {
   "cell_type": "code",
   "execution_count": null,
   "metadata": {
    "collapsed": true
   },
   "outputs": [],
   "source": [
    "dis(f2)"
   ]
  },
  {
   "cell_type": "code",
   "execution_count": null,
   "metadata": {
    "collapsed": true
   },
   "outputs": [],
   "source": [
    "dis(f3)"
   ]
  },
  {
   "cell_type": "code",
   "execution_count": null,
   "metadata": {
    "collapsed": true
   },
   "outputs": [],
   "source": [
    "def f4(a):\n",
    "    print(a)\n",
    "    print(b)\n",
    "    b = 5\n",
    "# f4(3)\n",
    "# 컴파일시 a, b를 local variable로 인식한다. 실제로 여기서 함수를 call할 때, local var b를 함수 내부에서 찾았지만, 늦게 정의 됨\n",
    "# local variable 'b' referenced before assignment 에러를 return"
   ]
  },
  {
   "cell_type": "code",
   "execution_count": null,
   "metadata": {
    "collapsed": true
   },
   "outputs": [],
   "source": [
    "b = 7\n",
    "def f5(a): \n",
    "    global b # b를 global variable화 시킨다. compile할 때, b는 global variable로 인식\n",
    "    print(a, b) # b가 local에서 뒤늦게 정의 되어 있지만, 앞에서 global이라고 선언했기 때문에, 전역에서 불러온다. \n",
    "    b = 9\n",
    "b = 8\n",
    "f5(3)"
   ]
  },
  {
   "cell_type": "code",
   "execution_count": null,
   "metadata": {
    "collapsed": true
   },
   "outputs": [],
   "source": [
    "dis(f5)"
   ]
  },
  {
   "cell_type": "markdown",
   "metadata": {},
   "source": [
    "## 7.4 Closures\n",
    "    - 정의: Non-global variable이 내부에서 선언되지는 않았지만, 이러한 variable을 참조하는 function\n",
    "    - Function이 anonymous의 여부는 중요하지 않음. 중요한 건 내부에서 선언하지 않은 non-global variable을 참조하는가의 여부"
   ]
  },
  {
   "cell_type": "code",
   "execution_count": null,
   "metadata": {
    "collapsed": true
   },
   "outputs": [],
   "source": [
    "class Averager_class():\n",
    "    def __init__(self):\n",
    "        self.series=[]\n",
    "        \n",
    "    def __call__(self, new_value):\n",
    "        self.series.append(new_value)\n",
    "        total = sum(self.series)\n",
    "        return total / len(self.series)"
   ]
  },
  {
   "cell_type": "code",
   "execution_count": null,
   "metadata": {
    "collapsed": true
   },
   "outputs": [],
   "source": [
    "def Averager_func():\n",
    "    series = [] \n",
    "    def averager(new_value):\n",
    "        series.append(new_value)\n",
    "        total = sum(series)\n",
    "        return total / len(series)\n",
    "    return averager"
   ]
  },
  {
   "cell_type": "code",
   "execution_count": null,
   "metadata": {
    "collapsed": true
   },
   "outputs": [],
   "source": [
    "# Averager_func에 대해서, series는 local var이다. 그러나, 함수가 call될 경우, Averager_func가 이미 return을 함. local var이 더이상 아니게 됨\n",
    "# averager에 대해서, series는 free variable이다.(해당 함수 안에 local var로 선언되지 않음)"
   ]
  },
  {
   "cell_type": "code",
   "execution_count": null,
   "metadata": {
    "collapsed": true
   },
   "outputs": [],
   "source": [
    "avg_class = Averager_class()\n",
    "print(avg_class(10))\n",
    "print(avg_class(11))\n",
    "print(avg_class(12))"
   ]
  },
  {
   "cell_type": "code",
   "execution_count": null,
   "metadata": {
    "collapsed": true
   },
   "outputs": [],
   "source": [
    "avg_func = Averager_func()"
   ]
  },
  {
   "cell_type": "code",
   "execution_count": null,
   "metadata": {
    "collapsed": true
   },
   "outputs": [],
   "source": [
    "print(avg_func(10))\n",
    "print(avg_func(11))\n",
    "print(avg_func(12))\n",
    "print(avg_func.__code__.co_varnames)\n",
    "print(avg_func.__code__.co_freevars)"
   ]
  },
  {
   "cell_type": "code",
   "execution_count": null,
   "metadata": {
    "collapsed": true
   },
   "outputs": [],
   "source": [
    "print(avg_func.__code__.co_varnames)\n",
    "print(avg_func.__closure__)\n",
    "print(avg_func.__closure__[0]) # Binding of series is kept in the __closure__attribute of the returned function avg_func. (cell형태로)\n",
    "print(avg_func.__code__.co_freevars) # Each item in avg_func.__closure__ corresponds to avg_code.__code__.co_freevars\n",
    "print(avg_func.__closure__[0].cell_contents)"
   ]
  },
  {
   "cell_type": "markdown",
   "metadata": {},
   "source": [
    "## 7.5 The nonlocal declaration\n",
    "    - 위의 예제는 not efficient. --> Store all the values in the historical series and computed their avg sum everytiime avg_func is called\n",
    "    - Better way: total과 # of item을 저장하고, 이들로부터 mean을 산출\n",
    "    - 아래 예제를 이와 같이 실행하면, local var 'cnt' referenced before assignment라는 에러 발생\n",
    "    - Why?\n",
    "        - cnt는 number로 immutable type이다. 이는 실제로 averager의 body내에서 cnt에 값을 assign. --> cnt가 local variable화 되버림\n",
    "        - 앞의 예제에서는 series가 free var였다. series.append 함수를 call 해서, sum과 len을 구했을 뿐, 실제로 값을 지정 안했음\n",
    "        - 앞의 예제에서는 free variable이 되려고 한게 mutable했기 때문에 이런 상황이 가능했던 것\n",
    "        - immutable type에서는 할수 있는 것은 read뿐, update는 할 수 없음.\n",
    "        - Implicit하게 local var cnt를 생성하였으므로, 더이상 free var가 아니게 되어, closure에 저장되지 않게 되는 것"
   ]
  },
  {
   "cell_type": "code",
   "execution_count": null,
   "metadata": {
    "collapsed": true
   },
   "outputs": [],
   "source": [
    "def make_averager():\n",
    "    cnt, total = 0, 0.0\n",
    "    def averager(new_value):\n",
    "        cnt += 1.0\n",
    "        total += new_value\n",
    "        return total / count\n",
    "    return averager"
   ]
  },
  {
   "cell_type": "code",
   "execution_count": null,
   "metadata": {
    "collapsed": true
   },
   "outputs": [],
   "source": [
    "avg = make_averager()\n",
    "avg(10)"
   ]
  },
  {
   "cell_type": "markdown",
   "metadata": {},
   "source": [
    "    - 해결책: nonlocal을 사용하여, 이는 function 내부에서 새로운 값이 assign될때도 해당 variable이 free variable이라는 flag를 해준다"
   ]
  },
  {
   "cell_type": "code",
   "execution_count": null,
   "metadata": {
    "collapsed": true
   },
   "outputs": [],
   "source": [
    "def make_averager():\n",
    "    cnt, total = 0, 0.0\n",
    "    def averager(new_value):\n",
    "        nonlocal cnt, total\n",
    "        cnt += 1\n",
    "        total += new_value\n",
    "        return total / cnt\n",
    "    return averager"
   ]
  },
  {
   "cell_type": "code",
   "execution_count": null,
   "metadata": {
    "collapsed": true
   },
   "outputs": [],
   "source": [
    "avg = make_averager()\n",
    "avg(10)"
   ]
  },
  {
   "cell_type": "markdown",
   "metadata": {},
   "source": [
    "## 7.1 Decorators 101"
   ]
  },
  {
   "cell_type": "markdown",
   "metadata": {
    "collapsed": true
   },
   "source": [
    "- Decorator: 다른 함수를 argument로 받는 callable (function)\n",
    "- Decorator는 decorated function과 함께 어떠한 processing을 수행하여 이를 return하거나, 혹은 다른 함수나 callable object로 대체"
   ]
  },
  {
   "cell_type": "code",
   "execution_count": null,
   "metadata": {
    "collapsed": true
   },
   "outputs": [],
   "source": [
    "def deco(func):\n",
    "    def inner():\n",
    "        print(\"running inner()\")\n",
    "    return inner # deco는 inner function object를 return함\n",
    "\n",
    "@deco\n",
    "def target(): # target은 deco에 의해 decorated됨\n",
    "    print(\"running target()\")\n",
    "    \n",
    "target() # decorated target()을 invoke하면\n",
    "target"
   ]
  },
  {
   "cell_type": "markdown",
   "metadata": {},
   "source": [
    "- decorator의 특징중 하나는, decorated function이 defined된 직후, 바로 실행된다는 것이다.\n",
    "- 만약 아래와 같은 코드를 registration.py라고 하고, 이를 다른 코드에서 import registration을 하면, decorator는 바로 실행된다!!!\n",
    "- 그러나, decorated function은 실제로 불러야 실행이 된다."
   ]
  },
  {
   "cell_type": "code",
   "execution_count": null,
   "metadata": {
    "collapsed": true
   },
   "outputs": [],
   "source": [
    "registry = []\n",
    "def register(f):\n",
    "    print('running register({})'.format(f))\n",
    "    registry.append(f)\n",
    "    return f\n",
    "\n",
    "@register\n",
    "def f1(): # 실제로 f1()과 f2()는 정의된 상태일 뿐, run되지 않았지만 decorator인 register의 print문을 실행함.\n",
    "    print('running f1()')\n",
    "\n",
    "@register\n",
    "def f2():\n",
    "    print('running f2()')\n",
    "    \n",
    "def f3():\n",
    "    print('running f3()')\n"
   ]
  },
  {
   "cell_type": "code",
   "execution_count": null,
   "metadata": {
    "collapsed": true
   },
   "outputs": [],
   "source": [
    "def main():\n",
    "    print('running main()')\n",
    "    print('registry -> {}'.format(registry))\n",
    "    f1()\n",
    "    f2()\n",
    "    f3()\n",
    "\n",
    "main()"
   ]
  },
  {
   "cell_type": "markdown",
   "metadata": {},
   "source": [
    "- <b>How decorators are commonly used in real code??</b>\n",
    "    - Decorator 함수는 decorated 함수와 같은 module안에 존재할 수 있다.\n",
    "    - 일반적으로, decorator와 decorated 함수는 별도의 module에 존재한다.\n",
    "    - 위의 예제에서, register decorator는 입력되는 함수와, return하는 함수가 동일하다. <b>그러나 일반적으로, decorator는 내부 함수를 정의하고 이를 return하는 형식으로 되어 있다.</b>"
   ]
  },
  {
   "cell_type": "markdown",
   "metadata": {},
   "source": [
    "## 7.2 Decorator-enhanced Strategy Pattern"
   ]
  },
  {
   "cell_type": "code",
   "execution_count": null,
   "metadata": {
    "collapsed": true
   },
   "outputs": [],
   "source": [
    "from collections import namedtuple\n",
    "class LineItem:\n",
    "    def __init__(self, product, quantity, price):\n",
    "        self.product = product\n",
    "        self.quantity = quantity\n",
    "        self.price = price\n",
    "    def total(self):\n",
    "        return self.quantity * self.price\n",
    "    \n",
    "class Order: # Context\n",
    "    def __init__(self, customer, cart, promotion=None):\n",
    "        self.customer = customer\n",
    "        self.cart = list(cart)\n",
    "        self.promotion = promotion\n",
    "    def total(self):\n",
    "        self.__total = sum(lineitem.total() for lineitem in self.cart)\n",
    "        return self.__total\n",
    "    def due(self):\n",
    "        if self.promotion is None:\n",
    "            disc = 0\n",
    "        else:\n",
    "            disc = self.promotion(self)\n",
    "        return self.total() - disc\n",
    "    def __repr__(self):\n",
    "        fmt = '<Order total: {:.2f} due: {:.2f}>'\n",
    "        return fmt.format(self.total(), self.due())"
   ]
  },
  {
   "cell_type": "code",
   "execution_count": null,
   "metadata": {
    "collapsed": true
   },
   "outputs": [],
   "source": [
    "promos = []\n",
    "def promotion(promo_func):\n",
    "    promos.append(promo_func)\n",
    "    return promo_func\n",
    "\n",
    "@promotion\n",
    "def fidelity(order):\n",
    "    \"\"\"5% disc for customers with fidelity point >= 1000 \"\"\"\n",
    "    return order.total()*0.05 if order.customer.fidelity >= 1000 else 0\n",
    "\n",
    "@promotion\n",
    "def bulk_item(order):\n",
    "    \"\"\"10% disc for each LineItem with 20 or more units\"\"\"\n",
    "    disc = 0\n",
    "    for item in order.cart:\n",
    "        if item.quantity >= 20:\n",
    "            disc += item.total() * 0.1\n",
    "    return disc\n",
    "\n",
    "@promotion\n",
    "def large_order(order):\n",
    "    \"\"\"7% disc for orders with distinct item >= 10\"\"\"\n",
    "    distinct_item = {item.product for item in order.cart}\n",
    "    if len(distinct_item) >= 10:\n",
    "        return order.total()*0.07\n",
    "    return 0\n",
    "\n",
    "def best_promo(order):\n",
    "    \"\"\"Select best disc available\"\"\"\n",
    "    return max(promo(order) for promo in promos)"
   ]
  },
  {
   "cell_type": "code",
   "execution_count": null,
   "metadata": {
    "collapsed": true
   },
   "outputs": [],
   "source": [
    "Customer = namedtuple('Customer', 'name fidelity')\n",
    "john = Customer('John Doe', 0)\n",
    "ann = Customer('Ann Smith', 1100)\n",
    "cart = [LineItem('apple', 5, 2.0), LineItem('berry', 30, 0.5), LineItem('Chocolate', 30, 0.2)]\n",
    "longcart = [LineItem(str(item_code), 1, 1.0) for item_code in range(20)]\n",
    "print(Order(ann, cart, best_promo))\n",
    "print(Order(john, cart, best_promo))\n",
    "print(Order(ann, longcart, best_promo))\n",
    "print(Order(john, longcart, best_promo))"
   ]
  },
  {
   "cell_type": "markdown",
   "metadata": {},
   "source": [
    "## 7.6 Implementing a simple decorator"
   ]
  },
  {
   "cell_type": "markdown",
   "metadata": {},
   "source": [
    "- <b>factorial(n)이 call될때마다, clocked(n)이 실행된다. 다음과 같은 순서로 실행이 된다.</b>\n",
    "    - (1) start에 time.perf_counter()를 records\n",
    "    - (2) factorial 함수를 call해서, save the result\n",
    "    - (3) elapsed를 계산\n",
    "    - (4) print format\n",
    "    - (5) returns the result saved in (2)\n",
    "- decorator는 decorated function을 same argument를 받는 새로운 function으로 대체함."
   ]
  },
  {
   "cell_type": "code",
   "execution_count": 9,
   "metadata": {
    "collapsed": true
   },
   "outputs": [],
   "source": [
    "import time\n",
    "\n",
    "def clock(func):\n",
    "    \"\"\"Measure the time elapsed\"\"\"\n",
    "    def clocked(*args):\n",
    "        start = time.perf_counter() # 1\n",
    "        result = func(*args) # 2\n",
    "        elapsed = time.perf_counter() - start # 3\n",
    "        name = func.__name__\n",
    "        arg_str = ', '.join(repr(arg) for arg in args)\n",
    "        print(\"[{:.5f}s] {}({}) -> {}\".format(elapsed, name, arg_str, result)) # 4\n",
    "        return result # 5\n",
    "    return clocked"
   ]
  },
  {
   "cell_type": "code",
   "execution_count": 10,
   "metadata": {},
   "outputs": [
    {
     "name": "stdout",
     "output_type": "stream",
     "text": [
      "******************** Calling_snooze(0.5)\n",
      "[0.50056s] snooze(0.5) -> None\n",
      "******************** factorial(15)\n",
      "[0.00000s] factorial(1) -> 1\n",
      "[0.00023s] factorial(2) -> 2\n",
      "[0.00043s] factorial(3) -> 6\n",
      "[0.00054s] factorial(4) -> 24\n",
      "[0.00066s] factorial(5) -> 120\n",
      "[0.00077s] factorial(6) -> 720\n",
      "[0.00097s] factorial(7) -> 5040\n",
      "[0.00107s] factorial(8) -> 40320\n",
      "[0.00124s] factorial(9) -> 362880\n",
      "[0.00137s] factorial(10) -> 3628800\n",
      "[0.00148s] factorial(11) -> 39916800\n",
      "[0.00165s] factorial(12) -> 479001600\n",
      "[0.00176s] factorial(13) -> 6227020800\n",
      "[0.00187s] factorial(14) -> 87178291200\n",
      "[0.00198s] factorial(15) -> 1307674368000\n",
      "****************************************\n",
      "clocked\n"
     ]
    }
   ],
   "source": [
    "@clock\n",
    "def snooze(seconds):\n",
    "    time.sleep(seconds)\n",
    "\n",
    "@clock\n",
    "def factorial(n):\n",
    "    return 1 if n<2 else n*factorial(n-1)\n",
    "\n",
    "print('*' * 20, 'Calling_snooze(0.5)')\n",
    "snooze(.5)\n",
    "print('*' * 20, 'factorial(15)')\n",
    "factorial(15)\n",
    "print('*' * 40)\n",
    "print(factorial.__name__) # factorial 함수는 clocked function의 reference를 실제로 hold함"
   ]
  },
  {
   "cell_type": "markdown",
   "metadata": {},
   "source": [
    "- 위와 같은 clock decorator는 다음과 같은 한계가 존재\n",
    "    - Keyword argument를 제공하지 않음\n",
    "    - decorator function의 __name__, __doc__를 보여주지 않음"
   ]
  },
  {
   "cell_type": "code",
   "execution_count": 15,
   "metadata": {
    "collapsed": true
   },
   "outputs": [],
   "source": [
    "import time, functools\n",
    "def clock2(func):\n",
    "    @functools.wraps(func)\n",
    "    def clocked(*args, **kwargs):\n",
    "        start = time.time()\n",
    "        result = func(*args, **kwargs)\n",
    "        elapsed = time.time() - start\n",
    "        name = func.__name__\n",
    "        arg_list = []\n",
    "        if args:\n",
    "            arg_list.append(', '.join(repr(arg) for arg in args))\n",
    "        if kwargs:\n",
    "            pairs = ['{} = {}'.format(k, w) for k, w in sorted(kwargs.items())]\n",
    "            arg_list.append(', '.join(pairs))\n",
    "        arg_str = ', '.join(arg_list)\n",
    "        print('[{:.6f}s] {}({}) -> {}'.format(elapsed, name, arg_str, result))\n",
    "        return result\n",
    "    return clocked"
   ]
  },
  {
   "cell_type": "code",
   "execution_count": 16,
   "metadata": {},
   "outputs": [
    {
     "name": "stdout",
     "output_type": "stream",
     "text": [
      "******************** Calling_snooze(0.5)\n",
      "[0.500563s] snooze(0.5) -> None\n",
      "******************** factorial(15)\n",
      "[0.000001s] factorial(1) -> 1\n",
      "[0.000183s] factorial(2) -> 2\n",
      "[0.000335s] factorial(3) -> 6\n",
      "[0.000521s] factorial(4) -> 24\n",
      "[0.000660s] factorial(5) -> 120\n",
      "[0.000839s] factorial(6) -> 720\n",
      "[0.000976s] factorial(7) -> 5040\n",
      "[0.001111s] factorial(8) -> 40320\n",
      "[0.001245s] factorial(9) -> 362880\n",
      "[0.001379s] factorial(10) -> 3628800\n",
      "[0.001514s] factorial(11) -> 39916800\n",
      "[0.001647s] factorial(12) -> 479001600\n",
      "[0.001780s] factorial(13) -> 6227020800\n",
      "[0.001914s] factorial(14) -> 87178291200\n",
      "[0.002102s] factorial(15) -> 1307674368000\n",
      "****************************************\n",
      "factorial\n"
     ]
    }
   ],
   "source": [
    "@clock2\n",
    "def snooze(seconds):\n",
    "    time.sleep(seconds)\n",
    "\n",
    "@clock2\n",
    "def factorial(n):\n",
    "    return 1 if n<2 else n*factorial(n-1)\n",
    "\n",
    "print('*' * 20, 'Calling_snooze(0.5)')\n",
    "snooze(.5)\n",
    "print('*' * 20, 'factorial(15)')\n",
    "factorial(15)\n",
    "print('*' * 40)\n",
    "print(factorial.__name__) # factorial 함수는 clocked function의 reference를 실제로 hold함"
   ]
  },
  {
   "cell_type": "markdown",
   "metadata": {
    "collapsed": true
   },
   "source": [
    "## 7.7 Decorators in the standard library"
   ]
  },
  {
   "cell_type": "markdown",
   "metadata": {},
   "source": [
    "### 7.7.1 Memoization with functools.lru_cache\n",
    "\n",
    "- lru_cache\n",
    "    - 이전 단계에서 계산한 결과를 저장하여 해당 함수의 반복호출 시, computation time의 증가를 막아준다."
   ]
  },
  {
   "cell_type": "code",
   "execution_count": 25,
   "metadata": {},
   "outputs": [],
   "source": [
    "@clock2\n",
    "def fibo1(n):\n",
    "    if n<2:\n",
    "        return n\n",
    "    return fibo1(n-2) + fibo1(n-1)\n",
    "\n",
    "@functools.lru_cache(maxsize=128, typed=False)\n",
    "@clock2\n",
    "def fibo2(n):\n",
    "    if n<2:\n",
    "        return n\n",
    "    return fibo2(n-2) + fibo2(n-1)"
   ]
  },
  {
   "cell_type": "code",
   "execution_count": 26,
   "metadata": {},
   "outputs": [
    {
     "name": "stdout",
     "output_type": "stream",
     "text": [
      "[0.000001s] fibo1(0) -> 0\n",
      "[0.000001s] fibo1(1) -> 1\n",
      "[0.000468s] fibo1(2) -> 1\n",
      "[0.000001s] fibo1(1) -> 1\n",
      "[0.000001s] fibo1(0) -> 0\n",
      "[0.000001s] fibo1(1) -> 1\n",
      "[0.000294s] fibo1(2) -> 1\n",
      "[0.000565s] fibo1(3) -> 2\n",
      "[0.001143s] fibo1(4) -> 3\n",
      "[0.000000s] fibo1(1) -> 1\n",
      "[0.000000s] fibo1(0) -> 0\n",
      "[0.000000s] fibo1(1) -> 1\n",
      "[0.000074s] fibo1(2) -> 1\n",
      "[0.000225s] fibo1(3) -> 2\n",
      "[0.000000s] fibo1(0) -> 0\n",
      "[0.000000s] fibo1(1) -> 1\n",
      "[0.000218s] fibo1(2) -> 1\n",
      "[0.000001s] fibo1(1) -> 1\n",
      "[0.000000s] fibo1(0) -> 0\n",
      "[0.000000s] fibo1(1) -> 1\n",
      "[0.000215s] fibo1(2) -> 1\n",
      "[0.000476s] fibo1(3) -> 2\n",
      "[0.000987s] fibo1(4) -> 3\n",
      "[0.001352s] fibo1(5) -> 5\n",
      "[0.003026s] fibo1(6) -> 8\n",
      "8\n",
      "[0.000000s] fibo2(0) -> 0\n",
      "[0.000001s] fibo2(1) -> 1\n",
      "[0.000353s] fibo2(2) -> 1\n",
      "[0.000001s] fibo2(3) -> 2\n",
      "[0.000566s] fibo2(4) -> 3\n",
      "[0.000001s] fibo2(5) -> 5\n",
      "[0.000857s] fibo2(6) -> 8\n",
      "8\n"
     ]
    }
   ],
   "source": [
    "print(fibo1(6))\n",
    "print(fibo2(6))"
   ]
  },
  {
   "cell_type": "markdown",
   "metadata": {},
   "source": [
    "### 7.7.2 Generic functions with single dispatch\n",
    "\n",
    "- functools.singledispatch\n",
    "    - From python 3.4\n",
    "    - Allows each module to contribute to the overall solution\n",
    "    - Easily provide a specialized function even for classes the you can't eidt\n",
    "    - 일반 function에 이러한 @functools.singleddispatch를 하면, 첫번째 argument에 따라 같은 operation을 다른 방식으로 perform하게 할 수 있는 generic functin이 된다."
   ]
  },
  {
   "cell_type": "code",
   "execution_count": 29,
   "metadata": {
    "collapsed": true
   },
   "outputs": [],
   "source": [
    "from functools import singledispatch\n",
    "from collections import abc\n",
    "import numbers\n",
    "import html\n",
    "\n",
    "@singledispatch\n",
    "def htmlize(obj):\n",
    "    content = html.escape(repr(obj))\n",
    "    return '<pre>{}</pre>'.format(content)\n",
    "\n",
    "@htmlize.register(str)\n",
    "def _(text):\n",
    "    content = html.escape(text).replace('\\n', '<br>\\n')\n",
    "    return '<p>{}</p>'.format(content)\n",
    "\n",
    "@htmlize.register(numbers.Integral)\n",
    "def _(num):\n",
    "    return '<pre> {0}(0x{0:x})</pre>'.format(num)\n",
    "\n",
    "@htmlize.register(tuple)\n",
    "@htmlize.register(abc.MutableSequence)\n",
    "def _(seq):\n",
    "    content = '</li>\\n<li>'.join(htmlize(item) for item in seq)\n",
    "    return '<ul>\\n<li>{}</li>\\n</ul>'.format(content)"
   ]
  },
  {
   "cell_type": "code",
   "execution_count": 34,
   "metadata": {},
   "outputs": [
    {
     "name": "stdout",
     "output_type": "stream",
     "text": [
      "<pre>{1, 2, 3}</pre>\n",
      "<pre>&lt;built-in function abs&gt;</pre>\n",
      "<p>aaaaabbb</p>\n",
      "<pre> 16(0x10)</pre>\n",
      "<ul>\n",
      "<li><p>alpha, 66, {3,2,1}</p></li>\n",
      "</ul>\n"
     ]
    }
   ],
   "source": [
    "print(htmlize({1,2,3}))\n",
    "print(htmlize(abs))\n",
    "print(htmlize('aaaaabbb'))\n",
    "print(htmlize(16))\n",
    "print(htmlize(['alpha, 66, {3,2,1}']))"
   ]
  },
  {
   "cell_type": "markdown",
   "metadata": {},
   "source": [
    "## 7.8 Stacked decorator\n",
    "\n",
    "@d1\n",
    "@d2\n",
    "\n",
    "def f():\n",
    "    print('f')\n",
    "    \n",
    "same as d1(d2(f))"
   ]
  },
  {
   "cell_type": "markdown",
   "metadata": {},
   "source": [
    "## 7.9 Parametrized Decorators\n",
    "### 7.9.1 A parametrized registration decorator\n",
    "\n",
    "- Decorator는 1번째 argument로 decorated function을 받는다. 이 때, 다른 argument도 parameter로 받는 decorator는 어떻게 만드나?\n",
    "    - 여러 개의 argument들을 다 받는 decorator factory를 만들어서, 이를 통해 decorator를 만든다"
   ]
  },
  {
   "cell_type": "code",
   "execution_count": 51,
   "metadata": {
    "collapsed": true
   },
   "outputs": [],
   "source": [
    "registry = set()\n",
    "def register(active): # optional keyword argument를 받는다.\n",
    "    def decorate(func): #실제 decorator의 역할. 자세히 보면, 실제 decorator처럼 func을 argument로 받는다.\n",
    "        print(\"running register(active={}) -> decorate({})\".format(active, func))\n",
    "        if active:\n",
    "            registry.add(func)\n",
    "        else:\n",
    "            registry.discard(func)\n",
    "        return func # decorate가 실제 decorator의 역할을 하기 때문에, func을 return해준다.\n",
    "    return decorate # register는 decorator factory로, decorate를 return해준다."
   ]
  },
  {
   "cell_type": "code",
   "execution_count": 52,
   "metadata": {},
   "outputs": [
    {
     "name": "stdout",
     "output_type": "stream",
     "text": [
      "running register(active=False) -> decorate(<function f1 at 0x7f08703d6e18>)\n",
      "running register(active=True) -> decorate(<function f2 at 0x7f08703dbd90>)\n"
     ]
    }
   ],
   "source": [
    "@register(active=False)\n",
    "def f1():\n",
    "    print('running f1()')\n",
    "\n",
    "@register(active=True)\n",
    "def f2():\n",
    "    print('running f2()')\n",
    "\n",
    "def f3():\n",
    "    print('running f3()')"
   ]
  },
  {
   "cell_type": "code",
   "execution_count": 53,
   "metadata": {},
   "outputs": [
    {
     "data": {
      "text/plain": [
       "{<function __main__.f2>}"
      ]
     },
     "execution_count": 53,
     "metadata": {},
     "output_type": "execute_result"
    }
   ],
   "source": [
    "registry"
   ]
  },
  {
   "cell_type": "code",
   "execution_count": 54,
   "metadata": {},
   "outputs": [
    {
     "name": "stdout",
     "output_type": "stream",
     "text": [
      "running register(active=True) -> decorate(<function f3 at 0x7f08703d6c80>)\n"
     ]
    },
    {
     "data": {
      "text/plain": [
       "<function __main__.f3>"
      ]
     },
     "execution_count": 54,
     "metadata": {},
     "output_type": "execute_result"
    }
   ],
   "source": [
    "register(active=True)(f3)"
   ]
  },
  {
   "cell_type": "code",
   "execution_count": 55,
   "metadata": {},
   "outputs": [
    {
     "data": {
      "text/plain": [
       "{<function __main__.f3>, <function __main__.f2>}"
      ]
     },
     "execution_count": 55,
     "metadata": {},
     "output_type": "execute_result"
    }
   ],
   "source": [
    "registry"
   ]
  },
  {
   "cell_type": "code",
   "execution_count": 56,
   "metadata": {},
   "outputs": [
    {
     "name": "stdout",
     "output_type": "stream",
     "text": [
      "running register(active=False) -> decorate(<function f2 at 0x7f08703dbd90>)\n"
     ]
    },
    {
     "data": {
      "text/plain": [
       "<function __main__.f2>"
      ]
     },
     "execution_count": 56,
     "metadata": {},
     "output_type": "execute_result"
    }
   ],
   "source": [
    "register(active=False)(f2)"
   ]
  },
  {
   "cell_type": "code",
   "execution_count": 57,
   "metadata": {},
   "outputs": [
    {
     "data": {
      "text/plain": [
       "{<function __main__.f3>}"
      ]
     },
     "execution_count": 57,
     "metadata": {},
     "output_type": "execute_result"
    }
   ],
   "source": [
    "registry"
   ]
  },
  {
   "cell_type": "markdown",
   "metadata": {},
   "source": [
    "### 7.9.2 The parametrized clock decorator"
   ]
  },
  {
   "cell_type": "code",
   "execution_count": 85,
   "metadata": {
    "collapsed": true
   },
   "outputs": [],
   "source": [
    "import time\n",
    "FMT1 = '[{elapsed: .4f}s] {name}({args}) -> {result}'\n",
    "FMT2 = '{name}: {elapsed: .4f}s'\n",
    "FMT3 = '{name}({args}) dt = {elapsed: .3f}s'"
   ]
  },
  {
   "cell_type": "markdown",
   "metadata": {},
   "source": [
    "- 위의 예제에서 FMT안에는 4개의 {}가 있다.: {elapsed: .4f}, {name}, {args}, {result}\n",
    "- fmt.format(**locals())는 fmt(=FMT)에서 {}에 해당하는 elapsed, name, args, result에 clocked의 local변수들을 각각 할당할 수 있도록 한다. "
   ]
  },
  {
   "cell_type": "code",
   "execution_count": 86,
   "metadata": {
    "collapsed": true
   },
   "outputs": [],
   "source": [
    "def clock_param(fmt=FMT1): # clock_param: decorator factory\n",
    "    def decorate(func): # 실제 decorator 역할\n",
    "        def clocked(*_args): # Wrap decorated function\n",
    "            start = time.time()\n",
    "            _result = func(*_args) # decorated function의 결과\n",
    "            elapsed = time.time() - start\n",
    "            name = func.__name__\n",
    "            args = ', '.join(repr(arg) for arg in _args) # _args는 clocked의 실제 argument. args는 display를 위한 str\n",
    "            result = repr(_result) # display를 위한 _result의 string representation\n",
    "            print(fmt.format(**locals())) # **locals()를 사용하여 fmt이 clocked의 모든 local variable을 참조할 수 있도록 함\n",
    "            return result # clocked는 decorated func을 대체. --> return result를 함\n",
    "        return clocked #clocked를 return\n",
    "    return decorate"
   ]
  },
  {
   "cell_type": "code",
   "execution_count": 87,
   "metadata": {},
   "outputs": [
    {
     "name": "stdout",
     "output_type": "stream",
     "text": [
      "[ 0.1002s] snooze1(0.1) -> None\n",
      "[ 0.1001s] snooze1(0.1) -> None\n",
      "[ 0.1005s] snooze1(0.1) -> None\n",
      "snooze2:  0.1001s\n",
      "snooze2:  0.1002s\n",
      "snooze2:  0.1001s\n",
      "snooze3(0.1) dt =  0.100s\n",
      "snooze3(0.1) dt =  0.100s\n",
      "snooze3(0.1) dt =  0.100s\n"
     ]
    }
   ],
   "source": [
    "@clock_param(fmt=FMT1)\n",
    "def snooze1(seconds):\n",
    "    time.sleep(seconds)\n",
    "\n",
    "@clock_param(fmt=FMT2)\n",
    "def snooze2(seconds):\n",
    "    time.sleep(seconds)\n",
    "\n",
    "@clock_param(fmt=FMT3)\n",
    "def snooze3(seconds):\n",
    "    time.sleep(seconds)\n",
    "\n",
    "for i in range(3):\n",
    "    snooze1(0.1)\n",
    "for i in range(3):\n",
    "    snooze2(0.1)\n",
    "for i in range(3):\n",
    "    snooze3(0.1)"
   ]
  },
  {
   "cell_type": "code",
   "execution_count": null,
   "metadata": {
    "collapsed": true
   },
   "outputs": [],
   "source": []
  }
 ],
 "metadata": {
  "kernelspec": {
   "display_name": "Python 3",
   "language": "python",
   "name": "python3"
  },
  "language_info": {
   "codemirror_mode": {
    "name": "ipython",
    "version": 3
   },
   "file_extension": ".py",
   "mimetype": "text/x-python",
   "name": "python",
   "nbconvert_exporter": "python",
   "pygments_lexer": "ipython3",
   "version": "3.6.3"
  }
 },
 "nbformat": 4,
 "nbformat_minor": 2
}
