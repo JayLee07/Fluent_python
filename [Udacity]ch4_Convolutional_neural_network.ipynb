{
  "nbformat": 4,
  "nbformat_minor": 0,
  "metadata": {
    "colab": {
      "name": "[Udacity]ch4.Convolutional_neural_network.ipynb",
      "version": "0.3.2",
      "provenance": [],
      "collapsed_sections": [],
      "toc_visible": true,
      "include_colab_link": true
    },
    "kernelspec": {
      "name": "python3",
      "display_name": "Python 3"
    },
    "accelerator": "GPU"
  },
  "cells": [
    {
      "cell_type": "markdown",
      "metadata": {
        "id": "view-in-github",
        "colab_type": "text"
      },
      "source": [
        "<a href=\"https://colab.research.google.com/github/jaylee07/Fluent_python/blob/master/%5BUdacity%5Dch4_Convolutional_neural_network.ipynb\" target=\"_parent\"><img src=\"https://colab.research.google.com/assets/colab-badge.svg\" alt=\"Open In Colab\"/></a>"
      ]
    },
    {
      "metadata": {
        "id": "LuGDTAjBEens",
        "colab_type": "code",
        "colab": {
          "base_uri": "https://localhost:8080/",
          "height": 140
        },
        "outputId": "daf9aed7-3e61-4e76-e434-573c361dbb75"
      },
      "cell_type": "code",
      "source": [
        "import math\n",
        "import matplotlib.pyplot as plt\n",
        "%matplotlib inline\n",
        "import tqdm\n",
        "\n",
        "import numpy as np\n",
        "import tensorflow as tf\n",
        "import tensorflow_datasets as tfds\n"
      ],
      "execution_count": 1,
      "outputs": [
        {
          "output_type": "stream",
          "text": [
            "\n",
            "WARNING: The TensorFlow contrib module will not be included in TensorFlow 2.0.\n",
            "For more information, please see:\n",
            "  * https://github.com/tensorflow/community/blob/master/rfcs/20180907-contrib-sunset.md\n",
            "  * https://github.com/tensorflow/addons\n",
            "If you depend on functionality not listed there, please file an issue.\n",
            "\n"
          ],
          "name": "stdout"
        }
      ]
    },
    {
      "metadata": {
        "id": "jQuJB_5MMPXt",
        "colab_type": "code",
        "colab": {}
      },
      "cell_type": "code",
      "source": [
        "tf.logging.set_verbosity(tf.logging.ERROR)\n",
        "tf.enable_eager_execution()"
      ],
      "execution_count": 0,
      "outputs": []
    },
    {
      "metadata": {
        "id": "diTQ00DVMX6g",
        "colab_type": "code",
        "colab": {}
      },
      "cell_type": "code",
      "source": [
        "dset, metadata = tfds.load(name='fashion_mnist', as_supervised=True, with_info=True)"
      ],
      "execution_count": 0,
      "outputs": []
    },
    {
      "metadata": {
        "id": "GwbuZ3wKM3De",
        "colab_type": "code",
        "colab": {
          "base_uri": "https://localhost:8080/",
          "height": 34
        },
        "outputId": "ab1b9077-93bb-44e6-c89a-1d9955f2b57b"
      },
      "cell_type": "code",
      "source": [
        "dset.keys()"
      ],
      "execution_count": 4,
      "outputs": [
        {
          "output_type": "execute_result",
          "data": {
            "text/plain": [
              "dict_keys(['test', 'train'])"
            ]
          },
          "metadata": {
            "tags": []
          },
          "execution_count": 4
        }
      ]
    },
    {
      "metadata": {
        "id": "xhVzovKANac0",
        "colab_type": "code",
        "colab": {}
      },
      "cell_type": "code",
      "source": [
        "trn_dset, tst_dset = dset['train'], dset['test']"
      ],
      "execution_count": 0,
      "outputs": []
    },
    {
      "metadata": {
        "id": "DOYVbYmrNePG",
        "colab_type": "code",
        "colab": {}
      },
      "cell_type": "code",
      "source": [
        "class_names = ['T-shirt/top', 'Trouser', 'Pullover', 'Dress', 'Coat', \n",
        "               'Sandal',      'Shirt',   'Sneaker',  'Bag',   'Ankle boot']"
      ],
      "execution_count": 0,
      "outputs": []
    },
    {
      "metadata": {
        "id": "tqzN03u_NiBt",
        "colab_type": "code",
        "colab": {
          "base_uri": "https://localhost:8080/",
          "height": 52
        },
        "outputId": "d40fd987-ba50-41e2-90e1-785107f70807"
      },
      "cell_type": "code",
      "source": [
        "n_trn_dset = metadata.splits['train'].num_examples\n",
        "n_tst_dset = metadata.splits['test'].num_examples\n",
        "print('n_trn_examples: {}'.format(n_trn_dset))\n",
        "print('n_tst_examples: {}'.format(n_tst_dset))"
      ],
      "execution_count": 7,
      "outputs": [
        {
          "output_type": "stream",
          "text": [
            "n_trn_examples: 60000\n",
            "n_tst_examples: 10000\n"
          ],
          "name": "stdout"
        }
      ]
    },
    {
      "metadata": {
        "id": "ZRUJPQvOOdYP",
        "colab_type": "text"
      },
      "cell_type": "markdown",
      "source": [
        "## Image Preprocessing"
      ]
    },
    {
      "metadata": {
        "id": "YskMxa9qOm5Z",
        "colab_type": "code",
        "colab": {}
      },
      "cell_type": "code",
      "source": [
        "def normalize(images, labels):\n",
        "  images = tf.cast(images, tf.float32)\n",
        "  images /= 255\n",
        "  return images, labels\n",
        "\n",
        "trn_dset = trn_dset.map(normalize)\n",
        "tst_dset = tst_dset.map(normalize)"
      ],
      "execution_count": 0,
      "outputs": []
    },
    {
      "metadata": {
        "id": "Arcs15JTO-Go",
        "colab_type": "text"
      },
      "cell_type": "markdown",
      "source": [
        "### Explore the preprocessed images"
      ]
    },
    {
      "metadata": {
        "id": "ATPxY7zNO1DA",
        "colab_type": "code",
        "colab": {
          "base_uri": "https://localhost:8080/",
          "height": 269
        },
        "outputId": "61c73d96-913c-4e0a-c862-ae1a46c1dc10"
      },
      "cell_type": "code",
      "source": [
        "for image, label in trn_dset.take(1):\n",
        "  break\n",
        "image = image.numpy().reshape(28,28)\n",
        "\n",
        "plt.figure()\n",
        "plt.imshow(image, cmap=plt.cm.binary)\n",
        "plt.colorbar()\n",
        "plt.grid(False)\n",
        "plt.show()"
      ],
      "execution_count": 9,
      "outputs": [
        {
          "output_type": "display_data",
          "data": {
            "image/png": "[encoded data removed]",
            "text/plain": [
              "<Figure size 432x288 with 2 Axes>"
            ]
          },
          "metadata": {
            "tags": []
          }
        }
      ]
    },
    {
      "metadata": {
        "id": "SpDPAoK0PXjA",
        "colab_type": "code",
        "colab": {
          "base_uri": "https://localhost:8080/",
          "height": 729
        },
        "outputId": "7fb43e1d-8e04-48f2-b5f9-998b38374775"
      },
      "cell_type": "code",
      "source": [
        "fig, axes = plt.subplots(5, 5, figsize=(10,10))\n",
        "plt.tight_layout()\n",
        "for i, (image, label) in enumerate(tst_dset.take(25)):\n",
        "  row, col = int(i/5), i%5\n",
        "  image = image.numpy().reshape((28,28))\n",
        "  axes[row, col].imshow(image, cmap = plt.cm.binary)\n",
        "  axes[row, col].grid(False)\n",
        "  axes[row, col].set_xlabel(class_names[label])  "
      ],
      "execution_count": 10,
      "outputs": [
        {
          "output_type": "display_data",
          "data": {
            "image/png": "[encoded data removed]",
            "text/plain": [
              "<Figure size 720x720 with 25 Axes>"
            ]
          },
          "metadata": {
            "tags": []
          }
        }
      ]
    },
    {
      "metadata": {
        "id": "I-9jT-V2QajV",
        "colab_type": "text"
      },
      "cell_type": "markdown",
      "source": [
        "## Model construction"
      ]
    },
    {
      "metadata": {
        "id": "Mion7MtnQF3w",
        "colab_type": "text"
      },
      "cell_type": "markdown",
      "source": [
        "### Setup the layers"
      ]
    },
    {
      "metadata": {
        "id": "ICbmaljbSwop",
        "colab_type": "code",
        "colab": {}
      },
      "cell_type": "code",
      "source": [
        "conv0 = tf.keras.layers.Conv2D(filters=32, kernel_size=(3,3), padding='same', \n",
        "                                activation=tf.nn.relu, input_shape=(28,28,1))\n",
        "pool0 = tf.keras.layers.MaxPooling2D(pool_size=(2,2), strides=2)\n",
        "conv1 = tf.keras.layers.Conv2D(filters=64, kernel_size=(3,3), padding='same', activation=tf.nn.relu)\n",
        "pool1 = tf.keras.layers.MaxPooling2D(pool_size=(2,2), strides=2)\n",
        "flat  = tf.keras.layers.Flatten()\n",
        "dense0 = tf.keras.layers.Dense(128, activation=tf.nn.relu)\n",
        "dense1 = tf.keras.layers.Dense(10, activation=tf.nn.softmax)\n",
        "\n",
        "model = tf.keras.Sequential([conv0, pool0, conv1, pool1, flat, dense0, dense1])"
      ],
      "execution_count": 0,
      "outputs": []
    },
    {
      "metadata": {
        "id": "VYI-YlclU6ZT",
        "colab_type": "text"
      },
      "cell_type": "markdown",
      "source": [
        "### Compile the model"
      ]
    },
    {
      "metadata": {
        "id": "A1WR4s8QTUuJ",
        "colab_type": "code",
        "colab": {}
      },
      "cell_type": "code",
      "source": [
        "model.compile(optimizer='adam', \n",
        "              loss='sparse_categorical_crossentropy',\n",
        "              metrics=['accuracy'])"
      ],
      "execution_count": 0,
      "outputs": []
    },
    {
      "metadata": {
        "id": "LQB7aALdUzQQ",
        "colab_type": "text"
      },
      "cell_type": "markdown",
      "source": [
        "## Train the model"
      ]
    },
    {
      "metadata": {
        "id": "XRw18DOQVRdE",
        "colab_type": "code",
        "colab": {}
      },
      "cell_type": "code",
      "source": [
        "batch_size = 32\n",
        "trn_dset = trn_dset.repeat().shuffle(n_trn_dset).batch(batch_size)\n",
        "tst_dset = tst_dset.batch(batch_size)"
      ],
      "execution_count": 0,
      "outputs": []
    },
    {
      "metadata": {
        "id": "czsy0_vCVecj",
        "colab_type": "code",
        "colab": {
          "base_uri": "https://localhost:8080/",
          "height": 386
        },
        "outputId": "14403e9d-ff26-42d6-a1f6-6b6eea7766ee"
      },
      "cell_type": "code",
      "source": [
        "model.fit(trn_dset, epochs=10, steps_per_epoch = math.ceil(n_trn_dset/batch_size))"
      ],
      "execution_count": 14,
      "outputs": [
        {
          "output_type": "stream",
          "text": [
            "Epoch 1/10\n",
            "1875/1875 [==============================] - 44s 24ms/step - loss: 0.3897 - acc: 0.8581\n",
            "Epoch 2/10\n",
            "1875/1875 [==============================] - 29s 16ms/step - loss: 0.2576 - acc: 0.9070\n",
            "Epoch 3/10\n",
            "1875/1875 [==============================] - 29s 15ms/step - loss: 0.2155 - acc: 0.9210\n",
            "Epoch 4/10\n",
            "1875/1875 [==============================] - 30s 16ms/step - loss: 0.1789 - acc: 0.9336\n",
            "Epoch 5/10\n",
            "1875/1875 [==============================] - 29s 16ms/step - loss: 0.1553 - acc: 0.9427\n",
            "Epoch 6/10\n",
            "1875/1875 [==============================] - 29s 15ms/step - loss: 0.1316 - acc: 0.9523\n",
            "Epoch 7/10\n",
            "1875/1875 [==============================] - 29s 16ms/step - loss: 0.1124 - acc: 0.9583\n",
            "Epoch 8/10\n",
            "1875/1875 [==============================] - 29s 16ms/step - loss: 0.0914 - acc: 0.9658\n",
            "Epoch 9/10\n",
            "1875/1875 [==============================] - 29s 16ms/step - loss: 0.0775 - acc: 0.9721\n",
            "Epoch 10/10\n",
            "1875/1875 [==============================] - 29s 16ms/step - loss: 0.0699 - acc: 0.9742\n"
          ],
          "name": "stdout"
        },
        {
          "output_type": "execute_result",
          "data": {
            "text/plain": [
              "<tensorflow.python.keras.callbacks.History at 0x7fdc0e5f37f0>"
            ]
          },
          "metadata": {
            "tags": []
          },
          "execution_count": 14
        }
      ]
    },
    {
      "metadata": {
        "id": "X8p8eOPmVlgG",
        "colab_type": "text"
      },
      "cell_type": "markdown",
      "source": [
        "## Evaluate the accuracy"
      ]
    },
    {
      "metadata": {
        "id": "Y5WWI58hVsim",
        "colab_type": "code",
        "colab": {
          "base_uri": "https://localhost:8080/",
          "height": 52
        },
        "outputId": "e75de45a-517e-46ee-a04e-341fd00a7a69"
      },
      "cell_type": "code",
      "source": [
        "tst_loss, tst_acc = model.evaluate(tst_dset, steps = math.ceil(n_tst_dset/batch_size))\n",
        "print('tst_acc: {}'.format(tst_acc))"
      ],
      "execution_count": 15,
      "outputs": [
        {
          "output_type": "stream",
          "text": [
            "313/313 [==============================] - 3s 11ms/step - loss: 0.3254 - acc: 0.9205\n",
            "tst_acc: 0.9204999804496765\n"
          ],
          "name": "stdout"
        }
      ]
    },
    {
      "metadata": {
        "id": "IBqNF27wWEXq",
        "colab_type": "text"
      },
      "cell_type": "markdown",
      "source": [
        "## Make pred and explore"
      ]
    },
    {
      "metadata": {
        "id": "cTWTEplbWfqa",
        "colab_type": "code",
        "colab": {}
      },
      "cell_type": "code",
      "source": [
        "for tst_image, tst_label in tst_dset.take(1):\n",
        "  tst_image = tst_image.numpy()\n",
        "  tst_label = tst_label.numpy()\n",
        "  pred = model.predict(tst_image)"
      ],
      "execution_count": 0,
      "outputs": []
    },
    {
      "metadata": {
        "id": "KT9cIMC0Wutc",
        "colab_type": "code",
        "colab": {
          "base_uri": "https://localhost:8080/",
          "height": 34
        },
        "outputId": "91615b46-e7cc-414d-d4fe-6567390a9b45"
      },
      "cell_type": "code",
      "source": [
        "print(pred.shape)\n",
        "print(pred[0])\n",
        "print(tst_label[0])"
      ],
      "execution_count": 17,
      "outputs": [
        {
          "output_type": "stream",
          "text": [
            "(32, 10)\n"
          ],
          "name": "stdout"
        }
      ]
    },
    {
      "metadata": {
        "id": "MJz2KRlMWwJ6",
        "colab_type": "code",
        "colab": {}
      },
      "cell_type": "code",
      "source": [
        "def plot_images(idx, pred_arrays, real_labels, images):\n",
        "  pred_array, real_label, image = pred_arrays[idx], real_labels[idx], images[idx]\n",
        "  plt.grid(False)\n",
        "  plt.xticks([])\n",
        "  plt.yticks([])\n",
        "  image = image.reshape((28,28))\n",
        "  plt.imshow(image, cmap = plt.cm.binary)\n",
        "  pred_label = np.argmax(pred_array)\n",
        "  if pred_label == real_label:\n",
        "    color = 'blue'\n",
        "  else:\n",
        "    color = 'red'\n",
        "  plt.xlabel(\"{} {:2.0f}% ({})\".format(class_names[pred_label], \n",
        "                                       100 * np.max(pred_array), \n",
        "                                       class_names[real_label]), color=color)\n",
        "  \n",
        "def plot_value_array(idx, pred_arrays, real_labels):\n",
        "  pred_array, real_label = pred_arrays[idx], real_labels[idx]\n",
        "  plt.grid(False)\n",
        "  plt.xticks([])\n",
        "  plt.yticks([])\n",
        "  value_plot = plt.bar(range(10), pred_array, color = '#777777')\n",
        "  plt.ylim([0,1])\n",
        "  pred_label = np.argmax(pred_array)\n",
        "  value_plot[pred_label].set_color('red')\n",
        "  value_plot[real_label].set_color('blue')"
      ],
      "execution_count": 0,
      "outputs": []
    },
    {
      "metadata": {
        "id": "HiZw-FxEbCXt",
        "colab_type": "code",
        "colab": {}
      },
      "cell_type": "code",
      "source": [
        "idx = 12\n",
        "plt.figure(figsize=(6,3))\n",
        "plt.subplot(1,2,1)\n",
        "plot_images(idx, pred, tst_label, tst_image)\n",
        "plt.subplot(1,2,2)\n",
        "plot_value_array(idx, pred, tst_label)"
      ],
      "execution_count": 0,
      "outputs": []
    },
    {
      "metadata": {
        "id": "HS4VNyzAbToT",
        "colab_type": "code",
        "colab": {
          "base_uri": "https://localhost:8080/",
          "height": 589
        },
        "outputId": "ea1532fc-67f1-4bee-de96-5d79ca382848"
      },
      "cell_type": "code",
      "source": [
        "n_rows, n_cols = 5, 3\n",
        "n_images = n_rows * n_cols\n",
        "plt.figure(figsize = (2*2*n_cols, 2*n_rows))\n",
        "for i in range(n_images):\n",
        "  plt.subplot(n_rows, 2*n_cols, 2*i+1)\n",
        "  plot_images(i, pred, tst_label, tst_image)\n",
        "  plt.subplot(n_rows, 2*n_cols, 2*i+2)\n",
        "  plot_value_array(i, pred, tst_label)"
      ],
      "execution_count": 36,
      "outputs": [
        {
          "output_type": "display_data",
          "data": {
            "image/png": "[encoded data removed]",
            "text/plain": [
              "<Figure size 864x720 with 30 Axes>"
            ]
          },
          "metadata": {
            "tags": []
          }
        }
      ]
    },
    {
      "metadata": {
        "id": "enKToIe_ecQw",
        "colab_type": "code",
        "colab": {
          "base_uri": "https://localhost:8080/",
          "height": 105
        },
        "outputId": "ebfedea9-0761-4a27-ce6a-d5c2a3eda53d"
      },
      "cell_type": "code",
      "source": [
        "# Grab an image from the test dataset\n",
        "print(tst_image[0].shape)\n",
        "img = np.array([tst_image[0]])\n",
        "print(img.shape)\n",
        "pred_single = model.predict(img)\n",
        "print(pred_single)\n",
        "print(np.argmax(pred_single))"
      ],
      "execution_count": 37,
      "outputs": [
        {
          "output_type": "stream",
          "text": [
            "(28, 28, 1)\n",
            "(1, 28, 28, 1)\n",
            "[[6.3017029e-11 2.7616286e-12 3.5454084e-07 1.0221141e-07 3.3184077e-04\n",
            "  2.7740226e-13 9.9966764e-01 8.6207820e-12 1.8254181e-13 9.0245519e-11]]\n",
            "6\n"
          ],
          "name": "stdout"
        }
      ]
    },
    {
      "metadata": {
        "id": "WSIt8fJYfdpy",
        "colab_type": "code",
        "colab": {}
      },
      "cell_type": "code",
      "source": [
        "plot_value_array(0, pred, tst_label)\n",
        "_ = plt.xticks(range(10), class_names, rotation=45)"
      ],
      "execution_count": 0,
      "outputs": []
    },
    {
      "metadata": {
        "id": "MWclp0b5fgiv",
        "colab_type": "text"
      },
      "cell_type": "markdown",
      "source": [
        "# Exercises\n",
        "\n",
        "Experiment with different models and see how the accuracy results differ. In particular change the following parameters:\n",
        "*   Set training epochs set to 1\n",
        "*   Number of neurons in the Dense layer following the Flatten one. For example, go really low (e.g. 10) in ranges up to 512 and see how accuracy changes\n",
        "*   Add additional Dense layers between the Flatten and the final Dense(10,  activation=tf.nn.softmax), experiment with different units in these layers\n",
        "*   Don't normalize the pixel values, and see the effect that has\n",
        "\n",
        "\n",
        "Remember to enable GPU to make everything run faster (Runtime -> Change runtime type -> Hardware accelerator -> GPU).\n",
        "Also, if you run into trouble, simply reset the entire environment and start from the beginning:\n",
        "*   Edit -> Clear all outputs\n",
        "*   Runtime -> Reset all runtimes"
      ]
    },
    {
      "metadata": {
        "id": "5BsTo8J1gcCF",
        "colab_type": "text"
      },
      "cell_type": "markdown",
      "source": [
        "Problem 1\n",
        "- Change the number of units in the 1st dense layer"
      ]
    },
    {
      "metadata": {
        "id": "DcG1fhmmf-mE",
        "colab_type": "code",
        "colab": {}
      },
      "cell_type": "code",
      "source": [
        "batch_size = 128\n",
        "n_epoch = 5\n",
        "dense_units = [2**i for i in range(4, 10)]\n",
        "for i, unit in enumerate(dense_units):\n",
        "  trn_dset, tst_dset = dset['train'], dset['test']\n",
        "  trn_dset, tst_dset = trn_dset.map(normalize), tst_dset.map(normalize)\n",
        "  trn_dset = trn_dset.repeat().shuffle(n_trn_dset).batch(batch_size)\n",
        "  tst_dset = tst_dset.batch(batch_size)\n",
        "  print(\">>>> The number of units in 1st layer: {}\".format(unit))\n",
        "  conv0 = tf.keras.layers.Conv2D(filters=32, kernel_size=(3,3), padding='same', \n",
        "                                 activation=tf.nn.relu, input_shape=(28,28,1))\n",
        "  pool0 = tf.keras.layers.MaxPooling2D(pool_size=(2,2), strides=2)\n",
        "  conv1 = tf.keras.layers.Conv2D(filters=64, kernel_size=(3,3), padding='same', \n",
        "                                 activation=tf.nn.relu)\n",
        "  pool1 = tf.keras.layers.MaxPooling2D(pool_size=(2,2), strides=2)\n",
        "  flat  = tf.keras.layers.Flatten()\n",
        "  dense0 = tf.keras.layers.Dense(units = unit, activation = tf.nn.relu)\n",
        "  dense1 = tf.keras.layers.Dense(units = 10, activation = tf.nn.softmax)\n",
        "  \n",
        "  model = tf.keras.Sequential([conv0, pool0, conv1, pool1, \n",
        "                               flat, dense0, dense1])\n",
        "  model.compile(optimizer = 'adam', \n",
        "                loss = 'sparse_categorical_crossentropy', \n",
        "                metrics = ['accuracy'])\n",
        "  model.fit(trn_dset, epochs=n_epoch, \n",
        "            steps_per_epoch=math.ceil(n_trn_dset/batch_size))\n",
        "  \n",
        "  tst_loss, tst_acc = model.evaluate(tst_dset, \n",
        "                                     steps=math.ceil(n_tst_dset/batch_size))\n",
        "  print(\"\\n Acc in test set: {:.2f}%\".format(100*tst_acc))\n",
        "  del conv0, pool0, conv1, flat, dense0, dense1, model"
      ],
      "execution_count": 0,
      "outputs": []
    },
    {
      "metadata": {
        "id": "_yq2DD8Ujr5J",
        "colab_type": "text"
      },
      "cell_type": "markdown",
      "source": [
        "Problem 2\n",
        "- Add additional Dense layers between the Flatten and the final Dense(10, activation=tf.nn.softmax), experiment with different units in these layers"
      ]
    },
    {
      "metadata": {
        "id": "WyJzoyULkGwg",
        "colab_type": "code",
        "colab": {}
      },
      "cell_type": "code",
      "source": [
        "dense_units = [2**i for i in range(4, 9)]\n",
        "for i, unit in enumerate(dense_units):\n",
        "  trn_dset, tst_dset = dset['train'], dset['test']\n",
        "  trn_dset, tst_dset = trn_dset.map(normalize), tst_dset.map(normalize)\n",
        "  trn_dset = trn_dset.repeat().shuffle(n_trn_dset).batch(batch_size)\n",
        "  tst_dset = tst_dset.batch(batch_size)\n",
        "  print(\">>>> The number of units in 1st layer: {}\".format(unit))\n",
        "  conv0 = tf.keras.layers.Conv2D(filters=32, kernel_size=(3,3), padding='same', \n",
        "                                 activation=tf.nn.relu, input_shape=(28,28,1))\n",
        "  pool0 = tf.keras.layers.MaxPooling2D(pool_size=(2,2), strides=2)\n",
        "  conv1 = tf.keras.layers.Conv2D(filters=64, kernel_size=(3,3), padding='same', \n",
        "                                 activation=tf.nn.relu)\n",
        "  pool1 = tf.keras.layers.MaxPooling2D(pool_size=(2,2), strides=2)\n",
        "  flat  = tf.keras.layers.Flatten()\n",
        "  dense0 = tf.keras.layers.Dense(units = 128, activation=tf.nn.relu)\n",
        "  dense1 = tf.keras.layers.Dense(units = unit, activation=tf.nn.relu)\n",
        "  dense2 = tf.keras.layers.Dense(units = 10, activation=tf.nn.softmax)\n",
        "  model = tf.keras.Sequential([conv0, pool0, conv1, pool1, \n",
        "                               flat, dense0, dense1, dense2])\n",
        "  model.compile(optimizer = 'adam', \n",
        "                loss = 'sparse_categorical_crossentropy', \n",
        "                metrics = ['accuracy'])\n",
        "  model.fit(trn_dset, epochs=n_epoch, \n",
        "            steps_per_epoch=math.ceil(n_trn_dset/batch_size))\n",
        "  tst_loss, tst_acc = model.evaluate(tst_dset, \n",
        "                                     steps=math.ceil(n_tst_dset/batch_size))\n",
        "  print(\"\\n Acc in test set: {:.2f}%\".format(100*tst_acc))\n",
        "  del conv0, pool0, conv1, flat, dense0, dense1, model"
      ],
      "execution_count": 0,
      "outputs": []
    },
    {
      "metadata": {
        "id": "5yxTl8vDrpPR",
        "colab_type": "text"
      },
      "cell_type": "markdown",
      "source": [
        "Problem 3\n",
        "- Do not normalize the pixel values"
      ]
    },
    {
      "metadata": {
        "id": "c-HGV1cPsMBd",
        "colab_type": "code",
        "colab": {
          "base_uri": "https://localhost:8080/",
          "height": 334
        },
        "outputId": "ff4a5403-2b4f-47bb-ed2e-a1096de29f51"
      },
      "cell_type": "code",
      "source": [
        "n_epoch=3\n",
        "trn_dset, tst_dset = dset['train'], dset['test']\n",
        "trn_dset = trn_dset.repeat().shuffle(n_trn_dset).batch(batch_size)\n",
        "tst_dset = tst_dset.batch(batch_size)\n",
        "print(\">>>> The number of units in 1st layer: {}\".format(unit))\n",
        "conv0 = tf.keras.layers.Conv2D(filters=32, kernel_size=(3,3), padding='same', \n",
        "                               activation = tf.nn.relu, input_shape=(28,28,1))\n",
        "pool0 = tf.keras.layers.MaxPooling2D(pool_size=(2,2), strides=2)\n",
        "conv1 = tf.keras.layers.Conv2D(filters=64, kernel_size=(3,3), padding='same', \n",
        "                               activation = tf.nn.relu)\n",
        "pool1 = tf.keras.layers.MaxPooling2D(pool_size=(2,2), strides=2)\n",
        "flat  = tf.keras.layers.Flatten()\n",
        "dense0 = tf.keras.layers.Dense(units=128, activation = tf.nn.relu)\n",
        "dense1 = tf.keras.layers.Dense(units=10, activation = tf.nn.softmax)\n",
        "model0 = tf.keras.Sequential([conv0, pool0, conv1, pool1, flat, dense0, dense1])\n",
        "model0.compile(optimizer = 'adam', \n",
        "               loss = 'sparse_categorical_crossentropy', \n",
        "               metrics = ['accuracy'])\n",
        "model0.fit(trn_dset, epochs=n_epoch, \n",
        "           steps_per_epoch=math.ceil(n_trn_dset/batch_size))\n",
        "tst_loss_wo_norm, tst_acc_wo_norm = model0.evaluate(tst_dset, \n",
        "                                                    steps = math.ceil(n_tst_dset/batch_size))\n",
        "\n",
        "del conv0, pool0, conv1, pool1, flat, dense0, dense1\n",
        "\n",
        "trn_dset, tst_dset = dset['train'], dset['test']\n",
        "trn_dset, tst_dset = trn_dset.map(normalize), tst_dset.map(normalize)\n",
        "trn_dset = trn_dset.repeat().shuffle(n_trn_dset).batch(batch_size)\n",
        "tst_dset = tst_dset.batch(batch_size)\n",
        "print(\">>>> The number of units in 1st layer: {}\".format(unit))\n",
        "conv0 = tf.keras.layers.Conv2D(filters=32, kernel_size=(3,3), padding='same', \n",
        "                               activation = tf.nn.relu, input_shape=(28,28,1))\n",
        "pool0 = tf.keras.layers.MaxPooling2D(pool_size=(2,2), strides=2)\n",
        "conv1 = tf.keras.layers.Conv2D(filters=64, kernel_size=(3,3), padding='same', \n",
        "                               activation = tf.nn.relu)\n",
        "pool1 = tf.keras.layers.MaxPooling2D(pool_size=(2,2), strides=2)\n",
        "flat  = tf.keras.layers.Flatten()\n",
        "dense0 = tf.keras.layers.Dense(units=128, activation = tf.nn.relu)\n",
        "dense1 = tf.keras.layers.Dense(units=10, activation = tf.nn.softmax)\n",
        "model1 = tf.keras.Sequential([conv0, pool0, conv1, pool1, \n",
        "                              flat, dense0, dense1])\n",
        "model1.compile(optimizer = 'adam', \n",
        "                loss = 'sparse_categorical_crossentropy', \n",
        "                metrics = ['accuracy'])\n",
        "model1.fit(trn_dset, epochs=n_epoch, \n",
        "           steps_per_epoch=math.ceil(n_trn_dset/batch_size))\n",
        "tst_loss, tst_acc = model1.evaluate(tst_dset, steps = \n",
        "                                    math.ceil(n_tst_dset/batch_size))\n",
        "print('With normalize: {:.2f}%'.format(tst_acc*100))\n",
        "print('Without normalize: {:.2f}%'.format(tst_acc_wo_norm*100))"
      ],
      "execution_count": 59,
      "outputs": [
        {
          "output_type": "stream",
          "text": [
            ">>>> The number of units in 1st layer: 256\n",
            "Epoch 1/3\n",
            "469/469 [==============================] - 29s 61ms/step - loss: 14.4976 - acc: 0.1003\n",
            "Epoch 2/3\n",
            "469/469 [==============================] - 15s 33ms/step - loss: 14.5074 - acc: 0.0999\n",
            "Epoch 3/3\n",
            "469/469 [==============================] - 15s 32ms/step - loss: 14.4935 - acc: 0.1008\n",
            "79/79 [==============================] - 4s 51ms/step - loss: 14.5130 - acc: 0.1000\n",
            ">>>> The number of units in 1st layer: 256\n",
            "Epoch 1/3\n",
            "469/469 [==============================] - 34s 72ms/step - loss: 0.4877 - acc: 0.8241\n",
            "Epoch 2/3\n",
            "469/469 [==============================] - 19s 40ms/step - loss: 0.3114 - acc: 0.8896\n",
            "Epoch 3/3\n",
            "469/469 [==============================] - 20s 43ms/step - loss: 0.2662 - acc: 0.9036\n",
            "79/79 [==============================] - 4s 56ms/step - loss: 0.2846 - acc: 0.8964\n",
            "With normalize: 89.64\n",
            "Without normalize: 10.00\n"
          ],
          "name": "stdout"
        }
      ]
    },
    {
      "metadata": {
        "id": "m0y_UnNtvZ-N",
        "colab_type": "code",
        "colab": {}
      },
      "cell_type": "code",
      "source": [
        ""
      ],
      "execution_count": 0,
      "outputs": []
    }
  ]
}